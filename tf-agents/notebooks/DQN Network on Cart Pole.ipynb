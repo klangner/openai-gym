{
 "cells": [
  {
   "cell_type": "markdown",
   "metadata": {},
   "source": [
    "# DQN Network on Cart Pole"
   ]
  },
  {
   "cell_type": "markdown",
   "metadata": {},
   "source": [
    "This example shows how to train a [DQN (Deep Q Networks)](https://storage.googleapis.com/deepmind-media/dqn/DQNNaturePaper.pdf) agent on the Cartpole environment using the TF-Agents library.\n",
    "\n",
    "![Cartpole environment](images/cartpole.png)\n",
    "\n",
    "We will walk you through all the components in a Reinforcement Learning (RL) pipeline for training, evaluation and data collection."
   ]
  },
  {
   "cell_type": "markdown",
   "metadata": {},
   "source": [
    "## Initialize"
   ]
  },
  {
   "cell_type": "code",
   "execution_count": 4,
   "metadata": {},
   "outputs": [],
   "source": [
    "from __future__ import absolute_import\n",
    "from __future__ import division\n",
    "from __future__ import print_function\n",
    "\n",
    "import base64\n",
    "import imageio\n",
    "import IPython\n",
    "import matplotlib\n",
    "import matplotlib.pyplot as plt\n",
    "import PIL.Image\n",
    "import pyvirtualdisplay\n",
    "\n",
    "import tensorflow as tf\n",
    "\n",
    "from tf_agents.agents.dqn import dqn_agent\n",
    "from tf_agents.drivers import dynamic_step_driver\n",
    "from tf_agents.environments import suite_gym\n",
    "from tf_agents.environments import tf_py_environment\n",
    "from tf_agents.eval import metric_utils\n",
    "from tf_agents.metrics import tf_metrics\n",
    "from tf_agents.networks import q_network\n",
    "from tf_agents.policies import random_tf_policy\n",
    "from tf_agents.replay_buffers import tf_uniform_replay_buffer\n",
    "from tf_agents.trajectories import trajectory\n",
    "from tf_agents.utils import common\n",
    "\n",
    "tf.compat.v1.enable_v2_behavior()\n",
    "\n",
    "\n",
    "# Set up a virtual display for rendering OpenAI gym environments.\n",
    "# display = pyvirtualdisplay.Display(visible=0, size=(1400, 900)).start()"
   ]
  },
  {
   "cell_type": "markdown",
   "metadata": {},
   "source": [
    "## Hyperparameters"
   ]
  },
  {
   "cell_type": "code",
   "execution_count": 6,
   "metadata": {},
   "outputs": [],
   "source": [
    "env_name = 'CartPole-v0'\n",
    "num_iterations = 20000  \n",
    "\n",
    "initial_collect_steps = 1000\n",
    "collect_steps_per_iteration = 1\n",
    "replay_buffer_capacity = 100000\n",
    "\n",
    "fc_layer_params = (100,)\n",
    "\n",
    "batch_size = 64 \n",
    "learning_rate = 1e-3\n",
    "log_interval = 200  \n",
    "\n",
    "num_eval_episodes = 10\n",
    "eval_interval = 1000  "
   ]
  },
  {
   "cell_type": "markdown",
   "metadata": {},
   "source": [
    "## Environment\n",
    "\n",
    "Environments in RL represent the task or problem that we are trying to solve. Standard environments can be easily created in TF-Agents using `suites`. We have different `suites` for loading environments from sources such as the OpenAI Gym, Atari, DM Control, etc., given a string environment name.\n",
    "\n",
    "Now let us load the CartPole environment from the OpenAI Gym suite. "
   ]
  },
  {
   "cell_type": "code",
   "execution_count": 7,
   "metadata": {},
   "outputs": [],
   "source": [
    "env = suite_gym.load(env_name)"
   ]
  },
  {
   "cell_type": "markdown",
   "metadata": {},
   "source": [
    "Render this environment to check how it looks."
   ]
  },
  {
   "cell_type": "code",
   "execution_count": 8,
   "metadata": {},
   "outputs": [
    {
     "data": {
      "image/png": "[encoded data removed]",
      "text/plain": [
       "<PIL.Image.Image image mode=RGB size=1200x800 at 0x14E967D50>"
      ]
     },
     "execution_count": 8,
     "metadata": {},
     "output_type": "execute_result"
    }
   ],
   "source": [
    "env.reset()\n",
    "PIL.Image.fromarray(env.render())"
   ]
  },
  {
   "cell_type": "markdown",
   "metadata": {},
   "source": [
    "The `time_step = environment.step(action)` statement takes `action` in the environment.  The `TimeStep` tuple returned contains the environment's next observation and reward for that action. The `time_step_spec()` and `action_spec()` methods in the environment return the specifications (types, shapes, bounds) of the `time_step` and `action` respectively."
   ]
  },
  {
   "cell_type": "code",
   "execution_count": 9,
   "metadata": {},
   "outputs": [
    {
     "name": "stdout",
     "output_type": "stream",
     "text": [
      "Observation Spec:\n",
      "BoundedArraySpec(shape=(4,), dtype=dtype('float32'), name=None, minimum=[-4.8000002e+00 -3.4028235e+38 -4.1887903e-01 -3.4028235e+38], maximum=[4.8000002e+00 3.4028235e+38 4.1887903e-01 3.4028235e+38])\n",
      "Action Spec:\n",
      "BoundedArraySpec(shape=(), dtype=dtype('int64'), name=None, minimum=0, maximum=1)\n"
     ]
    }
   ],
   "source": [
    "print('Observation Spec:')\n",
    "print(env.time_step_spec().observation)\n",
    "print('Action Spec:')\n",
    "print(env.action_spec())"
   ]
  },
  {
   "cell_type": "markdown",
   "metadata": {},
   "source": [
    "So, we see that observation is an array of 4 floats: the position and velocity of the cart, and the angular position and velocity of the pole. Since only two actions are possible (move left or move right), the `action_spec` is a scalar where 0 means \"move left\" and 1 means \"move right.\""
   ]
  },
  {
   "cell_type": "code",
   "execution_count": 10,
   "metadata": {},
   "outputs": [
    {
     "name": "stdout",
     "output_type": "stream",
     "text": [
      "Time step:\n",
      "TimeStep(step_type=array(0, dtype=int32), reward=array(0., dtype=float32), discount=array(1., dtype=float32), observation=array([ 0.00653415, -0.00891336,  0.02844084, -0.01401551], dtype=float32))\n",
      "Next time step:\n",
      "TimeStep(step_type=array(1, dtype=int32), reward=array(1., dtype=float32), discount=array(1., dtype=float32), observation=array([ 0.00635588,  0.18578942,  0.02816053, -0.2975911 ], dtype=float32))\n"
     ]
    }
   ],
   "source": [
    "time_step = env.reset()\n",
    "print('Time step:')\n",
    "print(time_step)\n",
    "\n",
    "action = 1\n",
    "\n",
    "next_time_step = env.step(action)\n",
    "print('Next time step:')\n",
    "print(next_time_step)"
   ]
  },
  {
   "cell_type": "markdown",
   "metadata": {},
   "source": [
    "Usually we create two environments: one for training and one for evaluation. Most environments are written in pure python, but they can be easily converted to TensorFlow using the `TFPyEnvironment` wrapper. The original environment's API uses numpy arrays, the `TFPyEnvironment` converts these to/from `Tensors` for you to more easily interact with TensorFlow policies and agents."
   ]
  },
  {
   "cell_type": "code",
   "execution_count": 11,
   "metadata": {},
   "outputs": [],
   "source": [
    "train_py_env = suite_gym.load(env_name)\n",
    "eval_py_env = suite_gym.load(env_name)\n",
    "\n",
    "train_env = tf_py_environment.TFPyEnvironment(train_py_env)\n",
    "eval_env = tf_py_environment.TFPyEnvironment(eval_py_env)"
   ]
  },
  {
   "cell_type": "markdown",
   "metadata": {},
   "source": [
    "## Agent\n",
    "\n",
    "The algorithm that we use to solve an RL problem is represented as an `Agent`. In addition to the DQN agent, TF-Agents provides standard implementations of a variety of `Agents` such as [REINFORCE](http://www-anw.cs.umass.edu/~barto/courses/cs687/williams92simple.pdf), [DDPG](https://arxiv.org/pdf/1509.02971.pdf), [TD3](https://arxiv.org/pdf/1802.09477.pdf), [PPO](https://arxiv.org/abs/1707.06347) and [SAC](https://arxiv.org/abs/1801.01290).\n",
    "\n",
    "The DQN agent can be used in any environment which has a discrete action space. To create a DQN Agent, we first need a `Q-Network` that can learn to predict `Q-Values` (expected return) for all actions given an observation from the environment. \n",
    "\n",
    "We can easily create a `Q-Network` using the specs of the observations and actions. We can specify the layers in the network which, in this example, is the `fc_layer_params` argument set to a tuple of `ints` representing the sizes of each hidden layer (see the Hyperparameters section above)."
   ]
  },
  {
   "cell_type": "code",
   "execution_count": 12,
   "metadata": {},
   "outputs": [],
   "source": [
    "q_net = q_network.QNetwork(\n",
    "    train_env.observation_spec(),\n",
    "    train_env.action_spec(),\n",
    "    fc_layer_params=fc_layer_params)"
   ]
  },
  {
   "cell_type": "markdown",
   "metadata": {},
   "source": [
    "We also need an `optimizer` to train the network we just created, and a `train_step_counter` variable to keep track of how many times the network was updated."
   ]
  },
  {
   "cell_type": "code",
   "execution_count": 13,
   "metadata": {},
   "outputs": [],
   "source": [
    "optimizer = tf.compat.v1.train.AdamOptimizer(learning_rate=learning_rate)\n",
    "\n",
    "train_step_counter = tf.compat.v2.Variable(0)\n",
    "\n",
    "tf_agent = dqn_agent.DqnAgent(\n",
    "    train_env.time_step_spec(),\n",
    "    train_env.action_spec(),\n",
    "    q_network=q_net,\n",
    "    optimizer=optimizer,\n",
    "    td_errors_loss_fn=dqn_agent.element_wise_squared_loss,\n",
    "    train_step_counter=train_step_counter)\n",
    "tf_agent.initialize()"
   ]
  },
  {
   "cell_type": "markdown",
   "metadata": {},
   "source": [
    "## Policies\n",
    "\n",
    "In TF-Agents, policies represent the standard notion of policies in RL: given a `time_step` produce an action or a distribution over actions. The main method is `policy_step = policy.step(time_step)` where `policy_step` is a named tuple `PolicyStep(action, state, info)`.  The `policy_step.action` is the `action` to be applied to the environment, `state` represents the state for stateful (RNN) policies and `info` may contain auxiliary information such as log probabilities of the actions. \n",
    "\n",
    "Agents contain two policies: the main policy that is used for evaluation/deployment (agent.policy) and another policy that is used for data collection (agent.collect_policy)."
   ]
  },
  {
   "cell_type": "code",
   "execution_count": 14,
   "metadata": {},
   "outputs": [],
   "source": [
    "eval_policy = tf_agent.policy\n",
    "collect_policy = tf_agent.collect_policy"
   ]
  },
  {
   "cell_type": "markdown",
   "metadata": {},
   "source": [
    "We can also independently create policies that are not part of an agent. For example, a random policy:"
   ]
  },
  {
   "cell_type": "code",
   "execution_count": 15,
   "metadata": {},
   "outputs": [],
   "source": [
    "random_policy = random_tf_policy.RandomTFPolicy(train_env.time_step_spec(),\n",
    "                                                train_env.action_spec())"
   ]
  },
  {
   "cell_type": "markdown",
   "metadata": {},
   "source": [
    "## Metrics and Evaluation\n",
    "\n",
    "The most common metric used to evaluate a policy is the average return. The return is the sum of rewards obtained while running a policy in an environment for an episode, and we usually average this over a few episodes. We can compute the average return metric as follows."
   ]
  },
  {
   "cell_type": "code",
   "execution_count": 21,
   "metadata": {},
   "outputs": [
    {
     "data": {
      "text/plain": [
       "25.0"
      ]
     },
     "execution_count": 21,
     "metadata": {},
     "output_type": "execute_result"
    }
   ],
   "source": [
    "#@test {\"skip\": true}\n",
    "def compute_avg_return(environment, policy, num_episodes=10):\n",
    "\n",
    "    total_return = 0.0\n",
    "    for _ in range(num_episodes):\n",
    "\n",
    "        time_step = environment.reset()\n",
    "        episode_return = 0.0\n",
    "\n",
    "        while not time_step.is_last():\n",
    "            action_step = policy.action(time_step)\n",
    "            time_step = environment.step(action_step.action)\n",
    "            episode_return += time_step.reward\n",
    "        total_return += episode_return\n",
    "\n",
    "    avg_return = total_return / num_episodes\n",
    "    return avg_return.numpy()[0]\n",
    "\n",
    "\n",
    "compute_avg_return(eval_env, random_policy, num_eval_episodes)\n",
    "\n",
    "# Please also see the metrics module for standard implementations of different\n",
    "# metrics."
   ]
  },
  {
   "cell_type": "markdown",
   "metadata": {},
   "source": [
    "## Replay Buffer\n",
    "\n",
    "In order to keep track of the data collected from the environment, we will use the TFUniformReplayBuffer. This replay buffer is constructed using specs describing the tensors that are to be stored, which can be obtained from the agent using `tf_agent.collect_data_spec`."
   ]
  },
  {
   "cell_type": "code",
   "execution_count": 22,
   "metadata": {},
   "outputs": [],
   "source": [
    "replay_buffer = tf_uniform_replay_buffer.TFUniformReplayBuffer(\n",
    "    data_spec=tf_agent.collect_data_spec,\n",
    "    batch_size=train_env.batch_size,\n",
    "    max_length=replay_buffer_capacity)"
   ]
  },
  {
   "cell_type": "markdown",
   "metadata": {},
   "source": [
    "For most agents, the `collect_data_spec` is a `Trajectory` named tuple containing the observation, action, reward etc."
   ]
  },
  {
   "cell_type": "markdown",
   "metadata": {},
   "source": [
    "## Data Collection\n",
    "\n",
    "Now let us execute the random policy in the environment for a few steps and record the data (observations, actions, rewards etc) in the replay buffer."
   ]
  },
  {
   "cell_type": "code",
   "execution_count": 23,
   "metadata": {},
   "outputs": [],
   "source": [
    "#@test {\"skip\": true}\n",
    "def collect_step(environment, policy):\n",
    "    time_step = environment.current_time_step() \n",
    "    action_step = policy.action(time_step)\n",
    "    next_time_step = environment.step(action_step.action)\n",
    "    traj = trajectory.from_transition(time_step, action_step, next_time_step)\n",
    "\n",
    "    # Add trajectory to the replay buffer\n",
    "    replay_buffer.add_batch(traj)\n",
    "\n",
    "\n",
    "for _ in range(initial_collect_steps):\n",
    "    collect_step(train_env, random_policy)\n",
    "\n",
    "# This loop is so common in RL, that we provide standard implementations of\n",
    "# these. For more details see the drivers module."
   ]
  },
  {
   "cell_type": "markdown",
   "metadata": {},
   "source": [
    "In order to sample data from the replay buffer, we will create a `tf.data` pipeline which we can feed to the agent for training later. We can specify the `sample_batch_size` to configure the number of items sampled from the replay buffer. We can also optimize the data pipline using parallel calls and prefetching.\n",
    "\n",
    "In order to save space, we only store the current observation in each row of the replay buffer. But since the DQN Agent needs both the current and next observation to compute the loss, we always sample two adjacent rows for each item in the batch by setting `num_steps=2`."
   ]
  },
  {
   "cell_type": "code",
   "execution_count": 24,
   "metadata": {},
   "outputs": [
    {
     "name": "stderr",
     "output_type": "stream",
     "text": [
      "W0727 22:17:26.595642 4679452096 deprecation.py:323] From /Users/klangner/workspace/python/reinforcement-learning/tf-agents/venv/lib/python3.7/site-packages/tensorflow_core/python/autograph/impl/api.py:357: where (from tensorflow.python.ops.array_ops) is deprecated and will be removed in a future version.\n",
      "Instructions for updating:\n",
      "Use tf.where in 2.0, which has the same broadcast rule as np.where\n"
     ]
    }
   ],
   "source": [
    "# Dataset generates trajectories with shape [Bx2x...]\n",
    "dataset = replay_buffer.as_dataset(\n",
    "    num_parallel_calls=3, sample_batch_size=batch_size, num_steps=2).prefetch(3)\n",
    "\n",
    "iterator = iter(dataset)"
   ]
  },
  {
   "cell_type": "markdown",
   "metadata": {},
   "source": [
    "## Training the agent\n",
    "\n",
    "The training loop involves both collecting data from the environment and optimizing the agent's networks. Along the way, we will occasionally evaluate the agent's policy to see how we are doing.\n",
    "\n",
    "The following will take ~5 minutes to run."
   ]
  },
  {
   "cell_type": "code",
   "execution_count": 26,
   "metadata": {},
   "outputs": [
    {
     "name": "stderr",
     "output_type": "stream",
     "text": [
      "W0727 22:18:58.121036 4679452096 deprecation.py:323] From /Users/klangner/workspace/python/reinforcement-learning/tf-agents/venv/lib/python3.7/site-packages/tensorflow_core/python/training/optimizer.py:172: BaseResourceVariable.constraint (from tensorflow.python.ops.resource_variable_ops) is deprecated and will be removed in a future version.\n",
      "Instructions for updating:\n",
      "Apply a constraint manually following the optimizer update step.\n"
     ]
    },
    {
     "name": "stdout",
     "output_type": "stream",
     "text": [
      "step = 200: loss = 27.722763061523438\n",
      "step = 400: loss = 98.18997192382812\n",
      "step = 600: loss = 49.97109603881836\n",
      "step = 800: loss = 64.76266479492188\n",
      "step = 1000: loss = 45.182777404785156\n",
      "step = 1000: Average Return = 31.200000762939453\n",
      "step = 1200: loss = 14.253926277160645\n",
      "step = 1400: loss = 14.05331802368164\n",
      "step = 1600: loss = 43.69612503051758\n",
      "step = 1800: loss = 29.191463470458984\n",
      "step = 2000: loss = 12.413993835449219\n",
      "step = 2000: Average Return = 15.300000190734863\n",
      "step = 2200: loss = 23.15182113647461\n",
      "step = 2400: loss = 43.637351989746094\n",
      "step = 2600: loss = 14.585440635681152\n",
      "step = 2800: loss = 49.860076904296875\n",
      "step = 3000: loss = 11.265180587768555\n",
      "step = 3000: Average Return = 31.100000381469727\n",
      "step = 3200: loss = 82.9775619506836\n",
      "step = 3400: loss = 70.42363739013672\n",
      "step = 3600: loss = 21.05856704711914\n",
      "step = 3800: loss = 32.40353012084961\n",
      "step = 4000: loss = 73.78582763671875\n",
      "step = 4000: Average Return = 48.70000076293945\n",
      "step = 4200: loss = 93.68309020996094\n",
      "step = 4400: loss = 39.35789489746094\n",
      "step = 4600: loss = 134.52621459960938\n",
      "step = 4800: loss = 4.486105918884277\n",
      "step = 5000: loss = 40.19261932373047\n",
      "step = 5000: Average Return = 78.4000015258789\n",
      "step = 5200: loss = 70.56611633300781\n",
      "step = 5400: loss = 92.92540740966797\n",
      "step = 5600: loss = 141.68771362304688\n",
      "step = 5800: loss = 56.297359466552734\n",
      "step = 6000: loss = 80.05833435058594\n",
      "step = 6000: Average Return = 127.69999694824219\n",
      "step = 6200: loss = 42.982032775878906\n",
      "step = 6400: loss = 11.125673294067383\n",
      "step = 6600: loss = 131.83184814453125\n",
      "step = 6800: loss = 201.61087036132812\n",
      "step = 7000: loss = 19.186508178710938\n",
      "step = 7000: Average Return = 152.6999969482422\n",
      "step = 7200: loss = 8.483512878417969\n",
      "step = 7400: loss = 124.3021240234375\n",
      "step = 7600: loss = 86.40044403076172\n",
      "step = 7800: loss = 183.78863525390625\n",
      "step = 8000: loss = 93.00878143310547\n",
      "step = 8000: Average Return = 138.39999389648438\n",
      "step = 8200: loss = 110.13574981689453\n",
      "step = 8400: loss = 142.10699462890625\n",
      "step = 8600: loss = 51.99155807495117\n",
      "step = 8800: loss = 95.74725341796875\n",
      "step = 9000: loss = 164.88111877441406\n",
      "step = 9000: Average Return = 193.8000030517578\n",
      "step = 9200: loss = 206.3945770263672\n",
      "step = 9400: loss = 126.70928192138672\n",
      "step = 9600: loss = 182.15184020996094\n",
      "step = 9800: loss = 173.24867248535156\n",
      "step = 10000: loss = 857.5643310546875\n",
      "step = 10000: Average Return = 163.89999389648438\n",
      "step = 10200: loss = 69.3555908203125\n",
      "step = 10400: loss = 18.879032135009766\n",
      "step = 10600: loss = 788.111328125\n",
      "step = 10800: loss = 425.55035400390625\n",
      "step = 11000: loss = 193.9125213623047\n",
      "step = 11000: Average Return = 200.0\n",
      "step = 11200: loss = 230.31918334960938\n",
      "step = 11400: loss = 353.0274963378906\n",
      "step = 11600: loss = 171.01358032226562\n",
      "step = 11800: loss = 456.7513732910156\n",
      "step = 12000: loss = 272.99639892578125\n",
      "step = 12000: Average Return = 200.0\n",
      "step = 12200: loss = 108.01998901367188\n",
      "step = 12400: loss = 18.57093620300293\n",
      "step = 12600: loss = 31.439838409423828\n",
      "step = 12800: loss = 21.319713592529297\n",
      "step = 13000: loss = 590.8034057617188\n",
      "step = 13000: Average Return = 195.1999969482422\n",
      "step = 13200: loss = 1120.7890625\n",
      "step = 13400: loss = 262.8751525878906\n",
      "step = 13600: loss = 20.670669555664062\n",
      "step = 13800: loss = 1237.0885009765625\n",
      "step = 14000: loss = 45.386531829833984\n",
      "step = 14000: Average Return = 200.0\n",
      "step = 14200: loss = 166.82858276367188\n",
      "step = 14400: loss = 51.02879333496094\n",
      "step = 14600: loss = 30.043128967285156\n",
      "step = 14800: loss = 26.07569122314453\n",
      "step = 15000: loss = 23.9857177734375\n",
      "step = 15000: Average Return = 200.0\n",
      "step = 15200: loss = 39.831214904785156\n",
      "step = 15400: loss = 209.1138916015625\n",
      "step = 15600: loss = 1667.824951171875\n",
      "step = 15800: loss = 784.741455078125\n",
      "step = 16000: loss = 19.55371856689453\n",
      "step = 16000: Average Return = 200.0\n",
      "step = 16200: loss = 205.75241088867188\n",
      "step = 16400: loss = 1357.1884765625\n",
      "step = 16600: loss = 51.806732177734375\n",
      "step = 16800: loss = 80.78538513183594\n",
      "step = 17000: loss = 63.96535873413086\n",
      "step = 17000: Average Return = 200.0\n",
      "step = 17200: loss = 35.695945739746094\n",
      "step = 17400: loss = 82.14643859863281\n",
      "step = 17600: loss = 60.671234130859375\n",
      "step = 17800: loss = 133.31588745117188\n",
      "step = 18000: loss = 325.7327880859375\n",
      "step = 18000: Average Return = 200.0\n",
      "step = 18200: loss = 395.17047119140625\n",
      "step = 18400: loss = 127.80044555664062\n",
      "step = 18600: loss = 1370.98583984375\n",
      "step = 18800: loss = 122.17491912841797\n",
      "step = 19000: loss = 94.28274536132812\n",
      "step = 19000: Average Return = 200.0\n",
      "step = 19200: loss = 2622.1982421875\n",
      "step = 19400: loss = 1680.338623046875\n",
      "step = 19600: loss = 56.729347229003906\n",
      "step = 19800: loss = 1631.570068359375\n",
      "step = 20000: loss = 1002.0393676757812\n",
      "step = 20000: Average Return = 200.0\n"
     ]
    }
   ],
   "source": [
    "# (Optional) Optimize by wrapping some of the code in a graph using TF function.\n",
    "tf_agent.train = common.function(tf_agent.train)\n",
    "\n",
    "# Reset the train step\n",
    "tf_agent.train_step_counter.assign(0)\n",
    "\n",
    "# Evaluate the agent's policy once before training.\n",
    "avg_return = compute_avg_return(eval_env, tf_agent.policy, num_eval_episodes)\n",
    "returns = [avg_return]\n",
    "\n",
    "for _ in range(num_iterations):\n",
    "\n",
    "    # Collect a few steps using collect_policy and save to the replay buffer.\n",
    "    for _ in range(collect_steps_per_iteration):\n",
    "        collect_step(train_env, tf_agent.collect_policy)\n",
    "\n",
    "    # Sample a batch of data from the buffer and update the agent's network.\n",
    "    experience, unused_info = next(iterator)\n",
    "    train_loss = tf_agent.train(experience)\n",
    "\n",
    "    step = tf_agent.train_step_counter.numpy()\n",
    "\n",
    "    if step % log_interval == 0:\n",
    "        print('step = {0}: loss = {1}'.format(step, train_loss.loss))\n",
    "\n",
    "    if step % eval_interval == 0:\n",
    "        avg_return = compute_avg_return(eval_env, tf_agent.policy, num_eval_episodes)\n",
    "        print('step = {0}: Average Return = {1}'.format(step, avg_return))\n",
    "        returns.append(avg_return)"
   ]
  },
  {
   "cell_type": "markdown",
   "metadata": {},
   "source": [
    "## Visualization"
   ]
  },
  {
   "cell_type": "markdown",
   "metadata": {},
   "source": [
    "### Plots\n",
    "\n",
    "We can plot return vs global steps to see the performance of our agent. In `Cartpole-v0`, the environment gives a reward of +1 for every time step the pole stays up, and since the maximum number of steps is 200, the maximum possible return is also 200."
   ]
  },
  {
   "cell_type": "code",
   "execution_count": 27,
   "metadata": {},
   "outputs": [
    {
     "data": {
      "text/plain": [
       "(-0.2349997997283939, 250)"
      ]
     },
     "execution_count": 27,
     "metadata": {},
     "output_type": "execute_result"
    },
    {
     "data": {
      "image/png": "[encoded data removed]",
      "text/plain": [
       "<Figure size 432x288 with 1 Axes>"
      ]
     },
     "metadata": {
      "needs_background": "light"
     },
     "output_type": "display_data"
    }
   ],
   "source": [
    "steps = range(0, num_iterations + 1, eval_interval)\n",
    "plt.plot(steps, returns)\n",
    "plt.ylabel('Average Return')\n",
    "plt.xlabel('Step')\n",
    "plt.ylim(top=250)"
   ]
  },
  {
   "cell_type": "markdown",
   "metadata": {},
   "source": [
    "### Videos\n",
    "It is helpful to visualize the performance of an agent by rendering the environment at each step. Before we do that, let us first create a function to embed videos in this colab."
   ]
  },
  {
   "cell_type": "code",
   "execution_count": 29,
   "metadata": {},
   "outputs": [],
   "source": [
    "def embed_mp4(filename):\n",
    "    \"\"\"Embeds an mp4 file in the notebook.\"\"\"\n",
    "    video = open(filename,'rb').read()\n",
    "    b64 = base64.b64encode(video)\n",
    "    tag = '''\n",
    "    <video width=\"640\" height=\"480\" controls>\n",
    "        <source src=\"data:video/mp4;base64,{0}\" type=\"video/mp4\">\n",
    "        Your browser does not support the video tag.\n",
    "    </video>'''.format(b64.decode())\n",
    "\n",
    "    return IPython.display.HTML(tag)"
   ]
  },
  {
   "cell_type": "markdown",
   "metadata": {},
   "source": [
    "The following code visualizes the agent's policy for a few episodes:"
   ]
  },
  {
   "cell_type": "code",
   "execution_count": 31,
   "metadata": {},
   "outputs": [
    {
     "data": {
      "text/html": [
       "\n",
       "    <video width=\"640\" height=\"480\" controls>\n",
       "        <source src=\"data:video/mp4;base64,AAAAIGZ0eXBpc29tAAACAGlzb21pc28yYXZjMW1wNDEAAAAIZnJlZQAAxU5tZGF0AAACrwYF//+r3EXpvebZSLeWLNgg2SPu73gyNjQgLSBjb3JlIDE1NSByMjkxNyAwYTg0ZDk4IC0gSC4yNjQvTVBFRy00IEFWQyBjb2RlYyAtIENvcHlsZWZ0IDIwMDMtMjAxOCAtIGh0dHA6Ly93d3cudmlkZW9sYW4ub3JnL3gyNjQuaHRtbCAtIG9wdGlvbnM6IGNhYmFjPTEgcmVmPTMgZGVibG9jaz0xOjA6MCBhbmFseXNlPTB4MzoweDExMyBtZT1oZXggc3VibWU9NyBwc3k9MSBwc3lfcmQ9MS4wMDowLjAwIG1peGVkX3JlZj0xIG1lX3JhbmdlPTE2IGNocm9tYV9tZT0xIHRyZWxsaXM9MSA4eDhkY3Q9MSBjcW09MCBkZWFkem9uZT0yMSwxMSBmYXN0X3Bza2lwPTEgY2hyb21hX3FwX29mZnNldD0tMiB0aHJlYWRzPTE4IGxvb2thaGVhZF90aHJlYWRzPTMgc2xpY2VkX3RocmVhZHM9MCBucj0wIGRlY2ltYXRlPTEgaW50ZXJsYWNlZD0wIGJsdXJheV9jb21wYXQ9MCBjb25zdHJhaW5lZF9pbnRyYT0wIGJmcmFtZXM9MyBiX3B5cmFtaWQ9MiBiX2FkYXB0PTEgYl9iaWFzPTAgZGlyZWN0PTEgd2VpZ2h0Yj0xIG9wZW5fZ29wPTAgd2VpZ2h0cD0yIGtleWludD0yNTAga2V5aW50X21pbj0yNSBzY2VuZWN1dD00MCBpbnRyYV9yZWZyZXNoPTAgcmNfbG9va2FoZWFkPTQwIHJjPWNyZiBtYnRyZWU9MSBjcmY9MjUuMCBxY29tcD0wLjYwIHFwbWluPTAgcXBtYXg9NjkgcXBzdGVwPTQgaXBfcmF0aW89MS40MCBhcT0xOjEuMDAAgAAAAppliIQAL//+9bF8CmrJ84oM6DIu4Zckya62IuJtAMAAAAMAAAMAAAMAAApDMwg6NfpkldQAAAMAAAScAAqIACkAAQcACQgARsAC8AAlgAHiABfAAbQAGKACEAAAAwAAAwAAAwAAAwAAAwAAAwAAAwAAAwD+g6+DYNMABlit2qrCt/dwSfgUf1/w/1Qd6mq1wkiBZwqmb0UZBRoJpJot5NhQ5tjk+AABsoIoABE0AAREXtJ6cn/2mOtlJ0MvxNgAAQHcABMOwAGHwACfozc8/9Y7/hzL6t76voO6OqQYABFt6Xo1ulY25CF02HQfiNwABV3qdlbn96ZSeQdbRFTaMZZzYbAzHl5ooVsz8XzoLYsx1O4AAQTYABfAAAMqQAHiyuLLJn4MPQdYmlVAACFaREb3ISD4T45LHpjU3BgtptvfLqMR0lbRflgYSfZJdAP28mTFq5plYWOVvqYdhtMEfST/9QUV2z7AwLkL9OBEXmqh5zXsz4+Vcrvr43TW0032sCFmz4f5sl4TqsAAADZd4XqtbsZK11urdA7z5HCY8+icfIUXVEzc0K7T8PHJZzM6U22OD4GfS0Ejh3S9LVc9xa5TCoErrxmikC3TDFqZXmUtkcRDIE94BiK+lcJIBjpsYDgt7yB8gbuRfOFDr0+dlOIKGIX4L16dPrABdm/OzpnhnkMoF9z+e/0HkOZvCQvaVfK3JA6BqocoyLOTbGEDAIhSVYYvtZPPTzcWSv3N7oEb9dpI6qI00dPUvLat0AAABj+laVADmbEEFi/ZuAAXgDnglVamAtokGHEksOUnkIdZstp49JDU1jf/fB1xUyXTD7XPEkAAAAMBZwAAAwAAAwAAAwAAAwAAAwAAAwAAAwAAAwAAAwAAAwAAcUEAAACVQZokbEL//fEAAAMAAAMAAAMAABWLH4YAIj6xkTI7SIzYK5KHA9tUuy2f1fLn03qWAdSwostV3BJEw5rhhn8dntlQcmpOKTr6DSAYbQvHPNzIiHAOv+/C+HzCmy/lbn+kceZXhlyu7S6vLlDBZ4dhvJ4A5Yj4fy0jgzNchxfa4lGZySr1rVMsH6c7Su6MG139YAAAHHAAAABlQZ5CeIR/AAADAAADAAADAAF0KwmCi03SpLiitkiieUAFLFV1CcwwEAExE/GwyCmvNZKNOZb1wIXIMXevo80C4B3eu6VKBeFfz+AaBw0ufhgAAAMAAAMAqbo9HSywOUugAAADAc0AAABkAZ5hdEf/AAADAAADAAADAAHPJvfVY2kyHAJWj9KRA6hW5uQgBJN4YFtLPhoweGXJnYB2fmyFExVhoyRjkofRLg2TTbrCduqZu6kD6Clt1DMAAAMAALD8DoD2WCAZNewAAAMCBgAAADgBnmNqR/8AAAMAAAMAAAMAAAMAB8Hn4rvu6lJ3oOu4SAIgDB2F5MmQ8PBymbpP7TpOI41AAAAYsQAAAJBBmmhJqEFomUwIX//98QAAAwAAAwAAAwAAFYgU9tV3n+AOiGzLzR2AH/PaQS0zm+1Hvt8oKe6QsF3GXgP9fyXFPVysR/9K27zDP4pJM5+Z0g+QTPDZWFq9ckUCNDIEDRRaIcDppKWv//juR/DPSWx2Mt3mmpXCKwVcGjSKDVDy8s5fbmNbTfV6BfGjmo4dP8EAAABLQZ6GRREsI/8AAAMAAAMAAAMAAXQrCYKLTdzFfNrCJYvpxl31MCzTp5BEAqAyRgFpnfY0mFo8baFoJf71LuwOq+TI97GICEAAAA3pAAAAQwGepXRH/wAAAwAAAwAAAwABzyb31WNpME6IXgxy2P8/2vbDu1/xqrX/+NRnOKGYDmemOTjypuGtXO0Mw5YEAAADAR8AAAA5AZ6nakf/AAADAAADAAADAAADAXTNHSIW0zV0kcHIKtJn0YPBQREazdZ0lVUJ3skug5WWQeAAAAm4AAAAz0GarEmoQWyZTAhf//3xAAADAAADAAADAAAViBUn07nfpViASocAbYC6+I9ZYiGfEAWPaC1NspGCQCkSQdBWv1bYtvHgtvP/34X8ivtHZVEIs026epJ1k8LFJ5oaCixiNaAXL6xZva18F7bOQIvbfy7Q8tkH1I6QiNjl7s3rSFL5sK9TisfcYn6f4SA1ABo2S3Ygph3J+HOxWkzQbJQTqDjw2p9/Aj2PJ8M9r23FBvnrfmQDOs2w0kUIr6EX/42qfYXBF8VzssG5PzyGtVn6wAAAAHVBnspFFSwj/wAAAwAAAwAAAwABdCsJgonxSQpV4HJU/Opv46AFfXB6A0x3+XhE1pBfFLtolcIHjCeSYc/SDj1UCFTVm8eAA+bIFby53nSkQx/Dy/WXx3r70DG2GUZZSJRuw972b4olza+cEdnt68pmiAAAk4EAAABVAZ7pdEf/AAADAAADAAADAAHPJvfVY2kwTt611OGuriwzNzixHqm3wBWUYyka04a0/DaGKDtKNm/HwDXqa/hCFk8w0vP4DlbMd1ANFhYHdtDsAAAk4AAAAGkBnutqR/8AAAMAAAMAAAMAAAn2aOhnSEwAhr9rPmhREOyDXqu3AmhAU7yEH3oQW6btShY6KHCrBIKTGO+Ip4gagKIi0db0gWpkHxoEMWzte56Ca8zBLmBJ0dW1hNYh9FhDhGSOgAAAk4AAAADeQZrwSahBbJlMCF///fEAAAMAAAMAAAMAABWHNiroANt+WergA4yTA18FZZcsZgOojT2geKjrsc132D6+f1FE1d7HbU9ALrKLWnDWN2fleqc/QA5hJ2gvXmYmiVbwe25802kFhs/ZVdvIdxPgkMusk08ijbzIQ6/VBDLna440lGrZtdhsmo57oHTS1+dm37BcCK5xw4akubnHFNITrMTxQn1YE+fp2W3cXr/pYJZLBHA+0R7fBbSViaDZmxK2w6eBXO7Nz6mHaxTjSGc7V+CtlQv8kRtj3okImxSRow0lAAAAhEGfDkUVLCP/AAADAAADAAADAAF0xijEEhfgBzeLAhRDRQ6BqSM/BNrIgMyG8x4eqqRvmIMk+gTY2ZF95n2ENo2PROISL1s9Wzo5ty15ofzCSS0uFF4448MtYHsPRZs+94zGm68p7rR9npgWifrEakKVmXGrvixbtTnfRcfORAAAAwAmYQAAAE4Bny10R/8AAAMAAAMAAAMAAENUtOWAmH2EdiUVgPAwjH16X7fx2QHxDgEKEEdIG/XiyZDe2HAMOv8SlI4aZIUsvZOb3vKTKnSoAAADAz8AAAB0AZ8vakf/AAADAAADAAADAAHPL8Eix1IASSXqUxW1NJMqrwGuHYvsYXUZTj48O3srOAC35EzDMTwqzkjxFY4b0Nul8FBVhIC60pXuMaBmPBBpDNJhWTX9HleP/qC1MnlsX/2fKcNdAGcHI7bHMShwh4AABZQAAACxQZs0SahBbJlMCF///fEAAAMAAAMAAAMAABWVLvanNllVrbjZwP9iafm0AIFJMRY+/iftfyF4KtECPxQ2rIgeLt72mF+TlzZAbShsiAF0ovTXKJtafvY0y/qs80SlimtTAdw15pjETGZvY2Muix46pvnK7Ge5D8GdJOhOiDKRunc1tMu4HEDn1YpOtvG3gTq0ZP6y3vBkdg7dMW1LuJrXhPtVdW3eST+Q14R2/idEbEpgAAAAa0GfUkUVLCP/AAADAAADAAADAAA3UdfcCwhL7wny22lsCw1JAxxSp7x3i3qqoHhdocKRN2deqgc6f9c4I5zMyBKsPGKhv/qW3ZPhw9wnhYGZaG1CBbiAenQGrebNcbuRxmw4pa6pbHRAAAypAAAAYQGfcXRH/wAAAwAAAwAAAwABz++Zi3cpHAN0WeMbpGBCMrs4GkPBwAlnwA50oFPCwP0NNEZPgBLrfziUVNIOitWMUReBwzKjJ+EtDzdzQ3ITzeUHjjtdezDgTJJ8OAAABswAAABXAZ9zakf/AAADAAADAAADAAHPefrMPSv5OZhrJQHnfnsIY1edw/vX85P78jRYtbOuImo0fUnM6DM0EFRb47Z7F87ACEkXCIFHR5OtqXcvTCfUAAADAAdMAAAAhkGbeEmoQWyZTAhf//3xAAADAAADAAADAAAWGBZOWse2yiSSwcE34u2199NVzdeugoZ30mWWMVVPI7vsqQQbxFjZ2QTW1ywAQAOc//d/siUmIilcuSM6m5MkxkpVEZmgTqEUcKDzfclXP3DGAja1AHpjSR1BYNF4/G75QWUo3AeFOgQAAEnBAAAAYEGflkUVLCP/AAADAAADAAADAAF953UCBLEEDiIUOxM5By+IAYt0uMGEAn2cPnJZmDJf4zMlG6jdUb7nLiQXh9kPPq9oNA2QC+acIFLhcpnYBWra91Th02yaiQAAAwBswAAAAGcBn7V0R/8AAAMAAAMAAAMAAdwjGCATVQpjt6KKchxQJzoHkQ/6Ek32CGL45L/1QhlMuyNPXFJFyDoTe4Wrb6uHhOn3UxjBJ21ZCPZOXiSOmdtcT5BoWMkS6sH4qv66KGiUksAAAAypAAAAXAGft2pH/wAAAwAAAwAAAwAARX20YEOWLrP4PKBTgE2rKlOpHaSf0qZT8qGbtIOhHHQv2UfY0ugAUAHtSiem6K8x7R4j/QujHdTC9W5OxzScsGJoAAADAAADAHHBAAAApUGbvEmoQWyZTAhf//3xAAADAAADAAADAAAWH273VXuB2uweLKSf1WNgI9ws+Vq18YPPlB5NLBa2c2MgQDnUOiQTY4Sw0FIkK6comwTKecAIWbw17nZ3InQ1hoN/Gq5M55WXyac/PruWM2XKkeAeK/EBVia+GOOA4uf3dPbu57qI+0DoTcJ5D2+PidDiDSm5X5zhlr2BObvgkTkOxr3+19qygXSc/gAAAFhBn9pFFSwj/wAAAwAAAwAAAwABfdwQFNDV3BnOmlS2v7wiUkZj/q+igySJ8V6XsESBVWdhaCVb1UoPMmkd3wCNR+3gtxH1H0FqLG5zRo0yPzK4GAAAAwPTAAAAWAGf+XRH/wAAAwAAAwAAAwAB28U55FR8Y89co/LmhoOBz1HG7bgAOKi4M/Scu9keSYAaOmqXv3v1oK7kQVkGnwatBBNPJD0kE07mSTrPFP3YzKEAAAMAQ8AAAAA9AZ/7akf/AAADAAADAAADAAADADdSo5dXd48nWjcggLXT74k1esjzDdGlkZAC3JLgWHIuIk4TwAAAAwALiQAAAIxBm+BJqEFsmUwIX//98QAAAwAAAwAAAwAAAwMjKk7UZWEh1L2EOn/tXGXeB52P3VQDve93S7707DskGPSGkexlOKUgIhbNUJbGwvIwxdUuStdbd2vhUSZfb7X8+rmauVPPUDSgTztZWfGTwYGgAb8ku84rEaa17a2QFWcZMqybgrTWqogVNcCINuFlgQAAAE1Bnh5FFSwj/wAAAwAAAwAAAwAAAwAsXVvLbGJyV86Q1PreX9ABbufDLOr89vCbVBGvqeT8v2SSo4/tTvBAte04J3QyePqCWwoAAAMCTgAAAE4Bnj10R/8AAAMAAAMAAAMAAAMAN2MLiUnTHBzIjI1j+MgeOZFvuLTICFXEMQV5n7vPEkttRqA9k0SxwhdnMq+AAsxW4zsCpVEd0AAABLwAAABWAZ4/akf/AAADAAADAAADAAADADdXr3gGxWhwcTvgz5agAlMiTWqx8/DBznA8BB0bDVdzVtGWWuUYqTykLtF48zWfOI2yH+ztrgC+ywGBxmEAAAMAbMEAAAB9QZokSahBbJlMCF///fEAAAMAAAMAAAMAABWKd3IIuZk3NEjJ+Z1tlZ2EYervoOCU/GjC8j7G6JuzzcKjgL2iXH9XPQPNHZJ2penHWRXkU0NIzKUiFN2i+lE/O/8eHLSZYohwD268yFCib4PthoRatIy97PUC+/5D5uzsoBAAAABPQZ5CRRUsI/8AAAMAAAMAAAMAAAMALEanOji+mgDlNFXC8I5mnv6+JxkfI1zd/+DzSiEnBR9Lt6hwdOUXRVwtGQXzIDZWrP6FQpAAAAMDAwAAAFoBnmF0R/8AAAMAAAMAAAMAAAMANy/yfRkDEgAumpSSNFIN9LaRswIiouJHRUJx5t+HERwk42F6O0EnInQ2EIbCqj49LcQ+YmknrgAnUWcfIKGTDp3gAAADATsAAABIAZ5jakf/AAADAAADAAADAAADAAEuFSsfXwfmRFHZKZMCbUTGJ82GFRX52XGABDLLQ4sip53P/R3yz+oH6JXcgS64AAADACghAAAAaEGaaEmoQWyZTAhf//3xAAADAAADAAADAAADAAADAAGd8z/dltrpVg+LIsVjNOKFGb6kFwMr8K8mu+PbrNdVX8MFfLfPcEByNAu49eU9WK7lnaTSMcwKt004CgzkTg+o+HO3h22ZqweBAAAANkGehkUVLCP/AAADAAADAAADAAADAAADALqVQAh+UcDMckaKJ4qZl0SLUrNhwuf+/My1AAAW0QAAAEEBnqV0R/8AAAMAAAMAAAMAAAMAAAMA7cLknACUcXdTJOQSKJ+SPE1n/GHE5AJYmz5FPQXPNgthtm7TNF+2AAAScQAAAD8BnqdqR/8AAAMAAAMAAAMAAAMAAAMA6DdB8ByHAAumpab/eOvbQSnB5wVFilLkWntoPort/IUxIx/1XAAALKAAAAByQZqsSahBbJlMCF///fEAAAMAAAMAAAMAABWJ3VdEm9VzEu4PTUGi86omL6xErywRIq4tOdkJ3qyNCfUmKXbE2oR0/yMf9aNTRXBUl4H6q5wDNsl+X0DprBZuMK+GEc3ZdIDEgDKm45q5ykuJq1LxGb3AAAAASUGeykUVLCP/AAADAAADAAADAAAH8e7+gW5U5IjHprBiLL1iblDqJbuvzEABcIJsuU7bls4jNnHD8cJpVPwd7LBzZFBNGAAAEXEAAAAxAZ7pdEf/AAADAAADAAADAAADAAADAOeV1UUV5to116pbsZU9YHMnxJasr+ZDAAAJOAAAAE0BnutqR/8AAAMAAAMAAAMAAdo47oJA79o9vbCaGvcrJ+gBbMajUMK+Nf+73A6GLysvP7uKiOChMSNJcArKsJpb5IXVjEipGyk6gAALaAAAAI9BmvBJqEFsmUwIX//98QAAAwAAAwAAAwAAFhgpzlwrrjHwpSguYvEDgAM/luspMIIAFKkBRn0cb8KiyBdX6UbBc35o2ps+9sEqC/DExgIq1sNY5KDCi76DVenfuozjeLFTkHVPCiTPUxdL8JPQQe7iAIszR/r7KzafsHE4YbJaEDlwXuDMkasrZhyNQ0a0PwAAADxBnw5FFSwj/wAAAwAAAwAAAwABfed1ALsuj9RAAB6OpLdOH1K3cUwk6mIgIR/c4I63QXYWLSimZ4AABZUAAAAsAZ8tdEf/AAADAAADAAADAAHaMZPpS0gWGzAAAAMA3qthLLhzE3AAAAMAR8EAAAA1AZ8vakf/AAADAAADAAADAAADAAADACK+U1bbZVmYeAJg2rCLnzMpThHDFMwR3KXYKAAAtoAAAAB5QZs0SahBbJlMCF///fEAAAMAAAMAAAMAAAMAAF/1Mnm6FdqwjAA0VRZ7xtKSHT90+3l9kqKQRXJkpUXjU6wGPzpCsUz028XVvcQ61NijnHqG66EdYmjrIh0JigIT8MhjaGAcVI03pIf0iMFsvhc15mbYQYrHc04DgAAAAJRBn1JFFSwj/wAAAwAAAwAAAwAAAwAGclCs+0k3rWTrw3HKG/epGYi4PmAFbI1Jr4709j+9/7ayvLBKxNa9sC/NYZuPvdzkl9MlTdpSgMg2ccDmJfvfMcrsaL8s8W9TUlrTMxtXJRW6rl4836rgK6LasY4b7eQg+6Ev9aXs7A8bP2dR+R6fwYxeX40p5IOtAAADAB3RAAAAWAGfcXRH/wAAAwAAAwAAAwAAAwAALF/01IOcoq0lbDdJ2w931x6ggBGXFVozcLN88Mr6DWN08ljEmz+bWuJmPmFa7n40EsZrp/wstLoONSuVSWvMIAAAHdAAAABlAZ9zakf/AAADAAADAAADAAADAAf0SL+yP8anliUDI7cyUrqhqG3+qCEE8tACQ+n4m992KUZBnVK4dL2yC3JiF2GtkP8FDiA+x006BT10zKzpkqkFnRo2P1/VhLjkgSIAAAMAOmAAAACEQZt4SahBbJlMCF///fEAAAMAAAMAAAMAAAMAAo0F9vgA4NOmADpTOq/Vd4yFf4Wlq++6pIHRMCk5B9PKwnzk5MgqWd9V7sMmTw79E9BvC79p1f3t5zapq1H+GMeAJTuDBM+eT9tl8AkLDXc2lLmLRx3zBQV6QObQceKUuNVOUfwQ1BCxAAAAmUGflkUVLCP/AAADAAADAAADAAADACwkeHQAN//t5oPjmykC4Rkf8dAGAZaU8bNpTA+zXhZkBzOI/fX4wVTvg8QZ10/xAtPzoME9CJyoRVhSP8qoeqY+tSOiIqy3MN3u5jyM3CAuQxDdwUQ+QR2l+h2uVXoLmVwJcSfaWQnlnkpswCk6tEiRSYdPkaoj92EH3uqHuragAAAHtAAAAHYBn7V0R/8AAAMAAAMAAAMAAAMAN1ju5McnYAcns5szgY84xYYa43zSxxF7HumTOsrbE7b/dKbiayEmue4akb9lwKVoJODZYLWl33AQ1iLmWA++c0gQFjzSzpKxlhcOG8kKPauQRdvfV0NJJ9w4SrlgAAADAAYFAAAATwGft2pH/wAAAwAAAwAAAwAAAwA3Rn6RDqsRv8uYy15oQFnbPDmHRCp2ZSn30/Ea8mHMDpFYkuE/Wemvi7dBvSZhIjwbsepu7yDm4AAACDkAAACBQZu8SahBbJlMCF///fEAAAMAAAMAAAMAAAMDOeOcLcAJqeQWTGi4ed+tvOyJHn325MyFGZIRmMKqB17+j3qmaiqRxBflw7NCr19Ns3udq62Gb0jBiMTS3k3qzRyjZyvlcCqjPhXzpEDkS4BSV/c76zJlB4eJge7jfrP9AAADAA44AAAAgUGf2kUVLCP/AAADAAADAAADAAA3UhTUdIDZ4oXAHL2NYFJNs3ihXkuaqEExRau7fq9Aja9/2WjWBNnS5FqTfGv7EEmOFZg0PWXUKGYiQQ2LdIb+YcMPD1Cfe6zFM91PDXEfxKwi++Yk2kV29dToouee5ofsPbO9JH/JWAAAAwCTgQAAAFQBn/l0R/8AAAMAAAMAAAMAAAMBfGcEufNT1a6kJCVuWR7MXDICN4am/T/sVjd0JH8gNnJSx5ODLgA8dEpQw8FDJNEbjgWECFtuv0uP6IAAAAMANqAAAABJAZ/7akf/AAADAAADAAADAABFfKattsq0c5+AycMJgXXDjqCgW84CGJiRMN9IyUAK8Vpv90umwMP0dKt46BYHEVxQfJUwAAAGzQAAAHBBm+BJqEFsmUwIX//98QAAAwAAAwAAAwAAFj5PuBJ6he0/Lcggdc11RuvOsWJH4hgCvSExeKeHbkxDhQX7IOZjcuL36GeLqZHJabn28+uBAUFe36YEN3arjxxmFr3RreJcXNmgzAH2Eg2zyovCPHnBAAAAZUGeHkUVLCP/AAADAAADAAADAAF+lCs+0k0POog+rgBthOfNDrzBhZ+eUizu+4xYh6DF1U7kecwWsCsrYAAT6UwQMmtAq1/Ay9OtUK1oRUIDnJncmRNLoB3cH3jgZH57HBCAAAEXAAAAYQGePXRH/wAAAwAAAwAAAwAB2vNJhefsDPVbWlPGyde4GADe6DwYFzhPcB4AuBmc1wZNhjYH3kxXiMgqPAP3WI+lJSj8BPsUs34j0lTy6dMANZvMbAUedfYIIhO+gAAADegAAABEAZ4/akf/AAADAAADAAADAAHcEi/sj8D1CadDLPd2cAR2eutDVPEAA4qMeUs/ySkXKlja83uJzbZcrS1T2CyFwAAABZUAAABcQZokSahBbJlMCF///fEAAAMAAAMAAAMAABYYFk6Z2hd4M6TeMAC4zs81taq0cZDumoDg85FOAuWGJuQDPyWYYoE9v2NofVnkUI6zQ//vxCP0K4UJ0khPyAAACTgAAAA9QZ5CRRUsI/8AAAMAAAMAAAMAAX6UKz7atLrDwkycbAABFqbUS6lFtndEISpKAD4DKiWHuvuULRAAAAMCywAAADYBnmF0R/8AAAMAAAMAAAMAAENJAPAAAAMDtxpzS5vU67R80kV34QuDvFfUU8DJq7JZQEAABJwAAAAyAZ5jakf/AAADAAADAAADAAHcEi/sj8D1UHU3IEwAAOSB1UZN7O2iEL3L3xRiYAAACPkAAABHQZpoSahBbJlMCF///fEAAAMAAAMAAAMAABY+T7gUBdR7xFM+S5VAtBIAABLHN0RQzawZEzTZM/xDd8h20zlhfp/KRAAAyoEAAABTQZ6GRRUsI/8AAAMAAAMAAAMAAX3ndQCt45TdGDhiIIDSUawAj3FD5c/IRT8tYa7FQBtwNs217AhTzbIhBDsM3AYKNYde4z4n4SzBRGDAgAAAg4EAAABOAZ6ldEf/AAADAAADAAADAAHbxTnkEFKTWN/pvH0/b84vhuhvbyQGiAfcjQeLOMXpbwVusjQDqo+/2AKE/iHhxN5V+8x85SlDcAAAAwGzAAAAOQGep2pH/wAAAwAAAwAAAwAACfZzcfg3l9yxVZY7sdxyv3LlkJMhf9rQ/xZOwjXmNGo6kGxpQAAFtAAAAHpBmqxJqEFsmUwIX//98QAAAwAAAwAAAwAAAwACkHEziACT+mU1Dn7a6ogyLC+YK2U2PiccF836dcmWoYsUTW18+11+2yzZbZNP+v6M93wqLoDm1fUFWH5dTeuG3jDHDDxRbXeYpcQ6xeuiS2L13khXGM4ytDGu/x06wAAAAFNBnspFFSwj/wAAAwAAAwAAAwABfsntPe2V+ZMGfob1MuSpoj30A/iPmaiYAToBxzcGYiDOgDiO5QQ3HEyTISRo7qgMuxoodyYfxPIZHLGgAAAEHQAAAFEBnul0R/8AAAMAAAMAAAMAAdvFOeQc5RDC20Of/4CKAC3b2zZ4AqtHYAv5aj0RHBh/v2ndyv5OGUldHEHlQQBJxykVSMRjKPPAQ2QAAAMAPSAAAABHAZ7rakf/AAADAAADAAADAAHbc2eACcQyxHJwvoESYXmgrQysoSxcAJD5noDu9VPm6MXqgN3Vg4pgEWAHxVfJSHBogAAAk4AAAABlQZrwSahBbJlMCF///fEAAAMAAAMAAAMAABYeVM3zogHn6U7c5ner3aWLtAIwAS1v24nTDLo8EtqG/AAGWUo6Q0ThE2+JHtCpwEciyJiQtGH7CBkWkO500Z+Llni5TL0AAAMAFtEAAABIQZ8ORRUsI/8AAAMAAAMAAAMAAX3ndQC7LomuZph2xZeKvkTeeRxvLUiUNgkh+sULOpStLhYAQ6gC4baLNJDsklB7+yVAAAW1AAAATwGfLXRH/wAAAwAAAwAAAwAB28U55BzlEMLbQ6AALF3Oweelt4poHreIWmSYwKEEKMr/1O31ZQAmrooS1boiO/D5PMjG9nk8cAIAAAMAD5kAAAA5AZ8vakf/AAADAAADAAADAAHcEjFWQLKqHbalrLb6CmAdvqMJgcvzkNEWo6JMSg67nCDSM8AAABjQAAAAYkGbNEmoQWyZTAhf//3xAAADAAADAAADAAAWHMEVdiawDJgg/FJpPNp/4U9gAO0lI3PM7/+doT+I0vvHdv+dP4QLoVxp6c7NrnPzuv6uiqGDRYV2WpGuUdR5WIOfOY275a0OAAAAb0GfUkUVLCP/AAADAAADAAADAAF+kdo6W+xfcpd9lBABxifbczvE1HX2n6KfgXd8btKeNm0phRCP3of+LDq2QQ4cp0uPOX8on3KS8JNeIJmsGvBRNmzzTaaJamOGnW4hPYCErF5bsAILBsAAAAMDpwAAAEABn3F0R/8AAAMAAAMAAAMAAAnu/EbXwMtlVXDJMMGnnUK0e1oxAl9L7l4IxVigh2V1Odvv5CP5EYYeAAADAGzAAAAAOwGfc2pH/wAAAwAAAwAAAwAB23Nt7OQwDDliqPhhutuJmMKgFQvH+iA849wFHf1+TN60JyKOAAADAN6AAAAAVEGbeEmoQWyZTAhf//3xAAADAAADAAADAAAWHlTOmqSFAAADACe9OHABKjGp823f8wG8hO9Gk28u/UaDlUzJ8i56AP3ND5d86pTnaf2ZubLygAALaQAAAD5Bn5ZFFSwj/wAAAwAAAwAAAwABfed1A7PJIS37WMG69yg82UwUrdUX1CEYw8J3SweRH7DXzO0mcAAAAwCLgAAAAEcBn7V0R/8AAAMAAAMAAAMAAdWrLoCwLgvcnQoCvZi0fSKBcmQdBDVSEZt41zUgs2DXoIAAm6RTK+lPuDxzLgynPgAAAwAVsQAAADMBn7dqR/8AAAMAAAMAAAMAAAn2cqYAdVsdk51YAgdhboEwte+UGdWiwdCsc+IAAAMAl4EAAABFQZu8SahBbJlMCF///fEAAAMAAAMAAAMAAAMAAAMAAAMBRuVM3zrwOh6OruUL4AfXI7k/hN5L1fIibQvsSduoBKwAAImAAAAAUEGf2kUVLCP/AAADAAADAAADAAAHx+y0l/q+iaL76qYWyHllFrKcLEYUEod48AB82NZ+CdAu6QAnWMCt+N97ETwYYv170p0KGgWjp4AAAGpBAAAAPQGf+XRH/wAAAwAAAwAAAwAACe78RtfAkUetAs/y/ijsuWNPfK4rRF3KEetBX4Vu6MI3R4gpA1QAAAMAR8AAAAA8AZ/7akf/AAADAAADAAADAAAJ9nKmAHqXhyy3aFOkzcAnXSWJGGvnqqoe52lEz35wvOjGKpMaexlgAAEnAAAAVUGb4EmoQWyZTAhf//3xAAADAAADAAADAAADAAADAAADADIyqa9G54BMM79YW/UFwekE0gROk7mG6PB5HO8yUezFwgLBagn9oyehyPVNx+BGQAAAQMEAAAA3QZ4eRRUsI/8AAAMAAAMAAAMAAAfH7LSX+r6AMameagSTnY4uOCKQICYeiX9YlaPI3gAAAwBvQAAAAEUBnj10R/8AAAMAAAMAAAMAAAnu/EbXwJAAJaibCQAb9lp4c+TYlHyFmKDyrRmlEUs1R0BxkujCzbyrMe3mlUAAAAMAm4AAAAAvAZ4/akf/AAADAAADAAADAAAJ9nKmAAADAjP7XxCTM81FFF6O4XbaCKa53AAALKEAAABBQZokSahBbJlMCF///fEAAAMAAAMAAAMAAAMAAAMAAAMAMjKpm+xHl2XzDJy2xHka5Q2P3AVBUg8WbmSwAAADAQMAAABSQZ5CRRUsI/8AAAMAAAMAAAMAAAfH7LSX+r6JtnugBbtK/a7cY8NfAJ3axfk/RXG6uLLDd9XRnxLAslJscZWTPK+mShBsRhxMu24qJQAAAwAKmQAAADsBnmF0R/8AAAMAAAMAAAMAAAnu/EbXwJFHrQLP8v4o3yGiAhY2eBVfmrnVfe1oBs9NMht2V9AAAAMCbgAAAEQBnmNqR/8AAAMAAAMAAAMAAAn2cqYDUQpuK4AWzGmFgHv8V3gp/+nsaEAAMWOWdteFbrXvBsNy27blha3IhqAAAAMBvQAAAF9BmmhJqEFsmUwIX//98QAAAwAAAwAAAwAAFhgWTlrpgBG+syJL1YhCfpndnNV0M8AAAHOrUIqgWTXVlZJFDjvwJDD0UneYFsLWVRY4vLLtTN2Pu8GJb5fIUgRiAABlQQAAADtBnoZFFSwj/wAAAwAAAwAAAwABfpQrPtuVONFefXurkoI8ASWFx0eGMrBiPLyo2mtyS+1EfLAAAAMBxwAAAEgBnqV0R/8AAAMAAAMAAAMAAAnu/EbXwJAv+KEAHF8AM96pHDBHFptyOjvDTlNYbqTB07BUSWk/GygaYGnPmQBPTdQ6QAAABSUAAAA0AZ6nakf/AAADAAADAAADAAHbc2eACcQyxHJwwrjcMgAAy1EJJMa0V6lX2gP4awAAAwBFwAAAAFFBmqxJqEFsmUwIX//98QAAAwAAAwAAAwAAFh5UzfOfJqK8p7U4aaHsU8AVaCljWaLQNAA17rYfYaGthlsYPoyMIk3Wi09NkyReVYhJwAAABgQAAABhQZ7KRRUsI/8AAAMAAAMAAAMAAX3ndQC7LomuZkl9ijW0NygAumlftdoaAny7vPg+a1BCamQnVLFS4BZI3JtppZ9PiWuvlpYU2VT6OCMJMxkIqSWatS9oPdYsEAAAAwD7gQAAAEgBnul0R/8AAAMAAAMAAAMAAdvFOeQYwsWV7WUdS404fBZJuyu3S43DPC1hev+yKXhPD9o5cpGn5zIodF+ugLfDppzQYAAABNwAAABIAZ7rakf/AAADAAADAAADAAAJ9nJoMM7bMsADjEjVrt2jebv1hHZiW4GFxy+G//+zUfODnMcJ9Lo1RSd6BW91qU1V0YAAAJOAAAAAaEGa8EmoQWyZTAhf//3xAAADAAADAAADAAAWH5yqffP3fZ/5lqf+fjp4mU4AFXWev30Cx9qxUSMyGpSqXCYZaN8zhJtxSusADZYNitgMwQfFdeMobObvpCwNaSKP+zz9N2WsjoAAAD0hAAAAR0GfDkUVLCP/AAADAAADAAADAAF953UAuy6JrmaYeTJD0u0OFIm7OkbJHKFn4Q8Ti7duVq3V+BUFwCZM1Y+vadUwAAADABJxAAAAUQGfLXRH/wAAAwAAAwAAAwAB28U55BzlEMLk3XYWvpWGELkr3bBw7DSGdzdCBaoOaqlzV18i1se2b0o0tUf4LGctHgDbTqvG1RXJwAAAAwCTgQAAADUBny9qR/8AAAMAAAMAAAMAAAn2cqadK9SOqISQAJgAb6UDgzf5T+wAGcgD9tMGL3oAAAMBqQAAAHZBmzRJqEFsmUwIX//98QAAAwAAAwAAAwAAAwAAX1PUAChy9eby/TKD55DpkkW2L1ZmjCGNWrfL9ZbBKr8sID8ObM1HVkcSLFd8gVEe/mNA2y1Okl5tq/KO/FisbcTqMKmemB4GwtyxZNmRpMd5mox/U2Mm88xgAAAAOUGfUkUVLCP/AAADAAADAAADAAAHx+y0l/rKuBw/21yqjLWIFcE0WwXnDgnkP9aasUhw4ccZQAAFtQAAAEgBn3F0R/8AAAMAAAMAAAMAAAnu/B7ig7GAEs+AG6KB67YIVYdWtUhhxH+ozCg8PaWiUG/Lt4MSRP8UZHgveVqrmrFewAAADZgAAAAjAZ9zakf/AAADAAADAAADAAAJ9nKmAAADAExGylYAAAMAK+AAAAB8QZt4SahBbJlMCF///fEAAAMAAAMAAAMAAAMDNp6gAUOXrzed+895s0oDMgAAAwAZC5XGTbLiFZZjXu8S7VuMjb43cC0uvmdXldVtnfPbh7ZrLhIFQSiNceBx+IEz2ayWs1kwb6U2OO9Q42sJ1SXbqggtTc2+NzeKPhX56QAAAE1Bn5ZFFSwj/wAAAwAAAwAAAwAAB8fstJf6vom2e6AFu0r7w5xjw2CcqMN/jCx9L272sDX18xjP44PWGOy9RjoZf5sdWjeQX6PAAABqQAAAADEBn7V0R/8AAAMAAAMAAAMAAAnu/B4Atf3AGtA7BvqjRljRnYMMwmDS6i8pqI2AAAEHAAAAPwGft2pH/wAAAwAAAwAAAwAACfZypgB6jvdbZc5x3ABdLqBufvrnfZVkpoCLA3r24FIpzdGWfO4H7CuAAABqQQAAAGhBm7xJqEFsmUwIX//98QAAAwAAAwAAAwAAAwAAX1PUADOjvhcwSAADc238mKsPsqLN37ViH0/mgnZy+YEsJEIaFuGyvQsivxKx8uk0/MGZB994nWlJPxsRRfANcNqFZrlXXT9cDu2D0gAAADJBn9pFFSwj/wAAAwAAAwAAAwAAB8fstJf6voABFgZArCDrwY/5B8vu3J4VxWgAAAMB9wAAADUBn/l0R/8AAAMAAAMAAAMAAAnu/B4AAI8BUjOrjI9aBItDNYtqSFaSXjGPmSWeefB4QAAEnAAAACMBn/tqR/8AAAMAAAMAAAMAAAn2cqYAAAMATJer8AAAAwCPgQAAAGVBm+BJqEFsmUwIX//98QAAAwAAAwAAAwAAAwM2nqABnR3wuYJFzmj+LTSb8QAG0Qj34Pw+PxTi122lfmHy+mVRI92rlSFWWjgfraLZwrjp0fDUZU0zwMBNeDDZbPmBHeme0o92wwAAAEtBnh5FFSwj/wAAAwAAAwAAAwAAB8fstJf6vsGz3QAmon3b/eMeGsF6mMX5P0WktbToquG6rphwSTxd76ambTkyv/z88lVLAAADAScAAAAyAZ49dEf/AAADAAADAAADAAAJ7vweBNiAWcsAX3seABaSWoftzg8nnP1wk+V3V4AABZQAAAA2AZ4/akf/AAADAAADAAADAAAJ9nKmFt+TJGXxP8cEyEOIZD86dge/gFmjPuEAJaQAAAMAABQRAAAAXUGaJEmoQWyZTAhf//3xAAADAAADAAADAAAWGBZOWviACVKJey2K0plqC22bjSnTe2jbmT81hwACaM2yHPuGc3kJdwJsxVMA2v++ydTYUIVhj11tOVbfDAAAAwB/gAAAAENBnkJFFSwj/wAAAwAAAwAAAwABfed1ABhzIAE7E+kt7vupZORa64mRAcP3rUB4AAxvoEyWnrw0uUPs1WMgAumAAASdAAAASgGeYXRH/wAAAwAAAwAAAwAB28U55BQPWbHSAtF1P0EAC4PcbJBNTOE9/E0MTkuNU/55NgS9ZfCve5XpSM0WrmoQcbdJ2AAAAwGpAAAAKwGeY2pH/wAAAwAAAwAAAwAB3BIxVkBqizXJU677iQ5rgAAIEcxn6AAAB80AAABmQZpoSahBbJlMCF///fEAAAMAAAMAAAMAAAMAdzzPuaVTd9Lsrib1oVUgz4c97Z8BJf3jsi19JL4pw0RCX9HAcyLn51FR43KKrEThWvgYEjw45ed65HItdCdcsNL0X4C8AAADAHTBAAAAR0GehkUVLCP/AAADAAADAAADAAF+ye097ZX5frvEK5FOgl1oAH2rg4GNJrD9W1+RuTNl1IAIcMR1Qiwcf/Qe9Fb5RTAAAJOBAAAAQQGepXRH/wAAAwAAAwAAAwAB28U55Bzlh1KHSph1lVIvmWAESbKVxpZTEV8PLgSvq4lwTvaGF6QUnKXdsTgAABBxAAAAMQGep2pH/wAAAwAAAwAAAwAB23NngAnEMsRycMBjn4DqcO09GFEAAAT9BkgAAAMAA9IAAACQQZqsSahBbJlMCF///fEAAAMAAAMAAAMAABYeVM3zpq/tAAU+C4uhWuvwLD9rkAAAAwCes9lUX9tljMvUG+eGcDmcqnv0uk6fdQiT3D1hIJtDiPrjd6fZZv2Zb9ikfmyfXtIKqGkL54r/5g3CukS8P730YQMY8g737xYo2ePefDeXrjGmuum72cAcyJh2nrDwAAAAQ0GeykUVLCP/AAADAAADAAADAAF+lCs+2lkCUJNWm+ztDxcBxB/song8S1Gn5W1UdpGUomK2cyooASFbkNg5gAAAGpEAAAAyAZ7pdEf/AAADAAADAAADAAAJ7vweBNivNtGumTF8Klt5+VXYegs4tNcLErAxgAAAMqAAAAA+AZ7rakf/AAADAAADAAADAAHbc2eABr3D4qwgJrLTz7pbS99zr3IErH1AygOOFgAE3a4HaQPlbT3sAAADARMAAABNQZrwSahBbJlMCF///fEAAAMAAAMAAAMAABYeVM3znxiMP8UgAAAEQacnKhrSWLv6nu5InT/x/i43K5nLpUGkXWI5t3cR7/IV/uJB9cEAAAAzQZ8ORRUsI/8AAAMAAAMAAAMAAX3ndQCt49cXHgAAAwDhaw6fxMo9FG+ZUPwYxrggAAJPAAAATAGfLXRH/wAAAwAAAwAAAwAB28U546Ia30SNT5gAADnbfHqAFqe2y1vAAr5wz4d9/pQ2oUxawH8ckSBJLhsMoZhTmqwKcWgAAAMAi4EAAAAiAZ8vakf/AAADAAADAAADAAAJ9nKmAAADAEx958AAAAMCPgAAAFlBmzRJqEFsmUwIX//98QAAAwAAAwAAAwAAAwAAAwAAAwFIODyOiEO2qZpZN6AEE9688i8Mosa/zTlP/l/+BzT5FqV3IzvrXAnQAVa4t5McD0dOpz+14AABZQAAAEBBn1JFFSwj/wAAAwAAAwAAAwAAB8fsrwAAhBGBpJRSzBdTf8dhqnR/zZwuU+sFJcqkeWzN9Y8BnzXMn0AAAGpBAAAAMAGfcXRH/wAAAwAAAwAAAwAACe78HgADzaNCkKrMmOJdMcNge9EEWtBnH7QAAAMBZQAAAD8Bn3NqR/8AAAMAAAMAAAMAAAn2cqYAAqfq7wsgcZR4AF01LV8h2YmXlpBVHQVliur6HYtNVVEWTY8/eKAAAtoAAABXQZt4SahBbJlMCF///fEAAAMAAAMAAAMAAAMAEW9rDVoAAAypzlGNrTvSakVMkVZWNMwzxZiR6xBblOT5FbvHHxqvIY/iv82gjmdLe5RrPakVAAADAGzBAAAAMUGflkUVLCP/AAADAAADAAADAAAHx+zWlZfwAAN7N952SPM5VzhiMz/eXafXQAAAJOAAAABFAZ+1dEf/AAADAAADAAADAAAJ7v0+5G8AI9yDgAQ1GJ+D8OCbadzxH4yh47RADVy1iYravwbjU+H78zrG6eYa1F4AABZRAAAAIwGft2pH/wAAAwAAAwAAAwAACfZypgAAAwBMl6vwAAADAI+BAAAAbUGbvEmoQWyZTAhf//3xAAADAAADAAADAAADAAADAAA7OEA2gAaDTGJpdKhk2DjukGLwXArJOBSF1ywLwKhu9fuWlvLO8KPkQSjxrYLadRdx7WliwB2xix/P+pc8kUT+TlLFXNIBJ/LVHgAAJGAAAABbQZ/aRRUsI/8AAAMAAAMAAAMAAX2qImP62fZqzP9Wa5UgA2rcosUSbQADTRje/d0kNDJjf99Ds+rmuBe+ieSDEXZN60/qpu1qBrob2OKlY2//iW/B6rSAAAAccQAAADMBn/l0R/8AAAMAAAMAAAMAAdvFOeQc5sCLEhAAAfmtamWDBb0wkX8/1XAOIwTDEAAAEHAAAABOAZ/7akf/AAADAAADAAADAAHbc2eAHxQIALpuZPL+bJtmFOuqWYelgACfuky3jzYNiqtX5HI5kW56aoLVXln6oV73CLsaA3CDvgAAAwGpAAAAcEGb4EmoQWyZTAhf//3xAAADAAADAAADAAAWHlTN858oIC3+qrDK1nbdD9KdgABoJQFfMl8mIpCqgaHAHDbNocXUQoqRjplaZReIWZkUIdRFvA66G9SWNlPODtBuXOC1WRP9vsHnZiGGzWsAAAMADpkAAABCQZ4eRRUsI/8AAAMAAAMAAAMAAX6UJRb/YmfrrZDgjsjovtz5B4AkI91mBKVanfzpHCVUAJRH2p3rmNuNHHAAALKAAAAATgGePXRH/wAAAwAAAwAAAwAACe78SB/tCcNbftoALpsIYbgHmHJP2RoE7XnY7GeVbRjX90tzB+L8hv5SKTyVo4Mp8RJqPsIFLwTqoAAC2gAAACwBnj9qR/8AAAMAAAMAAAMAAdtzZ4AJxDLEcnHN1FIkAAzLdZg9gAAAAwADUwAAAGtBmiRJqEFsmUwIX//98QAAAwAAAwAAAwAAAwACje79lABYPevJbd5GIFlDMsWrEd8nT1BO7ag/pMKxwz5uuyu3ZXTp4/yQ04onTaifm4xGUyOVdsLWKxMFuZaqMi8/ehDi6Wc9qBgAAAMBZQAAAEdBnkJFFSwj/wAAAwAAAwAAAwABfv9aqEpQchEtHkiFisMT1CTsnuwT6lBKaLMMjZrD0nRCeOwAC1SSLCRQQoMFjBQIAACTgQAAAD0BnmF0R/8AAAMAAAMAAAMAAdvFOeQc5RDC5n8cvL9Ui1vtT40l/yp892HEsnk77BhiqfyGLHKu87TAAAJOAAAAKgGeY2pH/wAAAwAAAwAAAwAB23NngAnEMsRycMGh7NwB3234AAADAAAScQAAAGBBmmhJqEFsmUwIX//98QAAAwAAAwAAAwAAAwAAAwH86um8ABT9Mms32iX9jLiREp9DZw3BzvzUGHqVM6/YZsnmC73wWmUQpL/cDj+Bbpe8gGzYZpUM3KrHU9gg6wAACTkAAABAQZ6GRRUsI/8AAAMAAAMAAAMAAAfH7K8Eg4GnCE7V8T5bgAV9cHoGZvBNnXGebsu6nPNR9FcyRk/fRygIAACTgQAAAD4BnqV0R/8AAAMAAAMAAAMAAduf7GN4yAKyjGegjL6P50TsCLCcXWovwS6TnaYeVKR+gST6gqDAHn/AAAAf4QAAAC8BnqdqR/8AAAMAAAMAAAMAAAn2cqYW+tWveoKllr6li7XERKafZA9IhCgAAAMBBwAAAGNBmqxJqEFsmUwIX//98QAAAwAAAwAAAwAAAwAAAwH7LgylDo3yYgLfsp8jEp+FxDy5atEEjPhwJpMJwP/7CoIMNNUXiC0WZECBt3gkY7fz0ZovQvwnJWAP2cgylo02sAAAGpAAAAA+QZ7KRRUsI/8AAAMAAAMAAAMAAAfH7K8EgSVf0YWtru80nPvG8YFMwDr1O8AAt7z5hNZi5IkU0VUATeAAAWUAAAA9AZ7pdEf/AAADAAADAAADAAAJ7vweIKHL2loARAHJq50ntPKid5Hg/cIa0Ky0Ri7X1bP6EUk2MTrAAABFwAAAACQBnutqR/8AAAMAAAMAAAMAAAn2cqYWavvwAA0qPNOagAAAd0AAAABTQZrwSahBbJlMCF///fEAAAMAAAMAAAMAAAMAAAMAADucKZABT9PQv7Grr1fLgWi8EoHYJuK/FOBrLX/bcWa8aiSfEDtnesdroMjZUucUYkRSX8MAAABKQZ8ORRUsI/8AAAMAAAMAAAMAAAfH7K8EZKfOuJuJfPmuhQATe+CBfklbVPuy6fLaIxB1F+AEMXwX0z9yophzj2pRIGwVmEAABJ0AAAAyAZ8tdEf/AAADAAADAAADAAAJ7vweH6/n5fLlGughPGaM+4AqXz4+t+OQ+PyYAAADAxsAAABJAZ8vakf/AAADAAADAAADAAAJ9nKmFmr78xIJBQyCrYYxwQJAG4WsRkdYANpzhlI1jLJG8kPk6F8N+Xqg15MKihuqwxMIAAAQcAAAAEhBmzRJqEFsmUwIX//98QAAAwAAAwAAAwAAAwAAAwAAO0W8Gfdp42oei2DwMLnQBNo3jZ8fPCE8UI3i3pN6Pn3UVcIoQAAACJgAAAA6QZ9SRRUsI/8AAAMAAAMAAAMAAAfH7K8EZKfOuG2vOpL2WmALS448EAJi31hO6tSYrSwPMvVAAAAi4QAAAD4Bn3F0R/8AAAMAAAMAAAMAAAnu/B4fr+j8c1N4mlgArXw3TOvUmtTPGCvc36tBiH++4EzTQc3u3AAAAwA2YAAAADMBn3NqR/8AAAMAAAMAAAMAAAn2cqYWavvwApBfVhqn4WlVBa/W6i6ys3P7D+IAAAMAA+YAAABbQZt4SahBbJlMCF///fEAAAMAAAMAAAMAAAMAAAMB+sIBtAAt6SfdHNXuszsWjWsYlHR98+pwMJHAZx0FaBU0BL8UZ6YbLzr32FPxUKXE0qmStDcDwN8c9VjKUwAAAFdBn5ZFFSwj/wAAAwAAAwAAAwABfanmk7NWNFFmMVHYACNGREdw3CLOkE9xCvvOXROCyJSjsgGEyy1lUPdPnGjBlCpTnR99RKiWy6n4fzOync6DGAAAScAAAAAzAZ+1dEf/AAADAAADAAADAAHbupCKZAJDttj7lnJ57AkhSRKTOV7FFxM4OKT0MEAAAAelAAAARwGft2pH/wAAAwAAAwAAAwAB22xCRC2mavgen7e0kqHoNimdRcE2hkTKu7wfe0C4Wz/Cw5DZf/wgAaEPDKBU150Qc0AAAA/xAAAAdkGbvEmoQWyZTAhf//3xAAADAAADAAADAAAWHkNH4leQ/wJzz9bhy4XCJ/mt36iIJsLIARB247cjeyoDcRQjAFAwnRj9Re9Revo/lKcJkBzq8P7AS5mfjWxHNzRBM2Q0TqdRAAfUepam9+ighVFbXCQAAAMA1IAAAACOQZ/aRRUsI/8AAAMAAAMAAAMAAX3cKYKLTdKkuFUBPv/LGXMIFTBo1COLnj12N0CCkJZs2AUhUK0YDyAjyZNf4QAwkmsMK/MuobLjgAZ2LsAW8OssDOJT9Ud+fg6pOmrEXVbwAu/xR7GTC/XO87Rq9vc8k28WT3YcWJLJjVYgBAqZA16dB+7FEHMEAABJwQAAADoBn/l0R/8AAAMAAAMAAAMAAdu6kIpkAkO22PB/Hpa2Pc8oND+11AJzRAXX7r/iLxy86sa4AAADADpgAAAAXAGf+2pH/wAAAwAAAwAAAwAAAwABLU0t+0X9qizPe1qAxDRZqg9oq0lu5wsykyGCto/MwXzbrygADiSPAvZFQAMvkoKdRWe7GjkqG9oRHUXF4K2idOJGmJxAAAypAAAAY0Gb4EmoQWyZTAhf//3xAAADAAADAAADAAADAAANj5n3SmCw1xlBKSySLmicTptjT+EL9KJnZb3VKJFhEj1iESLgUFLntWlxR8VnlerYAG3I24uBARGVWDrXlgjw8fF96I1tCwAAAFlBnh5FFSwj/wAAAwAAAwAAAwAAAwAA58zmnWkUIsjS5tzRHNtXJUwcI7rYfnNb2WQ4BqIAbKUHeCSAEJc0pDdAjN2+TcMdgFABmrVTJ0U63SEiJgl4AACRgAAAAHoBnj10R/8AAAMAAAMAAAMAAAMAASWmdwLuD5bMALEtVSpe65BTYMVZaK4Q7cKg9oqVVu5/GgMDre4LO6ig7BX2mSRJabL4BgizcLqxFgkU7xwAx/8wEZ/D4/yJYcRVQFnboCowVoBGFRSwJY8PFm/nhabiZfzsAAAk4AAAAEEBnj9qR/8AAAMAAAMAAAMAAdpZk5SoAAADAAyp4Ui7M+9WWToAEHzIcGgORa8oIG8X1w9j7ROQU+3FDguWAAAScQAAAFVBmiRJqEFsmUwIX//98QAAAwAAAwAAAwAAFPn1AaXOjSvoGMAAANWZmU2q2JfX5NoWEIgCJthoVWjZ/XSHNPthLuC+aP0t1mIk/bmd+4HEtNcMI3mAAAAAV0GeQkUVLCP/AAADAAADAAADAAADAAADAAP47dOHqxtYFwQALQJIfEcKLEyfQPJdVgI/EYitzqrBIcuM7Njz8szINC3KIi9ealJi+Ptyo6UpkQAAAwADZwAAAC8BnmF0R/8AAAMAAAMAAAMAAAMAAAMAAL9jwEUzGGWYPQkIwuMaEQo1cIRiAABlQAAAADQBnmNqR/8AAAMAAAMAAAMAAAMAAAMABR80atvtPFENhSxwnqkzxu68A/hoePOiQr4AACRhAAAAS0GaaEmoQWyZTAhf//3xAAADAAADAAADAAADAAADAAA7RZ57TwsBrPyDKaHAd+cIBxHfuyGdy+AAVW4n5Y/nPbmcsITIm7IAAAMBswAAADZBnoZFFSwj/wAAAwAAAwAAAwAAAwAAAwAD9ycjY/Nj6Wc4r4K+ZgAEMZb73cEnILtv34gAAZUAAAA8AZ6ldEf/AAADAAADAAADAAADAAADAOy+P5AiCgBuqC7fMRnX1wup3wPvZSjgx1Kk50FGAWsAumIAAGVBAAAAPAGep2pH/wAAAwAAAwAAAwAAAwAAAwAAG7pogBM/5qMT1503/4tSccyHfs8XggTeGC72HRzWu/j6IAAGVAAAAGhBmqxJqEFsmUwIX//98QAAAwAAAwAAAwAAFheAL7X6SNbBBJbJAFLdX4wREAJV4VDbzw3WUMAVXFm8Baajvy5XvzHUnX+ypBCDcfscNcItegKbvoSob5B3UaOMSUAiWaF3j8QojXaDgAAAAEpBnspFFSwj/wAAAwAAAwAAAwABfdwpgotN0Bc0Zx0sP1NZHnhNzGOaiDODbVa5B6meJS+jw2Wpboi4jeAsmh1EqE3nLQAAAwAakQAAAFgBnul0R/8AAAMAAAMAAAMAAdom+A7mO2ACb2UltwejE1uYXrLE50bB5jVJ85F64pmy6S1Huwzd9xpQ7M0p1mQymRXAY8gZHSb954Rj76GeealjAAADAHTAAAAARQGe62pH/wAAAwAAAwAAAwAB2jiNyw8dW8erwAfzGjoHjy2YdUWiODs8KNP5LmT2QYjQ5bpb4+JsZ0W4E878nAAAAwA7oAAAAJdBmvBJqEFsmUwIX//98QAAAwAAAwAAAwAAFhp+6AJ1+13M9/0fvLt7hRopTj/XqcHqKOKdDo8CRR+EoOfL+AayhJpYbg8aFUH7LQV9y0LOIB+UR0f8nIo5omiQ4zoK9JGPDcxJJYsWpFkFf/Aunu8XsDqN2PkM+2uTx8Pwbl4VwcigBpXTe5o2F1p2NJU53xQRx6FChyHDAAAAUEGfDkUVLCP/AAADAAADAAADAAF+kKj0AYIlU8UANqQ/BbfR6CagfgG6amNcl2ceKbGKnjDuLA4tjARkGOGefMZJHW2Li5Qalrze9zAAAAg5AAAAQQGfLXRH/wAAAwAAAwAAAwAB24dIbnRGEQhoAVjn4eelgvwAJTveFVX2oN6/or/gfImFQO2b62q3IVL/0YAAAIuBAAAAVgGfL2pH/wAAAwAAAwAAAwAB204qdkNnqEENNhOMskSgAPalBVrPDM82guuYNYo8SCD9puF48siX1DgQYFKHVDO8YPM8UZ4agQwoBt+xFypo6gAAAwMqAAAAdEGbNEmoQWyZTAhf//3xAAADAAADAAADAAAWHkNH8a83B4K8AA0En0veTuEKgcs96LmbsF5sFWUJp7rmrjWhusXA/RF4XLcXxwF3xzOopTfv9Q7q92rMblzmB9WW1TH/+HariLGQZU6ah+i3AUhCAAADAJGAAAAAYkGfUkUVLCP/AAADAAADAAADAAF9rDbO1EaAWD9zc394PSNpUVvLm5VbkDpbzqACdAOVsdFqqF5gBqZbbZyZCZs4Rmoq/Sg644W16VXHIYDSk28V0fY4T1oOG8v9AAADAAm5AAAATwGfcXRH/wAAAwAAAwAAAwAB2ib3zj+YdDSmpUOPrAvt9eVFbxR9jBj+WL2TypAAErygM94J4IBRHCxR60ihVZQW+pIXB8nvv6aZwAAABvwAAAA9AZ9zakf/AAADAAADAAADAAHaefpWMM/nef3L6Z6/w2yvL/xbQZqw2mbknsbgxkNwpkve2HfIFC/gAAAHzAAAAHRBm3hJqEFsmUwIX//98QAAAwAAAwAAAwAAFhgUuNI1aQZJnP3j4TZObmLUjdQ0dRlANsbuKADLRuPSYBaeY/zzumrgBvTPW0f/FyCjjd1lWBwlBnXU8qqlexsLdHw49w0l5vcBcMEzA1uIBFAlCAlG5VRWgQAAAEhBn5ZFFSwj/wAAAwAAAwAAAwABfpCozVH4AJTCARq44tUEt4sWeeQSMRtgHBX2uqTnSpLDFaFPb+788kfR3ZmkqToAAAMAesAAAABAAZ+1dEf/AAADAAADAAADAABFU+G2wimmuTvYddAzE9A/Cxk8QCPu6Lp1s3ycAHu3gANAmV4/KDg+iQAAAwAScQAAADcBn7dqR/8AAAMAAAMAAAMAAdp5+K7+1gYZN12kniTOtzrvqxvQOUIoM2Tgfh1sJ4rHuoAAABbRAAAAh0GbvEmoQWyZTAhf//3xAAADAAADAAADAAADAAKNPqAG8RMWrJ4Nt2D55eO/t7PfKiz9YURaXfwtYTc21o5hE1eSWzsOyEPz4oe4Rmi/p8eT0OSGfu7E4z4HheihGauah2UtAx1aGFLI5i/sKCRsrX21yI4VIPzCHJxGYs65LzUVsUAAAAMBqQAAAFJBn9pFFSwj/wAAAwAAAwAAAwAAAwAGmkKaj4zMRH6lytg1jIS1ACWT5THfMZj3wQaY3ATSK4j4bL2I5e4ibpkF/ahXvUxcbFatNJlwAAADAHLBAAAAPgGf+XRH/wAAAwAAAwAAAwAAAwAABpXTmDvQfcQOUqw4BCxnn/zatbMGB2J3AGSSikH0D3eA+AwJAAADAEvAAAAAQwGf+2pH/wAAAwAAAwAAAwAAAwAIL5TVueU7AAWiUIRjWbdaY6DzikKhjZrU0L47mqAvvJZnoUBRHB60vzNIAAADAxcAAABnQZvgSahBbJlMCF///fEAAAMAAAMAAAMAAAMAEU/4QA1xZ+6thh3bit++g/l/0dJwkrOwKmycTXRNisaMvo5j+KQAyek4f7E4H2o77tG9GiH1tavvBAcEmpfiEXyjDBnM6QAAAwANmQAAAD5Bnh5FFSwj/wAAAwAAAwAAAwAAAwAsWMUgT0oVQ8A9pJfDGl3lvTvcqizMg6h/SYmp9qx1Hh6yBAAAAwCFgAAAADMBnj10R/8AAAMAAAMAAAMAAAMACCkY4G+wv/hPUVPwm0dcdpqXlGLgADTEqPlEoAAABowAAABKAZ4/akf/AAADAAADAAADAAADADdiYQSyPDfKJldIRkokrgMir4dYOgxbLAGIe4Ize7I5d3wWRcwAhENIMoye64m2B0rT8AAACgkAAAA3QZokSahBbJlMCF///fEAAAMAAAMAAAMAAAMAAo29Zxao1gAABYOk5ikIl2UxAGBK70wAAAMA/wAAAFpBnkJFFSwj/wAAAwAAAwAAAwABfanmk7NWNFGWF1dGEsvx6TjYIAToJInotKjrEImzeBu/LUviXAovHwhrIhMWBpcgroA8LD4bHR3C61mF/mQxQ9wAAAMAoIEAAABIAZ5hdEf/AAADAAADAAADAAHaJvfVY2k2TchxvoFkxEALbU3m1MpNwgpPIORyzKJFSYudg/QGAccPw9e5HF8R9N6nAAADAHzAAAAAOgGeY2pH/wAAAwAAAwAAAwAB2nn4rvl2eLl44jOb0evASqe7pXFaMsb5pz22sQZmbJ/8i8MAAAMAu4EAAABxQZpoSahBbJlMCF///fEAAAMAAAMAAAMAABYeQ0fiV5D9K2ZfphAdRG3oAClSBvDCVggoK8sEmllzVczdgvLiL0EWNM8zePAmQB52GSYasGEaHkugwSubiA6w3IPTvvO7tl6N2rJF0WOwRTQAAAMAG9EAAAA+QZ6GRRUsI/8AAAMAAAMAAAMAAX3cKYKLTdKmMoujXu0U3VfnH7y6dyNLh+GUh8MKgBLIJfSEWprBgAAAG9EAAAAmAZ6ldEf/AAADAAADAAADAAHaJvfVY2kwTtyAAWZMSAAAAwAAC4kAAAA6AZ6nakf/AAADAAADAAADAAADAAAseVsAC51LPQC5qTz7xU+dwnfWoIqAcOdqtvI0yEHuHLUPgAAI2AAAAFBBmqxJqEFsmUwIX//98QAAAwAAAwAAAwAAAwAAAwALDykGfepHGxDWd+Cu4gGWjpj9OHhJXfWMj6EARMG3BmFb1dtC9ANEg86s6bgAAAMCPgAAAD1BnspFFSwj/wAAAwAAAwAAAwAAAwAAIqmoa5gABOsXb6wBxnW0VQqGT8gW35FKMAu7YnciYqJMZAAAAwH/AAAASQGe6XRH/wAAAwAAAwAAAwAAAwABLVCKd5uaaa5O7zyMgeEUjWz74bZ0OIaADYiBmvkZ8L/c5eRWHXJI6886QyIvldHUAAADApIAAAAwAZ7rakf/AAADAAADAAADAAADAAAsQxjQ3LtI4g//GxP25OYdHhBhQqvnh0AAAH+AAAAAXEGa8EmoQWyZTAhf//3xAAADAAADAAADAAADAAADAAAIsroxV5uhlI+3WCNQACL7rr/dBQ99XnPSKhJnwpzfkqx1y+Yrj377wk7o4++rFqSrthG+mL7YYE1rp9iJAAAANkGfDkUVLCP/AAADAAADAAADAAADAAAFDi7g+O9I6zsIHLVPKg5I2l8EXEOVDeEdWLIwAACPgQAAADoBny10R/8AAAMAAAMAAAMAAAMAAAMAIr/awsAJD5VSpvUdGed+h+tnrq3gjGXhDU7B9FnWyIcQAAMXAAAAPQGfL2pH/wAAAwAAAwAAAwAAAwAAAwAAv0e3ZvhdAZ0M8ACc/zXCe5+ZfTgNYHfIBJCkag7iONyhxAAAxYAAAABRQZs0SahBbJlMCF///fEAAAMAAAMAAAMAAAMAAAMAAAipqMxoLahcr7ScuvJ61qRnMPIMAQrSCTZdbcSYE0bMBM5564s52xtCmIW0x4qAAAsoAAAANEGfUkUVLCP/AAADAAADAAADAAADAAADAACWt4WWRiMT+GYlxQQAshyrpEtRfvDUngAAI2EAAAAwAZ9xdEf/AAADAAADAAADAAADAAADAAC+unvqsmRear2cHjXJgaUMVry+CN4AACNgAAAAQgGfc2pH/wAAAwAAAwAAAwAAAwAAAwAAG5nKwsAJGLiG16KNgnvPkci5gzxwffTnKZt28p8yrgDa7NWpFqjbEAADFgAAADhBm3hJqEFsmUwIX//98QAAAwAAAwAAAwAAAwAAAwAAAwAG45ttx2eegBx1L++GCcuWhTqAAAAXcQAAAExBn5ZFFSwj/wAAAwAAAwAAAwAAAwAAAwAbjkOryABL+wYC51ddVpwcOTGzNPnzg8ZDCOtzUmNrRN4MqZZVysUsEOUmXUJV3r2AAAR8AAAAPwGftXRH/wAAAwAAAwAAAwAAAwAAAwAjQZI9iQi3xQbjsALa6gZ7f8o3bBHDiMvYJQyhOkZSy2kNwJEQAAAh4QAAADABn7dqR/8AAAMAAAMAAAMAAAMAAAMAI0GRbH8BWyCunXM2Ys8vm4BnLsAkUAAAH+EAAABFQZu5SahBbJlMCP/6WAAAAwAAAwAAAwAAAwAAAwAAAwBUuJUgAGpfu8h6z5/oZqzCsbShWN9a8asd1Xfd0gSziWtYbrTgAAAClGWIggAO//727L4FNf2f0JcRLMXaSnA+KqSAgHc0wAAAAwAAAwAAAwAAAwDlkyaEnPXbNt1AAAADAABKQACTgAKGAA0AAGoAA7gAJ0AB/AAZoAFEABcAAXgAF4AAAAMAAAMAAAMAAAMAAAMAAAMAAAMAAAmXX7DHDsgFsJOqwMbTUSq2hic4VcNHWyJT+1axUfGTL99HUDCwL4cOty+3h7TQLMr7tjdEgMWYFfB6Wmv8fnkgdbAAAWRusAAMZyACJjAJu4sJRC0o1OI1z41ajy/yIVAAABt2AAakAAG1gAGss0PJBbga5nammIAAAjeAAMQgAENIABRVAAcKgALLgApzdpkSGjl8SzFBCqbC4D9DJz9sZkDN6gIhSTDi4XzxklpgjDY23o+9uN3rglkKGG1o2ulJ0pV/CyujamMO1c2flBhen9nI3Szn1rsQKMetrxpVAAADAF8Sm9+nzxuZu3MB+FG5kYen65zmQdSNkK2BHm3tr021reZ1UPoKnoFCiDFRa6kqLdbQ7ff+6zKDIBdDbmtkhpvmTdQaEohs7i5+v8Aw2BhCF4rPvIgu2oQJc+ZeQ+yTZE+j6YP3UjaRMe1dXtRzg2zvfAIX2I1YUksGFqwXgFNh6zcj/MXG1r955na13vyesuxJZD5MbhP+sNJ6AFjbTbQ4wFelrRqiHLy/ikgOa+3P90Zw7ZiWOIBUGoHVQOhVQ2XxoE1FZabYDExr6r6/gWoUlSziAADyhBcexim/h2cAAAMAAAWiRPe0yFOqM8ACWgAAKsPfjD4nSqU6d4E45b8fzCkBoqiBGt56QhPyPaTi6br7U6AAAAMAATmAABMAAAcgAAOgAAIYAAFuAAADAAADAAADAAADAAADAABmQQAAAE1BmiRsQv/98QAAAwAAAwAAAwAAAwAAAwH9+70gMwYokABfU9yZAt4oxZZvLMo8vjSXhnpEYKFpvqb4jCUYhMHQXlVmAKUPX4jQgAABtQAAAFJBnkJ4hH8AAAMAAAMAAAMAAAMAACKuU/zwACdAO9rq5zR+Xdq27vb0+qOQZ4yONiyrjEfDFVWBdb1EQLDhcba0vuhkrlrgL2R19Vf7/UHgAAI3AAAANAGeYXRH/wAAAwAAAwAAAwAAAwAALDvvmtycZ8dHkQEE0u1cdWmjy3qsjkC0l8yssAAAD/EAAAAzAZ5jakf/AAADAAADAAADAAADAAAGbz8eu+XYy/A85+qmm6LbncuX4Rs2sbAxpGAAABqQAAAAakGaaEmoQWiZTAhf//3xAAADAAADAAADAAADAAADAfrBhJU8ZtggqZ+YjnWB1emTLeS0LONn9eVtAJB5pzA+rNcKmecY3M9S5HYJi/u5RNEJzKPXox23MNRx+kIwVlt66teo+nSA/AAAhYAAAAA3QZ6GRREsI/8AAAMAAAMAAAMAAAMAACK+rxSsDZrVI2vGA0hcTC9DrMVhHfP3sDnnM6WxAAAxYQAAACoBnqV0R/8AAAMAAAMAAAMAAduE+DN0RhEIaAAAAwAgpZ3gvysdiAAADqgAAAA9AZ6nakf/AAADAAADAAADAAADAAAsW0iAAleUBnuXmX2COIFx2aLP5uAnxfF9OUGMCL159/vet1WvAAANSQAAAExBmqxJqEFsmUwIX//98QAAAwAAAwAAAwAAFhgVabGIZupW4N5FQ1lPQCGFLZAV4S4h90fXsL0ffwe78k2SopDBL9e0dL8UYa9mPiZgAAAARUGeykUVLCP/AAADAAADAAADAAF+kKjVYGzW4OGv1DX54oOrkACdAOVtj0fXrPJS2Nb59NlkB3Vlmzv7/U30mywAAAMB1QAAADUBnul0R/8AAAMAAAMAAAMAAAMAACw7kCVWNpMbOEgQIHyIdkqK3NryOHVGSDTxXLSAAACPgQAAADQBnutqR/8AAAMAAAMAAAMAAdp5+K75djszdfZUoA+broU5LJpb3Pm+Fb1ML9UmgAAAAwKnAAAAbkGa8EmoQWyZTAhf//3xAAADAAADAAADAAAWGCih6it/BuHVkuSvh4OIAOZxtcVLjGXrFVFFDk5iJpzA+rNDUqgMJWO8RnC0wSSom9i/d1u7FIC8LAK0E7SFXjyKySYuMa1DJx0bwXTXhNAAABHxAAAAVUGfDkUVLCP/AAADAAADAAADAAF+kKjVYGzWxha0+r9GYAHEA77zWQomsv7ODKweU+1EJCY5gI3RxkC1uL1C0LSjWb2THGWQk18RbVmNnZinoAAADegAAAA+AZ8tdEf/AAADAAADAAADAAADAX109+Gc4t71zY6duSoGhIIEIACRi4htaGJSU70GciSuBJyD56iAzAAADKgAAABFAZ8vakf/AAADAAADAAADAAHaefiu+XYzA3Pu1EQmXxRWFMIvHQAlf8saLrB08v7+tPV35F8LX0v0Uhtdp/SVjAAAAwGLAAAAYUGbNEmoQWyZTAhf//3xAAADAAADAAADAAADABFTxKmADHQsJhvHfdp/vn3/mF7Dt1tc48IP5eIAABBcervkM6Eo5WHyylgrsFTpvXme28aO1aVmUDP9jpS3BdWXkz3x2MAAAABOQZ9SRRUsI/8AAAMAAAMAAAMAAX79qIlBfskhG+nGqeHyqwl65VgAExjljFcj3r9+AkIqBqn8vODoje1WPb7KCS7ZAQAXtm45WAAAAwF3AAAANAGfcXRH/wAAAwAAAwAAAwAB2ib31WNpME6IZL9K9MMBhBkgERl4Ih6R3FbK5fgAAAMAQcEAAAA9AZ9zakf/AAADAAADAAADAAHaefiu+XY8ZYGjNyMECsFWaqgZs3fYzpmOIpzYABM5DZ/gIFUMYgAAAwAccQAAAFhBm3hJqEFsmUwIX//98QAAAwAAAwAAAwAAFh5DR+JXkP0rZl+vfgHtPzrSQHv0yTAAZkKbVePgX4qumqMxVAoCitmHbnuH8guI9B4PodMbGf7lAAADAAQNAAAAOkGflkUVLCP/AAADAAADAAADAAF93CmCi03SpjKACY0/YeWcyaPXqQiH4PkIoL0ko5wG3rQAAAMAG9AAAAAoAZ+1dEf/AAADAAADAAADAAHaJvfVY2kwTtyAAAAqgAju6SAAAAMDZgAAAEABn7dqR/8AAAMAAAMAAAMAAAMAAAMA7R0b5gBYltWu29FGps+7+AIrRfuLUwhD3Jyw2r9T8FJTGBBf3IAAAApJAAAATEGbvEmoQWyZTAhf//3xAAADAAADAAADAAADAAADAAA7RZ6PxK8h+ldSsUmie9yS9/6vtOAISMyNwB1JTwkHUGYIl/u//xA7woAACygAAABKQZ/aRRUsI/8AAAMAAAMAAAMAAAMAAAMABBkdyg/sLXOtmIAC4V0nK9RPxMsfuhRSyVP2RbLSti1y+aD3T5SIqgdhvTYlgAAAK+AAAAAzAZ/5dEf/AAADAAADAAADAAADAAADAAU/cfD3eiW6PHj2A2d4pggHfgEmBj/zS9AAAA1ZAAAALAGf+2pH/wAAAwAAAwAAAwAAAwAAAwAAG5z8n0nfFOGvj3g7WKlG4tiAABiwAAAASEGb4EmoQWyZTAhf//3xAAADAAADAAADAAADAAADAAA7fWMDM4L5gCN0FZoP7PnMVlnwkWKGTahO/aaf0KmmHD9ZIDKuUfa0gQAAADlBnh5FFSwj/wAAAwAAAwAAAwAAAwAAAwAEGR9t7cMpyTu+dMzKoXaAgn8Uljai1r47Eq9pueAAAVsAAAA6AZ49dEf/AAADAAADAAADAAADAAADAAU/fHKAASv+UHXYBvWmLQB8kw7LuuzU0fzMN7/3TP8rEAABHwAAADsBnj9qR/8AAAMAAAMAAAMAAAMAAAMABR82rbqu/JjYAOH+ab/IIm1s/za08HQv8oRjTvisQHOGwAACPwAAAE5BmiRJqEFsmUwIX//98QAAAwAAAwAAAwAAAwAAAwAAO0Wej8SvIfpXUvNghCRjicKAHS0hrpdDap4ABcJygY5WlXIauJS+GHzzfgAAI2AAAAA0QZ5CRRUsI/8AAAMAAAMAAAMAAAMAAAMABBkdyg/sLbn3Fnibnh+inwxYxmUv33YAAAMBHwAAAC8BnmF0R/8AAAMAAAMAAAMAAAMAAAMABT9x4d3oOOZt/n5xmk/HnkcEeTpYAABHwQAAADQBnmNqR/8AAAMAAAMAAAMAAAMAAAMAAARUw5Bn06CMGgK3TniRi7p1pBVH+hppVMiAAASMAAAAN0GaaEmoQWyZTAhf//3xAAADAAADAAADAAADAAADAAADAAbtmMwIbzlC2BgCu/9z1GEAAAMAKmAAAAA7QZ6GRRUsI/8AAAMAAAMAAAMAAAMAAAMAvnIZvaVEtOZBxhpGA0opAxonKjK9C9QZb57dPLObYAAAEfEAAAA/AZ6ldEf/AAADAAADAAADAAADAAADAO3dSEUzD610nABr6A7t7ZrcKK6/XGGEipb65PqD/pxma7H5CAAAAwI+AAAAMAGep2pH/wAAAwAAAwAAAwAAAwAAAwDtPPxXgDnrCeeUPyrV/ReqXE0XBsLAAABHwQAAAFNBmqxJqEFsmUwIX//98QAAAwAAAwAAAwAAAwAAAwH86si3QAL48pt3JNNhOeHw5iai5bb7Lm6a2P1pZeIoT3soWkbPckd1p5GybGHdKUc4jjzOqAAAADtBnspFFSwj/wAAAwAAAwAAAwABfanmk9QACBALB8l12FV4E+rnXiD6GHtAK6e5oiEvjjuxsHAAAAMDewAAACkBnul0R/8AAAMAAAMAAAMAAdom9843kM5zNAAAipXKPocgFAAAAwAR8QAAADYBnutqR/8AAAMAAAMAAAMAAeV51098ANMlcHshJCG6IypyS2MNAe6TBe8G7y0BsQIVoAAADUkAAABqQZrwSahBbJlMCF///fEAAAMAAAMAAAMAABYeQ0fl8KwgCn0VLvQAKiemtAML2PSgZfl8Lq4Gyl9INmcwPqzU80UOHxC9pQMemAImEUD3GCQAi9k7MJBiwro7MlfE9Wo7ebvEmv8gAAAHjQAAAElBnw5FFSwj/wAAAwAAAwAAAwABfpCo1WBs1qkcmMVT+r9JdmX7b3S8vS2icHHDyQeACHkUC5Xl8AyC+J4vohwddw/uuaAAAAz4AAAANgGfLXRH/wAAAwAAAwAAAwAAAwAALDuQJVY2kxtuDLWZZAtBNXcz67yi+j4CH/JqRuAAAAMDUgAAACkBny9qR/8AAAMAAAMAAAMAAdp5+K75djPKIeAA3NTm2YHuTEgAAAMC2wAAAG1BmzRJqEFsmUwIX//98QAAAwAAAwAAAwAAFh5DR+JXkUEnMABzjvY9Tn5eub9/u0IXAn1fY+1gGlo3uXNT4IMYM4Tg0ilN6AG/QAEA+Z4G0NfU/eaqpY+8ZAz1QlZWix8FeM+cMpOV1eSVfQvAAAAASUGfUkUVLCP/AAADAAADAAADAAF93CmCjIg2GLP3rE5wtlgASwBuhF1kAk1kuoLlBUqa6eMwBD66T1FZlOdOABuwj+QAAAMAlYAAAAA6AZ9xdEf/AAADAAADAAADAAHaJvfVY2kwTt6zuDPPrUbuewmfyvV1UDMiC1/jmWTDiO/5vZ+wAAAGNQAAAD4Bn3NqR/8AAAMAAAMAAAMAAdwPkW5xKUHWIFYSin8HxTtksivn1ASlgKcpDDOVhboubZm+XyFoNwAAAwATsQAAAEFBm3hJqEFsmUwIX//98QAAAwAAAwAAAwAAAwB2iz0frY6EET0AAAMAm3T+k4GxABqNsqGN+Cd8eSG0xh8AAAMC9wAAAEBBn5ZFFSwj/wAAAwAAAwAAAwABfskSBU6uYUC9IksJII2naAVojxnAuQpLS0Qi8O2aDciGXak56ep8VdAAAAdMAAAALwGftXRH/wAAAwAAAwAAAwAB2ib31WNpNNUGWdc3UIapEv2nHDMOPOH6WMAAAAakAAAANgGft2pH/wAAAwAAAwAAAwAB2nn4rvl2M8SCEeEKHOjb7wfK20ga9+3O1Dz9/hYRgQAAAwCygQAAAENBm7xJqEFsmUwIX//98QAAAwAAAwAAAwAAFh5DR+JXkP0rZl+mEB1mxehWeKR8M0mrW4C8ImXRIAeqVgwzQJmAAAR8AAAAO0Gf2kUVLCP/AAADAAADAAADAAF93CmCi03SpjKBtCERT82LmoMvaIKfa32RSgD1otzw65e5AAADABZQAAAAKQGf+XRH/wAAAwAAAwAAAwAB2ib31WNpME7cgAFvTEn4pNoAAAMAABUxAAAANAGf+2pH/wAAAwAAAwAAAwAAAwAABnHYbIryPpjhYlwpMG9uYkVXtmCi2AGWfhA0AAADAf4AAABEQZvgSahBbJlMCF///fEAAAMAAAMAAAMAAAMAAAMACw8ho/EryH6Vsy+tTWSM6SA8ni7K2oAPltlsoNMlSZtBB+AAAjcAAABgQZ4eRRUsI/8AAAMAAAMAAAMAAX7JEgVSF8ADiAd2/0yWJT83xmIgAUHv4EzIZB2diFGJ32khucbGY6PC0wDOitFyg5gMPu2xPuGdE/RQniFNyRRzAISOsT9XAAADAGBBAAAAOgGePXRH/wAAAwAAAwAAAwAB2ib34fd4TjWACCPjHsRwNHu4hOCSMmHfzaC1WEjBMdvwdegAAAMA0YAAAAAvAZ4/akf/AAADAAADAAADAAHaefiu/tYAALo+x/xtpQrqt2y/AEjzWBuAAAADAy8AAABSQZokSahBbJlMCF///fEAAAMAAAMAAAMAAAMAAAMAS5XkE6ABzjrzitFy/rqTcnGT/KhMS3xGkFX10CVAae6YYc4+g9jmP2ZSGKJ+NQZL4AACNgAAAEBBnkJFFSwj/wAAAwAAAwAAAwAAAwAABR8Yo1WBs1vD19zfz8EkIALm3AXRu08+9s5kouBDsVth03noAAADAEPBAAAAPAGeYXRH/wAAAwAAAwAAAwAAAwAAAwAithosAK8VJeKIGI8w/YBL2iNiyrvVXhxsfRhG4FdjxTr8AAArYQAAACwBnmNqR/8AAAMAAAMAAAMAAAMAAAZx2IpZR2Ks8OrMsmtXUkxsQAAAAwB3QAAAAFhBmmhJqEFsmUwIX//98QAAAwAAAwAAAwAAAwAAAwBLTUZjPh5D9K2ZfZ53DfB6jS+JBd7prFRI1AAhEjhtQCza21MbPjRC7gSjCyY3n6xM23PhAAADANSAAAAAOEGehkUVLCP/AAADAAADAAADAAADAAAFHKwmCi03wPkVqNdfGTcoOKMxEg2oOTEteD2oAAADANSBAAAAMQGepXRH/wAAAwAAAwAAAwAAAwAABm3T31WNpNkFdAhg+RQ3KTO5xHSyaM09YAAADBgAAABAAZ6nakf/AAADAAADAAADAAADAAADAAC+WFRiAArxUl596oB7+BfvbH4DaoA+/FLWfNfuciqyBnRIxf5fAAARsQAAAExBmqxJqEFsmUwIX//98QAAAwAAAwAAAwAAAwAAAwAAAwAG7Zlbp+4BHEHeBCugUZnvn4KFJkI8RzKjKbJQ7ugsJGo2+/wEAAADAFlAAAAAXEGeykUVLCP/AAADAAADAAADAAADAAADABuOR0ZYAV9NLoIafjub37ZQeH0+uwJLUPfnfo5vwhY2ZuME2c/FhpLsRacsZRzrFR8tMSn4er0LLqtJ9rLyAAADAD/BAAAAPgGe6XRH/wAAAwAAAwAAAwAAAwAAAwAiw5cshYzbEg8AEXqWhxQaiuQf4ArDZvl1Vhaa2lUXYjX2qqAAACPhAAAALwGe62pH/wAAAwAAAwAAAwAAAwAAAwAiqvb13y7GYHfaijMuGvayvMHfFfWAAAR9AAAAmUGa8EmoQWyZTAhf//3xAAADAAADAAADAAADAAADAfzqvh3ACBSActaOx+Qa3IaRjLnqljeiTp53avpAaYX5jGjbVWOqKxZsK9+v1Qd6fprnwklG7xMCjzA8gdIfGZfg7Tc36AFbiotYCQnofdqsOfuD8ZXC+3uBCM0iysoVslaHCUvyABn1Sfsml4jabU7cdnO3CC+gAAAakQAAAEdBnw5FFSwj/wAAAwAAAwAAAwABfanmk8A40AEHjGf3xRALpeuh6lA+Ds5FMb1A8vKvzCf1xsy7f9xqMCYIzMuTsAAAAwDpgAAAADkBny10R/8AAAMAAAMAAAMAAdom9+HMTnwREAADeYmE0RnmlXworj0Tkd479dQ4WtJ+SciAAAADA8YAAABCAZ8vakf/AAADAAADAAADAAHaefi2HMBxftItfkvTNAG0yTYFUY2tFAzPjNOEDRQwj2F9v4/nLGff/WnyAAADAN6BAAAAiEGbNEmoQWyZTAhf//3xAAADAAADAAADAAAWF7bX4qGkRFHrCC7wkBY9zzw2ftQAtnQx+eQNkujzKJEsCDIqi/pkQHpxXHMcQbGujkYSVUfzK/DftWv4zb4Zr87dSIU94f3tUlNToLWFTtQspkRcFesggApee+NlJu5P/w4n+oxbxr0SAAADA/wAAAA/QZ9SRRUsI/8AAAMAAAMAAAMAAX6QqNOdacb+IjBj0OpjScYFyICZiVCuYiMgDyR4Gp1eP3UTlnHUAAADANGAAAAAOAGfcXRH/wAAAwAAAwAAAwAAAwAALDuQJVY2kwTuvlS6kIYPn9huVuJtEAIHq4nB3UmSAAADAEPBAAAALgGfc2pH/wAAAwAAAwAAAwAB2nn4rvl2Mv0Po2rZQpiQCrSV7IXke8AAAAMAGzEAAAB+QZt4SahBbJlMCF///fEAAAMAAAMAAAMAAAMAdz+R7vv2ASiV7US5OAFTpjMKH3W5fVkqGrhSlyUbOLpX7hd7rdJ4pHMInwB9oJ79VuKNpSj4rxJEBB/aSjZwQHb3zUj3TElSQaF7vwoRvTQnbWJvDviJW2WhFmWK6eAAAARtAAAAVUGflkUVLCP/AAADAAADAAADAAF9rEbvacQLG/Db9rIARHP1NVfvAvKqlRFQedW/BkgRJWG1/TEWDLrNcPm0L9MxJgn7nVT+mGzSUZkrXn4AAAMA+YAAAABFAZ+1dEf/AAADAAADAAADAAHaJvfVY2kw1hn1djZTWV1JhDL1pZuC4qO3oaQmgo5fCP8Lkhny4iGonZSjud2F9oAAACXgAAAAQgGft2pH/wAAAwAAAwAAAwAB2nn4rvl2MwI8ALp+KVABDX8ZQTxwGMaQiteRlMjhfoC+cwQDeEGvTtmNEv4AAAMBLwAAADlBm7xJqEFsmUwIX//98QAAAwAAAwAAAwAAAwAAAwAAAwAvsqTgp2O/KgA+Sfy3pluoJJmAYAAACygAAABTQZ/aRRUsI/8AAAMAAAMAAAMAAX79qIlA7ca0RrwBB46vjTJ9hy7X9n6oAAk16p0ltpVtOI1fiTemUSIQCqNwj4SSagrQ6HEiaetZKVaA4AAAI+AAAAA+AZ/5dEf/AAADAAADAAADAAHaJvfVY4BIQEt4AE7EiUp0cAAZwJZMDV6R4Eul4N/CPLVu355cCDMAAAMAR8EAAAAxAZ/7akf/AAADAAADAAADAAHaefiu+XZo4AAy7ngJ4V2OPsIc5Jf5PAm8+2vsAAAGfAAAAFVBm+BJqEFsmUwIX//98QAAAwAAAwAAAwAAAwAAAwABnRf0/AAJPbWdX0Jjn7zor9vz9q3nTzHRdeVNUnT922yN1Dw89/MXGVpOfnl9HiGuahdgoCSFAAAAOUGeHkUVLCP/AAADAAADAAADAAADAAADABupCo1WBs1qkdGJlbg5EVGlAEdtghto+o/R4Ia1UAABZQAAADgBnj10R/8AAAMAAAMAAAMAAAMAAAMAAARWngtuke+Uc32AA4VNTsPXLTa5gYDhlb+ZtPDEAADFgAAAADQBnj9qR/8AAAMAAAMAAAMAAAMAAAMA7KIk9akf2JeGkODv42NYcI6xMFhibJCy+WAAAAnZAAAAU0GaJEmoQWyZTAhf//3xAAADAAADAAADAAADAAADAAGblDR+JXkP0rZl+2j4bodE2kCS5MpgI/EOrLwU9iCj63Ft6SpJXnh0wOmPDHmDxfgAAFbAAAAAMUGeQkUVLCP/AAADAAADAAADAAADAAADABudwpgotN0qbFB+aRmhIy8WO4j3GAAAR8EAAAAvAZ5hdEf/AAADAAADAAADAAADAAADACKkICVWNpME7w2PjT9Hm7BKqGCXxQAAFlEAAAAiAZ5jakf/AAADAAADAAADAAADAAADAAADAJauVAAAAwAEXAAAAFNBmmhJqEFsmUwIX//98QAAAwAAAwAAAwAAAwAAAwAACOgT+AFvHU+m/vNac3+KlA+IdN9zHyq6dh85E2A1FyPhaWrfJ+Rn74leeao6I3HsNpkTgAAAAEtBnoZFFSwj/wAAAwAAAwAAAwAAAwAABUAN20ADfqvbmf2H5L1ex7r+vHnbmYDqDyC39MBrnAPl2O9E9tZoFDoMu/B+KWcUAAADAScAAABBAZ6ldEf/AAADAAADAAADAAADAAAtfzOsrB4jjUARLnEAvZnVrcQSRMK1IZSxvcoMLsxbo9PtRrPef6HNjsAAAj4AAAA4AZ6nakf/AAADAAADAAADAAADAAAtY7xQhYhpMRzZFaMBqcZcbXkAgQ7Mhf2tRUzPBoP4iAAAj4EAAABZQZqsSahBbJlMCF///fEAAAMAAAMAAAMAAAMAAA4eDN8tY+SM+imZPhmRMmL2cffR1AL4SG6NQcY36+SaglSMiP92ISKoDIuVWYI2xQN/lauYuq8AAAMAg4AAAABAQZ7KRRUsI/8AAAMAAAMAAAMAAYeqI9alDAC6agIVKUwYaVwN2oo2HDtkgGvCHxsOeOT2f9mktyd9e/CAAAAk4QAAAEEBnul0R/8AAAMAAAMAAAMAAeUxk+ky7zRwBDvWsbMh3UKGj3ofKwAAVK9F75zRAWX/hi7C5Wc5HFpiPbgAAAMDUwAAAEEBnutqR/8AAAMAAAMAAAMAAeWKvE3cDEMcEALCSKrRp+lZJv7WXdOkXjtdOWTyQ1O0lpwcH5y7VPn79BA8AAArYQAAAGlBmvBJqEFsmUwIX//98QAAAwAAAwAAAwAAFq5UzfOiAer4sKC4wepg13iIlFVE6WpKnnANbLhyADKcV4V2MxGYmYuB+O+pT8Spk/U4DzCCl8cYM+YZ8yxi6F4Wh3K4jma0GO8QAAADAbMAAAA+QZ8ORRUsI/8AAAMAAAMAAAMAAYiUKz7blTkiMemsGJBrl3OzSK2Du+NpHR6mA+g9XgCcNdzbTn0zZwAACtgAAAA9AZ8tdEf/AAADAAADAAADAAADAAgxG1HOJ3CFn+H8p3V5mpABf1DO2zweNKyxFsjW3tJC//R2gAAAAwAN6AAAAEIBny9qR/8AAAMAAAMAAAMAAeWKvEataYJBMXGfC/0MrNel4ABYls9Ad4GTMg5fp7BBYTKSv7NOkOiHg3zdusAAAj8AAABUQZs0SahBbJlMCF///fEAAAMAAAMAAAMAAAMAAA4hcGb5z5NRXlPanDR3lfmZ2VCEaKq9XRQ2yATjwkAF8A3XUCLuCF08S0L4gNw/3hRtH4AAAAW0AAAATUGfUkUVLCP/AAADAAADAAADAAADAADzPd/QLcqckRj01gxFl6TYbwznjnSbAqJoWADiLrB2LHuCDw1pnyoldMnuznp65p9D6AAAAwGzAAAAQAGfcXRH/wAAAwAAAwAAAwAAAwAIJhs1aG4Un6HACajTsovlAC/OgA2aw9d20ZIxoqegnNI6kUoVvDn3EAAABqUAAAAyAZ9zakf/AAADAAADAAADAAADAAE1Y7QSqixBIJi4zbsJPmrpqAXV3XCr2IRn84AABW0AAABdQZt4SahBbJlMCF///fEAAAMAAAMAAAMAAAMAAAMAAAMAM2YsnSlJ7s0Cimb836LkeYblKciQPDlpD3sWrkRKSvtijDvrIk/rulZp4ZYoAVrdGZMxnjIjsbOs0245AAAARkGflkUVLCP/AAADAAADAAADAAADAAADABxpGgAbrJDUZOgqevtP1SpVfCobrPRJ3JixPHbFBJM6BoVNViGZ6iN+1UAABZQAAABXAZ+1dEf/AAADAAADAAADAAADAAAGnpogCJalnsm01+hsbHHD32oomjSnjZOvcOajSmme3MX0fXVPPUyTdtZ5XCdpEvzmbz0PF8Cx8rF51wiBUQYAABHwAAAANAGft2pH/wAAAwAAAwAAAwAAAwAAAwAjqvKwWmKr5VIV4fewFJ+s9mKPclTeyyYieFAAAWUAAABaQZu8SahBbJlMCF///fEAAAMAAAMAAAMAAAMAAAMAAAMAM3KptiAzuFOKAO9kmPqXOQUwuNAxHsg/m8XR/NinGzkTrtRyRuT3p1Eu3zBx/cQ9rS24H1iAABiwAAAANEGf2kUVLCP/AAADAAADAAADAAADAAADAAADA3WT2nmkdjjgqwPCdXhmaXpLt6ve0YgAAYsAAAAtAZ/5dEf/AAADAAADAAADAAADAAADAAAEVKA8SoGb3xD0Yo5LJMhZVp1AAAWVAAAAUAGf+2pH/wAAAwAAAwAAAwAAAwAAAwAFRsrABGNSz2Taa/Q2Pu9F7APBYoWSY2Tr3Dmo0ppntEuymhZxTfxc5Dcv64bpsIoysdr3WX+AAAVsAAAAREGb4EmoQWyZTAhf//3xAAADAAADAAADAAADAAADAAADADNyqZvUb84SvMUpt1SZ/oC301PGzKH0UpvWVP8tmYAAAAalAAAARkGeHkUVLCP/AAADAAADAAADAAADAAADAAQSwJnGACWifLGnGRMz6/aqjCbTUecxiios4yiQYwBHNHLVxvoCJiPqTgAAFbEAAAAxAZ49dEf/AAADAAADAAADAAADAAADAAVD3pycggLvY6j24jXRGwkaomsHhWJ+4AABWwAAAC8Bnj9qR/8AAAMAAAMAAAMAAAMAAAMABUBilgtMVXz2MQrvautl1A48iOpYAABHwQAAAHFBmiRJqEFsmUwIX//98QAAAwAAAwAAAwAAAwAAAwIMriTdAAvrZtczbYtWLhKUrWsC51xZ6/h69CPqPmjYA2Qf1CEY1N3szRLlxAUBCu+rbvRPlhsCMPQ4EnUYZA8tgJBb+CSlqy6t6HWt0Mz8AABGwAAAAE5BnkJFFSwj/wAAAwAAAwAAAwABh6oj1qSbSJHXaHgCHelEtpg7C4Q+vJrp46uNhIw/0I/uJY8RXl08T/0XssUl0TjW7iL0nP1D/VAAAWUAAABFAZ5hdEf/AAADAAADAAADAAHlMZPpRmgQiWkAAAMA7MkJvMA+MJ4jhox76mUGNwvsyrX5zT3gvsSjO6yFPpwufcYAABHxAAAAOQGeY2pH/wAAAwAAAwAAAwAB5Yq8Ro97eqOhxUHhO7aE16wpTpcmGJDyKHZIGmNgBS0jwAAAAwDUgAAAAIlBmmhJqEFsmUwIX//98QAAAwAAAwAAAwAAAwACnwOG+AB1eUJ3r+lto0oDWD2djdO+32I3nw+sF51EAGiYZ33oUelc2gIy6N5MoIZSNfIJxC0977lRrO/x6A1RW7JgNnumXHVeUV9R6Ea4OMFpLpBlTKD5iK2v2rr0IIBgaqFCRxcTfw3AjhaUrgAAAGFBnoZFFSwj/wAAAwAAAwAAAwABiP9aqEpQcr5Y0P3VjwCOoarheEbvb01aonlB5/ea2exG9QjYepWEKEAuajaYSXcTgdN4j2LogaOv6dSq+2hbjs6WisZdMDUU1WrAAAI/AAAAQwGepXRH/wAAAwAAAwAAAwAB5TGT6UZoAyVz0jnAAtmNJb7OwDXrpF0GxV8Ad4V4/CBF2khN8MUt2dSzngG8YAAABqQAAABPAZ6nakf/AAADAAADAAADAAHlirxGj3t6oxN0zOHgIAWYV8czvCbyKsNhCEXXNA+Dokau1aEdYtaR3LH+6PfnJ1tSYlD+JkFdMdioAACygQAAAHFBmqxJqEFsmUwIX//98QAAAwAAAwAAAwAAFq5jQARokIapSaB+8VvDP5KHTleBLIQi/g/6rbMx3UqtlrYbqLEixVOuYjUh+vfkJY8d5zKfipQRNJBHzQ+brRAgnqlL1PpoBxwfP0vZTnzAjxUQUQ9s7QAAAD9BnspFFSwj/wAAAwAAAwAAAwABh+d1ALKSHidMy+ZWKBi7tdjFY8J/RvdoQI/H7q7NciiJnO2KaVU6gAAAGXEAAAA6AZ7pdEf/AAADAAADAAADAAHlMZPpRmgC/nhtJMSbA19o95TEAIEf7kEc0YKSpYXjiMgtnFNxgAAEfQAAAD8BnutqR/8AAAMAAAMAAAMAAEWVp4PPByKPoai3UrVYDcqeNF9zFWqL+74z0C9Zj0sb7DKvY1BcVBQD4AAACXkAAABgQZrwSahBbJlMCF///fEAAAMAAAMAAAMAAAMDOEPRbvwBpVPYChQREH/JRaGQc0jroRNGwvWf110Bj/fhkZA6vX0+BYwL/G6smcuvlv2jq6sDYgJ8uN/4lBCOAXTAAAI/AAAAWEGfDkUVLCP/AAADAAADAAADAAGIye096QDm6AG2Af3LNVvo+RmQ1UF8mB6yJAAKRNELRi0n2CbjcMg/rMnvo6rMp1iWmk3xhhfAC0Ckf/jDmSPkAAADAj4AAABAAZ8tdEf/AAADAAADAAADAAHlMZPoxvDZk9MVcp6Nxw6CWM8PrqP0o02e1Z274jljK8XJvDGd+QtjfKVYAABHwAAAADoBny9qR/8AAAMAAAMAAAMAAeWKvEatb8nEdU944Qbv0Gj6OddAevr4fPSPGUzq+AcS0DmEAAADAH3BAAAAfUGbNEmoQWyZTAhf//3xAAADAAADAAADAAAWKJzHhGK8shF4Mf40RmlQOj4Z0gQj72puAC+r8m0L9UtDXKa2GFqvmM5Y7ORMGClqJE2QJhInQuyySN3Vreznsje0mzCRKD4G1yQlIqsDjwibXtHVRDeWr2e8kJ+lDIkpaNNMAAAAOkGfUkUVLCP/AAADAAADAAADAAA3PBW0tphLnyYMnKoq18tn1K3ZW23Ik0aHaCQwfnS0Kftv4AAACggAAAA2AZ9xdEf/AAADAAADAAADAABFSP2su1TlQrMC9RgL3S1A8a5duUjEfSh6FpSMFqtcj0AAAEPBAAAASQGfc2pH/wAAAwAAAwAAAwAACjjwjcLPTTSNZetM/SAC2UF2+f+3vks32VXg1OX22VTmJT64gsOuwBzklogZUU4m3VtHgAAAz4EAAAB+QZt4SahBbJlMCF///fEAAAMAAAMAAAMAABbOT7gSX9aj35FMyxeH3U3xACESB7JeAdEIIa+N96DCzEJ3FWY6HuTfycEGiDH5ya77nozbtifZsTdzTWHAUjQ6efXJ0h+ZHBoapHNFiBw7CEirrg5jqaweoA0SdeObOAAAAwEfAAAAQUGflkUVLCP/AAADAAADAAADAAGIlCs+25U4smzevBKQ2tv+WdZ0GkGCkZtTymlUPMVHle5kK0NU0BtAAAADAFJAAAAAMQGftXRH/wAAAwAAAwAAAwAAAwAAAwAjpB8OwubCCzRIAJ4zN4Lvpwg9GvnSKgAALKAAAAA7AZ+3akf/AAADAAADAAADAAHmc2eACcQyxHJwva9rArRC0XlWP8E1AefvA5BK8RNk2uz+4vTFI4AAAwMAAACRQZu8SahBbJlMCF///fEAAAMAAAMAAAMAABaoFk5ax632AVu1Zixi2y2g5ikMGZJFG5ZgBKkfChPadmsybplQijoAaBp9+Yv7+yuQggLMmbBuzkYoucZpC8ZiPuo05qKlTzkZETDIdMDg5qDXrXDS7Vdr15fueiUTlICf75KKbI4cD+Q+op8aNrSZAw4M7WjVsAAAAF5Bn9pFFSwj/wAAAwAAAwAAAwABiJQrPtuVONhM2yAUaQEeSGaMFlWC/BSm/zhbqxXTSJSAOfPw7Q2AjZidndz2FaYfHaVomWH1rATmlsCFxD7hCN4by/rpmAAAAwM+AAAAQgGf+XRH/wAAAwAAAwAAAwAACjbkCW37AEGVTiZ8rjPeA/jg2A8WanMWnoSLXpAfcJTGG1tzerxqOHEjaQgAAAMCRwAAAF8Bn/tqR/8AAAMAAAMAAAMAAeWKvEatbKocD5OAC0v29yGRVo2WQGGzb2MiivVjh2lfcLAJ75dWIErp4/xiyQj0DVsyhpRqOh8YzXGz3rDN/WEfM862TzR+9wAAAwBDwAAAAJ9Bm+BJqEFsmUwIX//98QAAAwAAAwAAAwAAFq3T0Zs3RPpYXXGKcwopW1PR1bKdn15nCg9W08vjAzP007vzk233wk6Tl53s4BnwH5MjVcnynf5LXVbguSgLSocbpqZFqQrvQITnwihO5nczVBgVgLutSp0QIzAyiy7U7IzgfAlCy5WHyMzW+d6g70gedGEAjvzf72FXeW5pIaxBGQfu3ZcAAABJQZ4eRRUsI/8AAAMAAAMAAAMAAYiUKz7blTkiMemzJkxQRAz+A+N82vEY0Al3EpJUaaMYJ+z36jUXusEKn1gABC1KUrrSoAACywAAADgBnj10R/8AAAMAAAMAAAMAAAMAOITcwYXNhBZoj6e6tpw5IcCWL4MgPYmwq6fBSRA4kYfIAACPgAAAAEcBnj9qR/8AAAMAAAMAAAMAAeWKvEataYJBMWvRHTbRlQzKoCUxJdABxiRP7whWAr+p/5XWIPm3ogBt5M3LCLFSvSMAAAMBHwAAAJZBmiRJqEFsmUwIX//98QAAAwAAAwAAAwAAFqgWTlrHrfru6SguKaAFSCNGGLbCJma0dZ019sQvYBn4GeiAWFSr9ZsrACESAoz0N0+cCu1kl1tFxUFm2Ne1th+CR/Cl2JUBN8oKXxTJHKTuFU0/KD4m+f7EiC9eWC5AaF4zIbnpHsxwr6e3uwJeV+ASh92Y0EEcwuzH3eAAAABbQZ5CRRUsI/8AAAMAAAMAAAMAAYfndQC7Lo/RjdMrcTXVV07c0RM8EmZHEs99HtjtgBOxeS6On2HywPVmFIjH/eVUtFWsjtI/WI8tfaEcGaDRchYwmnNQQAAEfQAAAFoBnmF0R/8AAAMAAAMAAAMAAebFOeQc5QEOCABLPgBzn1sciYH6GuViGEq4mJRIy3bnEPibTgfMPBNt/A7CUKRLw6YqmTC1ZNTNYe0u2iL9EQYpy2G28AAArYEAAABCAZ5jakf/AAADAAADAAADAAADAYiVGijOuFSJav9pmywa+/KblSiQnTBJftVgr2Fg6pch8XUn7tznInsrlmAAAAQ8AAAAmEGaaEmoQWyZTAhf//3xAAADAAADAAADAAAWr273rSTl+ovCHnPe7sySbXRbXTD2bk7SqtlD3sO8ADRVFnvEFuo3WEyVXmfW8JFgv2c+plNFuR0ZXzdlakU6AHU7Z0hEPFlNbuLyrFixq+kCTwKqcWdUp6tH14CDFYLbJSH3pekr+r9v8zvVbe4R6cS+bloppx/hQtZM2FEIAAAAV0GehkUVLCP/AAADAAADAAADAAGH53T+4s0VnXdmRkcwl4g75QqXknSJ0XsxdApq2IDInqXx20cgzvf1adJ1tPHEAJc84JxokN0PTP0jJLSzRiAAAAMBswAAAE8BnqV0R/8AAAMAAAMAAAMAAeXzRwP35LIMPk7abkxHrP8EuJd3xuHgwaK7pGVb8MR6uOz2fKuZ0wAhiGpoUAqOHay11mIWrDVEAAADAEXAAAAATQGep2pH/wAAAwAAAwAAAwAAR3ynOZFN4VkEAEUfSPW6F4CBI2yF66tuMRKMgJq4JiIV5DQFWvH+ub6zNLJ90s7cLZotvOuHAAADADWhAAAAiUGarEmoQWyZTAhf//3xAAADAAADAAADAAAWqBT21XyxNpz+V+UXoY8SIgk+IgAAcoHLRiI5hiDq33oQlZxBSVxy/+s7QfLH0lqDkUShT3hrDZcRCfXW01kU4pUXI5xMfws/TyIvNB0P1cqrF0dh4D62pMToI50/X1yfYdZQ+7kucrfa5/AAABUwAAAAekGeykUVLCP/AAADAAADAAADAAGH3CmCjDQHtQjlABcII2j3pOdB1RzltgUFy4BUqwIXq3K+mO6XVWxWx/e2hpwf0jTHrzYOluVa3QZ0Ynty1cBEX1thoOkPbzGrcQJl7Jd41Am6qqcE9kmgO8+difscrylaw9OAAAMfAAAAWwGe6XRH/wAAAwAAAwAAAwAB5Sb4BjuYVjzIl0gmb6ERYAD9iqJJ41xcAjb4BXRkiYxM18xOR03GBz3AzvbWlwLyTBiqyj114OjUkkkiCdb4gkoKEwIZQAAAEPEAAABHAZ7rakf/AAADAAADAAADAAAKg8wVgiQ88JH1z0tnAC05EvMkCM6Q3nUCNdi50GXnG/B4y9obpnCQX9o73hP9logAAAMAu4EAAABoQZrwSahBbJlMCF///fEAAAMAAAMAAAMAABantsM8SM2zCFOgXV9jtN/KyjqA43yIcSEgezq08AEvhSudYe3HkiVVILjS1Tr+hTKMdFpr5Mo89HwWYQCLnTiuszOf17kHY11XAAADAh8AAABlQZ8ORRUsI/8AAAMAAAMAAAMAAYesNs6z5MAYeh8S8VoOuukheP0Z8ooY3q/BhOmoHQbHu4g4zEaKFab+fzrVTKI43xXZ774qJzWdCqiuQht39j3GGeDwlDrWb6+2O+rIAAADAk4AAABPAZ8tdEf/AAADAAADAAADAAHmupCZiiIJ6Jd8eDQNNgfhYYz2Sbkvyo2g6frF20WpcMBci1s2g9hqLwnojo2oAIPmbyR7prOUAAADAABiwAAAAEMBny9qR/8AAAMAAAMAAAMAAeZsQhmyGuixgiQ8vI4qCG0inOX8cqIjltwzfJ4kudSQbvVQiYpP/tsRxdGyAAADADehAAAAWkGbNEmoQWyZTAhf//3xAAADAAADAAADAAAWtq8HhSUSTYWIWK8RmYXJlytSNknM5IxLiDbByPjHW/QLzK25QtMKTaqAnlXKBDuihGvSlBVcvcTDh41GA9ZaYAAAAEVBn1JFFSwj/wAAAwAAAwAAAwABh9wpgotNzsOSINCw6snpS49auFiENAE6KHdOe9F8aZPn8eoAPknuQE5S8EHzQAAAEXAAAABeAZ9xdEf/AAADAAADAAADAAHmupCKY/StD5IAFw9bCf2pV3Sx/rvtFq+4BUFZ2nvvMUxuaEAeaZleujfm79NlfSOlse8ZpWJmnNkIRwU9uq1ymJ/egaK/EdzAAAANmQAAAEMBn3NqR/8AAAMAAAMAAAMAAAMBiI9uuq2FWlFEqky0ZRTyiuAB/Mai58prf8U15ZZV/bGLMD+K5qH3QC5P5EAAAAZVAAAAXUGbeEmoQWyZTAhf//3xAAADAAADAAADAAAWr27r8VDMnTn/aRePHBseRXxmZwgaAAS1yhFb8vYDxNcs3VveIMtGBivAF4BnaIUh4o4oPL4qo14EROrr9bIAAAMBHwAAADpBn5ZFFSwj/wAAAwAAAwAAAwABh9wpgotN0qYy0JqcU+t1+rqPc5FFe/rkjeIgBZGCuLSDVUAAAAccAAAAPgGftXRH/wAAAwAAAwAAAwAB5rqQW2RwAJlzpekU7t/nCvhdF3gAAC54jC1Gw4XyWKkZJSMAmYnZAAADAA44AAAAMgGft2pH/wAAAwAAAwAAAwAAAwAALYc/YUjb8/Ln04KwLcZUxdTGx4VXwYC48YAAABbRAAAASUGbvEmoQWyZTAhf//3xAAADAAADAAADAAAWqBeHAL2M+i+I3AH3zkbGHDa8ktpgKxkU8o10RA4O9r8ABDPtxoxJw6cjiAAABWwAAAA3QZ/aRRUsI/8AAAMAAAMAAAMAAYiQqNVgbNazwuijP5ffwRHCT24AI3IogBZgia1FKQAAAwB6QAAAAEUBn/l0R/8AAAMAAAMAAAMAAAMBiMeAimQeDYAJ2JGotywbPTBhyCb4JSACnIt4d15ojYHtVcF+oUyzx7omAkf/wAAAC2kAAAAmAZ/7akf/AAADAAADAAADAABHVe3rvl2aOAAACfO8qACpQAAACDgAAABiQZvgSahBbJlMCF///fEAAAMAAAMAAAMAAAMAAAMAAAjyviVew6sN28qrI+RzYParmE2NRYTEFB8ZgCqcUxM8jKzHkYtTGi9UKDT4AsXSCu6sGCC6FsYetzBJU611q/B3P40AAAA3QZ4eRRUsI/8AAAMAAAMAAAMAAAMAAAMAw3IZvaVEtFo1HLuS/qvo211JBb87qCU4/wPgAAAGVQAAADMBnj10R/8AAAMAAAMAAAMAAAMAAAMA811IRTIEDXLgsaTxDDxjUFR1XFEAdHJcnAAAMCAAAAArAZ4/akf/AAADAAADAAADAAADAAAtRQPhAAoUgNqCaQWM7kgo6UsAAAMBgQAAAHlBmiRJqEFsmUwIX//98QAAAwAAAwAAAwAAFqgV0GGM1C0qwgVNtn8OK+PClFKg93LvPWMdfADk5Q6O/6A+ffZ7wLVbEEmWs2ukyzNY1a5ozXUBSQdYr7HjPbKANOBMw2QJMnB4Gs8wh//uuBm4oE6Zg32tcgU6wcFAAAAARUGeQkUVLCP/AAADAAADAAADAAGH3CmCi03SpLhU/j6dtAk514EjlewZwaxveR4GBfNrqgA/fNJKE5HNckCfNBIAAAMBDwAAADgBnmF0R/8AAAMAAAMAAAMAAea6kIpkCBrmjOMzMP7h0ZTAPQWYsiOPGdzHKQAIQ4M2Ni0wAAAF3QAAADUBnmNqR/8AAAMAAAMAAAMAAAMAAAaXPx675djL94DuNa5FuFxNZBAAITsE7iw6fdnAAABDwAAAAGJBmmhJqEFsmUwIX//98QAAAwAAAwAAAwAAFq9u88GTQhJii9kAFqSZhee54+NctYiLZ31AAAF/W6gDRwYUFnhmOhCEUy6qeXjeM1T/QOJAK0X1avxzy6+EIiYKv2QO21FS2AAAADVBnoZFFSwj/wAAAwAAAwAAAwABiJCo1WBs1qkcmIAABugs6bnSJim6NXHOilNgzAAAAwDFgQAAAD8BnqV0R/8AAAMAAAMAAAMAAAMAAAMABUNJr5gBavWPPOgbnzewD/m8QPzWPCJ6P9PI9SuSgtU3bA77AAADAVMAAAAoAZ6nakf/AAADAAADAAADAAHmbEJELaZq6SjIAAADAsx5kKFAAAAIuQAAAHVBmqxJqEFsmUwIX//98QAAAwAAAwAAAwAAAwAR0v2HL2QAmqNx6UCzvKXFpwcloElA698e2mmoxHrky+Ath25hSAmAUGLjv5jjPom1hsaSVRxM6HvMZm++eiG6gP2XI06AjhCZ3WROdtHQtoRzKz+twAAABJwAAAA8QZ7KRRUsI/8AAAMAAAMAAAMAAYj9qIlBfrwdaMNtXKGKlUarJddTdhfQN7TrNqAEoVvjR60FpwAAAwI/AAAAOAGe6XRH/wAAAwAAAwAAAwAB5rqQimQIHf0w2iwLUV8fOWEcrKgeXp0ZC3lQCt4hKVkwscAAAEPBAAAAMAGe62pH/wAAAwAAAwAAAwAB5mxCMM2wAXD1jzzDmWXsAri4HAAAAwAAAwAAAwAD0wAAAFtBmvBJqEFsmUwIX//98QAAAwAAAwAAAwAAAwAAAwBNOcyKYAMdDAyB2avj25923bp1/qRiKz1fBrevi/eErYZZXLK4sTcNpMf+PBKVhNJG0XI0EmpIsy62OuZfAAAAS0GfDkUVLCP/AAADAAADAAADAAADAAAFQxijVYGzWqRuAeYAE7JksykUlt9VDy4Zv3uPPpyQQChWJ0NgqFEp/QSGEzL/T2lAAAAYEAAAAC0Bny10R/8AAAMAAAMAAAMAAAMAAAMAAMRjwEUzItqYQQkQG3TwlkRUAuAABGwAAAA7AZ8vakf/AAADAAADAAADAAHlNS1q92UJRogCJL/+WDBuI9rpeCYVFCAp/HlCC0RYDbb/sozcAAADAqcAAAB4QZs0SahBbJlMCF///fEAAAMAAAMAAAMAABaoFPbVd5/gCS2SAKW6v/x9BLDp8AGOtU8vnFmT1Git0oQP9a3+J1XQJJsP3unh7xEG21d7BDlhjDOiPgfxvHWyEWcdSjFlmyJp+N2ynES9wblhtUxeA5w3VIAAAGVAAAAAQ0GfUkUVLCP/AAADAAADAAADAAGH3CmCi03SpPUEAbmiGDRLo3UAjSFe8DtrS6ONmzpRdcHX9keF0yyCJqNOoAAACBgAAAA2AZ9xdEf/AAADAAADAAADAAHmupCKZAga5cFNiVmeLhkt/BsZBMFqnLqPE5blI6oXSEAAACPhAAAAMwGfc2pH/wAAAwAAAwAAAwAAAwAAAwD5B8gbdYMOyDpgHkD9B/4DREddcK0fdvNAAAAHzQAAAG5Bm3hJqEFsmUwIX//98QAAAwAAAwAAAwAAFq9u6/FQy8y0aUeARoMzmB9WenN+EHq7xvRYXxhSeA1dl8AirKI+omG4v8cGVm2YzdKvUlXochxqaiudrSuwaVy/nsMu4lQPal8EGJloEXqIo5XHgQAAADRBn5ZFFSwj/wAAAwAAAwAAAwABiJCo1WBs1qkcmIF9pWVQxWloqVqhbOMqApBy10AAABvwAAAAPAGftXRH/wAAAwAAAwAAAwAAAwAAAwDyk3vqseoB0AFoWqpU7ONTO/Q6TveXdGLwllxBWexaWcYWAAARcAAAADgBn7dqR/8AAAMAAAMAAAMAAeZsQkQtpmsXwkeAA2ei0bsWsvFfmvy6NtytEfFN8FnIUV1gAAAIeQAAAFtBm7xJqEFsmUwIX//98QAAAwAAAwAAAwAAAwAR72sJQ7TCK/Swafm3r81nRCzZnXk+U818rDaR2ZpC2U3vIS5dl1u0In3AMhyXrs1W+58p0NyNgkBOMqQAAGBAAAAAQ0Gf2kUVLCP/AAADAAADAAADAAGI/aiJQX9gUgAEp7BgLpDiY0NT8X17VyJmdCdx6jmMf0yBp11lalwDBx9PcAAAEXAAAAA2AZ/5dEf/AAADAAADAAADAAHmupCKZhznwwoQgvdYUgh/QOrnFeu20yKRHYwgAoB6u0AAAEXBAAAAQAGf+2pH/wAAAwAAAwAAAwAAR1Xuci2XOUAAAfNc8OOgA4coDnTSec8swEcn3wWyS9hAw9MozOwzI8rdZAAABlQAAABYQZvgSahBbJlMCF///fEAAAMAAAMAAAMAAAMAAp9P3QAOxxvQfQluBL4qkhiJy35qdE5QvIQ7bwT39rEBczp3k0NUrx3gp7/gHyvHpmVPznSNjbzJLRbJjQAAAFJBnh5FFSwj/wAAAwAAAwAAAwABh6nmk6fLf4AFoOtDmwxTqf4wYpqcWdmSJuTM7E/gM7OGmXkIZ/TaF8gBHMlBEefEgsqcNZL2VKn7LCAAACLhAAAAJgGePXRH/wAAAwAAAwAAAwAB5rqQimWlAAADAAZ5AaZ9TagAAAdMAAAARgGeP2pH/wAAAwAAAwAAAwAB5mxCP2ULYd7skYYAWC4F7YVHprhDFbMVTBsMMS04kBYMHugEIQXMMkQM+LhWLtMgAAADAzMAAABmQZokSahBbJlMCF///fEAAAMAAAMAAAMAABauQ0fl7/uc/cMYYnjokYd1wAaVWr0ABdIVdfN/KTgv185TwSzR1WxqOzwqP0VX9oDjrf6b/ekdfCS4ccdkoEN3aTFMXmauTMAAADPgAAAAOkGeQkUVLCP/AAADAAADAAADAAGH3CmCi03SpLiggAmY69zjwxMfiSeyb7AALXt3M0VmwMwAAAMAGpEAAAAzAZ5hdEf/AAADAAADAAADAAHmupCKY/Uq9QAtWS7ltW+JSZmlXxAAAM2noay1AAADACHhAAAAMAGeY2pH/wAAAwAAAwAAAwAAAwAAAwAFROfsKRt+fn5b/E6Ilw5sq3S5BFUFAAAVsAAAAH1BmmhJqEFsmUwIX//98QAAAwAAAwAAAwAAF15PrlVXFPitySFyN2kDXg+7IoT/KPWnCvaoTYUi3NWMjmQAabVo9LvKve2UVrTnmv+HaDsgsUy4cGNwrnmpptXS1dZV8KkrPSGjjUXxI+C/4RfpQeZStMzlLGmn3mpT7QxNEAAAAGpBnoZFFSwj/wAAAwAAAwAAAwABiJCo1WBs1qkbXjAaQpi1CtMVJAA3KaOBnOWXiOQ5TZwSkN8ue11mRuCCqUTV9jU+2YbidfAvtQPKEYXH7Fq4SPfcskoraEikDMZ9tRdJZb0Z3YAAAA2ZAAAAPwGepXRH/wAAAwAAAwAAAwAB5e+ZhOKV1ogAAbPlVkmQiFUAHD/NXykNq62eDo8Cwt3OmZo5BwvvZPMgAAAi4AAAAEQBnqdqR/8AAAMAAAMAAAMAAeZsQkQtpmrpI4O/CUyPc7iQNMZsSX76sqoiFzry8ana+a1AA470CKeer1sDbguAAAAyoQAAAGNBmqxJqEFsmUwIX//98QAAAwAAAwAAAwAAAwAAAwIN7WGq12U2jGIMBn2yLQnTrdSH7976phzzTG63fU7Q9jFvjdT7epe9sOdUzjgbT63vz1ogzYtj3vy7yrQRWPp3gAAAg4AAAABKQZ7KRRUsI/8AAAMAAAMAAAMAAAMAACOuU8CRJFVI2zRt28AazgBCvwovtqgoIwY8aOA/AESQjmxt7Tc72ychtiMuzOImSAAACLkAAABBAZ7pdEf/AAADAAADAAADAAADAAAtW+3PUyAt3KdbulgAK9+VKmjeOFs92SHPu2Ez4t3T+h9Ck/II03eJQAAAMqEAAABDAZ7rakf/AAADAAADAAADAAADAAADACSSikPABVaBPi8wgvQsSsTtyEARHQJn88HBAESjBVah6C1rAsMmgAAAAwAwIQAAAHFBmvBJqEFsmUwIX//98QAAAwAAAwAAAwAAFzgWTlrHrfYBSFZ6WE6cjwzv8LMpG7CBWuPGObzixHZ36y6XsTQtfFKiH9Oqvypfsf/9s43RVK0KZG5jo7R5dHSoEI+ALmJUIRtGmWHUjYTwdAAAAwBBwQAAAENBnw5FFSwj/wAAAwAAAwAAAwABked1ALsuj9CdYGA/hlgBxDmAfJkgl0OV3Zxcfhe85b7vL6DcJEg8TJWDXicgAAIuAAAAKQGfLXRH/wAAAwAAAwAAAwAB8cU55BzlFWiEUWzcxOAAAAMAAAMAACtgAAAAQQGfL2pH/wAAAwAAAwAAAwAAAwAIax2glVFWgOhln8QvgAsS2egPA7YHUUGQE3+xIiML7Fbk1kPRel12e5uAAAVNAAAAekGbNEmoQWyZTAhf//3xAAADAAADAAADAAAXP2758MZon8xKuGS5IaLvv5JNMNOADqpp5V1iRZ+HCpe6a8IDAAAL7hJ7dVT6qH4NSRNT9QlHiGHsQjicJ6YZkcvYe+BtYf9m1nv0CS6F4fhw3BcGg8D9cZ+QnjRAAARcAAAANkGfUkUVLCP/AAADAAADAAADAAGSlCs+25U5IjGg9yIAAERACznJbARGLQbb3/JgTQVUAABWwAAAAC8Bn3F0R/8AAAMAAAMAAAMAAAMAAAMAAAMAn9lYAF0yICDDhKcBhOeMrLOAAAAWUQAAADIBn3NqR/8AAAMAAAMAAAMAAfFzZ4AJxDQRAcH0hAAB3wBZZi7OY9n8IfZ93QJQAAAEnQAAAHtBm3hJqEFsmUwIX//98QAAAwAAAwAAAwAAAwASb2rMqavPJI202tBJZM57G0Qf7DQl/mA6MADU1z9LfT79/W3B6E/smILDhJ4H0abKaoxR2Sidn9tc7FhB006tFaxVT52UIFGqbJ6Yn8RfzQIXrnSKjSJK+uOAviaTtkEAAABHQZ+WRRUsI/8AAAMAAAMAAAMAAAMBPirwFN8TkOJeVqyiIMry2KPku/IExLKesCLq3YdvmxtoNieF1tDzxpxcjgyBeoAACtgAAABAAZ+1dEf/AAADAAADAAADAAADAZF05gwubFYuKiGuiuqx0vjfB8bqsfD5x237v5aZBn7eC8GcrnjG9AAAAwC7gAAAAC8Bn7dqR/8AAAMAAAMAAAMAAAMAAAMAAB0Gw9bxYvCFziyPxqa4+FQwfBLAAAAZ8QAAAD1Bm7lJqEFsmUwI//pYAAADAAADAAADAAADAAADAAAQAYuhf2eLNPx+ZgznjA8LtcGQLa+zYEpuvRvAAARMAAADW2WIhAA7//727L4FNf2f0JcRLMXaSnA+KqSAgHc0wAAAAwAAAwAAAwAAAwDlkyaEnPXbNt1AAAADAABKQACTgAKGAA0AAGoAA7gAJ0AB/AAZoAFEABcAAXgAF4AAAAMAAAMAAAMAAAMAAAMAAAMAAAMAAA2D/gpH1kBMNTZf7DAWk2iL7gu2JtPtjb355w0cuQVa/y1lxJFC1yyZC/cKROh/8LS2eH2cXZZtOPElaOsyARoBtTBnlCkABKteDvK7afVVsNR5gAAkK4ABs4wAE/oAAVl4ACCrhzf9OTnbbl9e0gADNnAAOqMAEtW6XvMUTCb6CfDnRdGNy9MlcEKzeh+UD4ZGdSsCAA9tUMridNvY05rzXWOr8yCaoKAARdtnkJU0eu2oABPakABv+MAUbOBgnRRn+oa1VHmNle9Sb1yZkQg0H2SDpe4Ym5Sgz7fa0rjwRo+wbGbbvtKkq5XmI6I82ozP38G15lXnqlvuYMM3O/fKfQvn9NJWqVH337jAYT5wuVKxa/FuBwh+x66SGz1X6MbwgVQqq1i/rreib+qUlSl7mqy/q1MwavJFP8eSY+f8McYADydOV4Sz0HmmnDNACJPd5JZpe79Yjg6aSE/KxQxwsnl8VMBQLliFj0ALqceYeeF0weK/KgrLNgBvKRKZNwmMgjL25EsDIoqMdye7sHqylUZ9K3zSDbEIPW8o1rBYR9sjmWpCZTy3QtELCofSL8cOxdqrerXQQnDskYK+2c6HcGfOLHGaeeBPyGQ3ILtqEDlpTvfNLkOMVdOTIYNdiEH1Qus7uyICOd+KdzR9QyYf8CI8jXGWxhGsSQ0aGEiZ/DmJCLDfyT7Puxw7Pv0+U9ZvHPROx4/dow4eVnN0zyycgLV6u6kk5ktpTMk8jDCQDa8WwMs/b+7VWnjeitE9oA9yQYqLTv/e0FLbK/8E8NkxCjqIqBzSZH5pimSoH869AcyaU6aWlRABAFhduRvD2AAAAwAAPCBRbIQD4T7ybAaeAAa4AAAXLhKvRakupKe8d64jE105GXCcGJItZXdRknOtt+11Yq2WcKISqiNkg90SgAAAbYAAAAMAAAMAAAMAAAMAAAMAAAMAAAMAAAMAAAMAAAMAAAMAAAMAAAMAAAMAAAMAAAMAREAAAAB0QZokbEL//fEAAAMAAAMAAAMAABc6vJzspQcMDkUTsg8VW1uFSUMjB7mXhzLbSTH4iUjpQuaWguaU8QCU0CjH+nz9r9EhZ0ESfK/YgVnuJTG0PSf72C3fn5ffcmnLwAE5Qw+FEjRtPvayBczb7s22GvUkzNEAAAA4QZ5CeIR/AAADAAADAAADAAGR53UAuy6P0J1gYBUDSWmDtojUEVPLEOrRFVkn510odC58IIAACLgAAABOAZ5hdEf/AAADAAADAAADAAHxxTnkHOUVaIRRbNufUPHTBuigAWsVRjU6VPJ+OODWZl5NKMXBdTCh/kVCOY1ZegS90WQNchd9Of2AAARdAAAAQQGeY2pH/wAAAwAAAwAAAwAAAwAAAwD10pJUA8s1EHRenHRIwkuP3kV1x5sTh1dsa+1KJ71NXN1wW5xnbekAABFxAAAAfkGaaEmoQWiZTAhf//3xAAADAAADAAADAAAXP273VXv0J3rcdx0ReIL1aV6c8oCZWCzsfZTOEr6Ei/AQE03bd0cZD+XgxumEzprd4CMWrFeqzMGwyfEgaWKnsLHD7cjzr8xo2XwEEEoa1DCvIRVS2kAJ7oGvIpwYLKbA5YYLgAAAAE5BnoZFESwj/wAAAwAAAwAAAwABkpQlFv9iZ+u2lgoKcPz9cGGF6xU3F2TkG9jBsMF2v/82WoHVNzhZNsahug6W+wAn4xZA9h10AAADARcAAABFAZ6ldEf/AAADAAADAAADAAHaK4r2Tw5YlJyO3ac8UH6WQAJaJGr49VBL/uaBiFlQyXk2Breenl28kBjFor0QAAADAImAAAAAWAGep2pH/wAAAwAAAwAAAwAB8XNngAnENBEDz53zAEyibsrCD5vvAdAEHcxyPqij6xa+NqUb95D3VSYaF66Ex+2VDN7WQr9KaaGdkASH0j9NS8MAAAMAYsEAAACOQZqsSahBbJlMCF///fEAAAMAAAMAAAMAABap5ZeiUp9aAwfmgpAWJIiYfMSC6JQqO52LqPjUfnsCBWuejYWKazHrn1s2SBsG2aeb3j3WcAJuQrh0q/4AqAR25NTiD5i0QRJxwXAuTpYeX9VsNQD8h0a2bOp6VvQUGkjCi9ilUQ8WGac44wttqXgAg7TrYQAAADZBnspFFSwj/wAAAwAAAwAAAwAAAwAGv3ywzv4IS70pQhWlOkyZ6hfA6xGyBBVmt0Zh8AAAqYAAAABKAZ7pdEf/AAADAAADAAADAAADAAhpB8OwubCCzRH2FPVoMALdzeDQP0wrvElBNL5XWp72tbUrwmX4yCC62xrozt7ulPenB4AABUwAAABBAZ7rakf/AAADAAADAAADAAADAAgvnqYAej4XxXAB+xUjqeH86yhHSK4pvGie3XzYGvx6NEEWJNJGRNYbYAAAPmEAAABNQZrwSahBbJlMCF///fEAAAMAAAMAAAMAABc4FPbVd5/gCS2SB9U+SwjNSZtPMfvrGxtmcPqsOA7koeVAO+ZERnXvcjmBaKHzu/HZOn8AAABGQZ8ORRUsI/8AAAMAAAMAAAMAAZHcKYKLTdKkuG0pLABK445udz/0OsdY4yiK0UkHOVCIfSEETYFttKV1AbmrQuT8AAAEHQAAACsBny10R/8AAAMAAAMAAAMAAfG6kIpkCBrlwUmdCKQAAAMBe9bCAAADAAFTAAAASQGfL2pH/wAAAwAAAwAAAwAAAwAIar29d/PvCAC8dSYZzuOEtq3dg2FCaOVhDnNGswlz6QA65gEjU+fI0nkiHYHYWKYngAAA+YEAAABfQZs0SahBbJlMCF///fEAAAMAAAMAAAMAAAMAArRxHYHqAAvUFrmrEwtlEobK+5SdoW3pJhJxA+g5q1X9SPzPvB83qLO7tGkRL3aqLr9UoSPIinS/YLzeojaNXVff3sEAAAA2QZ9SRRUsI/8AAAMAAAMAAAMAAAMALpjFGqwNmnEjhIikP0gh7o3CRNdNL+texoG+JYAAAIuBAAAAIQGfcXRH/wAAAwAAAwAAAwAAAwAAAwAAAwAAAwAAAwADPwAAAEABn3NqR/8AAAMAAAMAAAMAAfA1LWsPHcCsIAFmoAy7xIb+b1yBa89prUQodpwqVJwFBozWJQiXjNvpGAAAAwIuAAAASkGbeEmoQWyZTAhf//3xAAADAAADAAADAAAXOBT21Xef4Aktv0h4SrzOsLH6JNRfnzN2vuC8ulV5hxWYApW/BXuCe7F3LBWwtXAQAAAAOEGflkUVLCP/AAADAAADAAADAAGR3CmCi03SpLiXtksStwjxwWhcrWUhilgEuWfOzC0ji4AAAA45AAAALwGftXRH/wAAAwAAAwAAAwAB8bqQio+UALZjSYHcPg0Uj8zPSAAAAwAAAwAAAwMGAAAAMQGft2pH/wAAAwAAAwAAAwAAAwAIL56qJ9QrQCYTPMhAnpYHteGbaoZ0e4mxqAAACLgAAABpQZu8SahBbJlMCF///fEAAAMAAAMAAAMAABc/buvxUMvMtGhrOeMEKrv0SDZAF4LW7BN9VG1gNFrQkuayAC02pasbMHKwl8rIV2lZlAajwHXqYn+5kejBIIPm2+UuwbXo2+5e3oAAAPmBAAAAOUGf2kUVLCP/AAADAAADAAADAAGR3CmCi03SpLhU/j6c1HFBxtYS5e1zeJo2xzabBPoemgAAAwCNgQAAADYBn/l0R/8AAAMAAAMAAAMAAfG6kIpkCBrlwUjovoS+kFACWfADE52muaXH88AAAAMAAAMAjYEAAAAwAZ/7akf/AAADAAADAAADAAADAAADACS+U6RC2maukp5TjqnSY4sgwAViSQQAAEXAAAAAYUGb4EmoQWyZTAhf//3xAAADAAADAAADAAAXRpYisaBctXpSR1WaTS0+Pmld6H0Dz8FWybqV5AM9ROqsiwrzxjaLVZEz//ooYTubiRPLzw46dQl2QJyocE/v7gwAAAMABgwAAABQQZ4eRRUsI/8AAAMAAAMAAAMAAZKQqNVgbNapG14wG9kNFkFuI/nXG9nwATe+CBMLTY2s6sigSF4Oj+ThBJQ99iMtSpUyoIJYCugOQAAABG0AAAA3AZ49dEf/AAADAAADAAADAAADAAADACSkIChgAeMjrMnraLnoXucbbRZzdCPXxs7aip7DwAABhQAAAEcBnj9qR/8AAAMAAAMAAAMAAfFsQkQtpmrpI4OQVaV9duxJ2QAt2pVInNONhiJtFwSrsXqHkrt+GhAdPrBPieRKswAAAwAdUAAAAGJBmiRJqEFsmUwIX//98QAAAwAAAwAAAwAAAwAADo+ZwpYlwulR2pL+nI+MvkVaDvcTvCp1BBq7YaJs3clIkplqH0yERsB6UfZiTELeQtA2g6Ptwh6WyJQDm/ZD0QzGwAACLwAAADtBnkJFFSwj/wAAAwAAAwAAAwAAAwAA+EnYbIu0sMqiMPLWwRUbk2yqNsYHOJIWTkOd7qgwA8WAAAB8wAAAAC8BnmF0R/8AAAMAAAMAAAMAAAMAAT3cgSqx2ZBZowBSAowqhWxCaAx66QAAAwCzgQAAADIBnmNqR/8AAAMAAAMAAAMAAAMAAAa/Px67/CsZODh9LTcCiU82UpX6hl5RiUNYAAAPmQAAAE1BmmhJqEFsmUwIX//98QAAAwAAAwAAAwAAFzgU9tV3n+AJLZIApbq/GCIgBKvCoh37QIzv/lcABYlWFpNUfvR5RI/X1SI8J7XbgAAF3AAAAEBBnoZFFSwj/wAAAwAAAwAAAwABkdwpgotN0qS4eb5DkmMlG9A4HwLLklPsKdV4LrVUAHyLVJMGYhas6CgAABBxAAAAQwGepXRH/wAAAwAAAwAAAwAB8bqQimQIGuXBSDZyAANH+kjGQAc3nERinYlO4XNvNYLwMFBtdU+t9O/ZISwAAAMAA6oAAAA0AZ6nakf/AAADAAADAAADAAADAAhqvb13y7NX2u+hImyWMHkQqtvS55aXxKxGxniwAAAQcQAAAGRBmqxJqEFsmUwIX//98QAAAwAAAwAAAwAAAwASZXCZl515DRRij3y2AXycZeoqqar4zj3koqR8ueA8OQ1OwnrggmgcuT32WOJ2Jk9lByyqyCTRgD7OIhtwpcCpc8d8AAADAO6BAAAAQEGeykUVLCP/AAADAAADAAADAAADAT7GKNVgbNapFWgRkEMH4bJ7ryZHBcnzVgAE0315suLzhKQGpeTDQAAAWUAAAAA2AZ7pdEf/AAADAAADAAADAAADAAADAAAElp8SGdjSuggY+MQACGQ+JvoYfMZz5XY738wAAFJAAAAANwGe62pH/wAAAwAAAwAAAwAB8DUtaw8deYHeq5Ucab6UBCCOoc13TN1FG+qA3iaP7WqRIAAABB0AAABeQZrwSahBbJlMCF///fEAAAMAAAMAAAMAABc3txLnpkehDMMSMCwAAAMBT+s5zYj4ARkZ3EgfV26hIvII1SDB5PSpEZyE0iXTqHkuN6zh7rprbN5iRK5MmkGuAABEwAAAAEhBnw5FFSwj/wAAAwAAAwAAAwABkaw2zrPkwCQiHIrEtPUsW4zz4Wm8OLxP4gAAG6f8tFbld/8ZbfnsX1VbQ+/9whoAAAMANSEAAABHAZ8tdEf/AAADAAADAAADAAHxupBbXbABN7LS8e0AsPHtcD8Lou8AAAXNDpIiBxlbBqBjETxpBN/wp+PRRuBCK8AAAAMAqYAAAAAwAZ8vakf/AAADAAADAAADAAHxbEJELaZrqkAAAIuMQHEqIbQeYhCA9cjJwMgAABBxAAAAYkGbNEmoQWyZTAhf//3xAAADAAADAAADAAADABJvawlDtMIr9LBjXylSRvmhfDW+rP6B/F4/BjnLuKnsZ/T3KaAG2Ew+NbvtZeXH/ESb2Lx0lKTcPXXHZqTQCdblySQAAAUlAAAAQ0GfUkUVLCP/AAADAAADAAADAAADAT4rCYKLTdKkuFT+PpzSsppFswy8IvTBjKV8qAD5HZw8n9Na44TZ1CdfwAAAQcEAAAA4AZ9xdEf/AAADAAADAAADAAADAZF099VjyZscMboCpIIezYdWJoAfg76VBVGhn8vyVFPfQAAACykAAAAtAZ9zakf/AAADAAADAAADAAADAAADAAAEl9pZty5Y7Hq0302B/EbbxrIoAAFJAAAAfUGbeEmoQWyZTAhf//3xAAADAAADAAADAAAXOBS40jVpBkqcQAB2ddgvPdxdxrlpYna2zCKvmlYXIcymQnqr4HBnt7vpFJ4JvqwxPuaelrBkhXM2e5vzAc1PxSVRAGXok+6Mxh607XEWEI4Ndo/oyjaIbpoE0IOdsuyP6B5iAAAAQ0GflkUVLCP/AAADAAADAAADAAGSkKjVYGzWqRteMBpCqzKZc14GPWisbBvyzU7d0UEy8er/ZNkRD79erJjhYAAAFlEAAAA3AZ+1dEf/AAADAAADAAADAAADAAAunvYRTIEDXLgpBmmZiT3eiSSfWh5/7ErOdsbCaGiwAAAQcAAAADUBn7dqR/8AAAMAAAMAAAMAAfFsQkQtpmuxMvlYN5AUAAfyELWMocJyHsv/bH1UAAADAABnwAAAAGtBm7xJqEFsmUwIX//98QAAAwAAAwAAAwAAFz3TrthFrXQFWiYACpbJ4kFFPNvDdzawgA2fG8Acbkb5AWjk7sTCcRX3WJdW8bvYIZ2JYxZUMt1IRnPjA7vBuNJuSA7o8rH2ZimZ952AAAAFTQAAAFBBn9pFFSwj/wAAAwAAAwAAAwABkpCo1WBs1qkbXjAaQpinRroAABOgHHNsT+zXpdZMPdEgrC0OGSaPKa+TcZycoqsPg1ErHzXssKrSAAAJOQAAADsBn/l0R/8AAAMAAAMAAAMAAAMAAAMA+N1IRTIEDXLgsb0IY49J3DfQACFBNERc1On06BLypT80QAAGBQAAADkBn/tqR/8AAAMAAAMAAAMAAfFsQkQtpmrpI4OQTw3tqqxu5jX6mVduKwm+yh8jVDxAHutuAAADA9IAAACFQZvgSahBbJlMCF///fEAAAMAAAMAAAMAAAMAAAMAC6+nQKHYzu9IFhSZOoreWDRj4gsOfQFVoZEE2cH1cZ9kwBBilCOxasMpZvFRYzyNSo2CC4cQ5oVF/lg8mq7A3pfoNYIO8d7odjb6S1kddl99Gwn/d3I0JEwoI7UXiEz8nyJVYQacYAAAADxBnh5FFSwj/wAAAwAAAwAAAwAAAwAAAwDJXILfKtLmw8pmmjKoB2ZImusRAAsKNm6YZ++JX8vpFeAAAUkAAAA9AZ49dEf/AAADAAADAAADAAADAAADAPh3zMVDKkjaJaATtYmCgqa38c0C0AAmn0reIxwvQwJ+hAvCAAAh4AAAADMBnj9qR/8AAAMAAAMAAAMAAAMAAAMA+Dz8V3y7LaX4+Rh67XJFjXU+S923h+EMYAAABewAAACbQZokSahBbJlMCF///fEAAAMAAAMAAAMAABc4FPbVd5/gCS2SAKW6/4AqRNOY2lfua7XqkVfaA8CWcj1Q3H/z09wU14yAY2k5kOXiwWUlOcbIOEfiqEDOMK0fxWxNX6wSKkRkZR2Jl08CEAYN87n6COE18PsvUxcijCWjxec9JG2I7s7VYZdeaCqcGdPz2XSQDBnlHXokcBZvlfEAAABFQZ5CRRUsI/8AAAMAAAMAAAMAAZHcKYKLTdKkuFT+QDQIOm6xYu/AqVTT6Wp/od+XeS0YABNNlIQBThAZfAHOVwgAAAh4AAAASAGeYXRH/wAAAwAAAwAAAwAB8bqQimQIGuXBSDNLywAABc6lq10kp098Q7ZeubzWhhFCK4iPZXlIPKlMdE5VXpwteAAAAwCHgQAAAD4BnmNqR/8AAAMAAAMAAAMAAAMAAC6DGPXfLsZf//6VAAudSoLmhFT0qCID/OOMP+ZRUtFNTuBI4zIAAAMD/QAAAF9BmmhJqEFsmUwIX//98QAAAwAAAwAAAwAAFzgVJ9O53rbq/VY649TB/sgKiHsRIAAKRNE7wfwOSHxTUy3fAHaGfxZIiRorttXu5jcmhqfjX/Ehvm3ZhuIifgcOGla6+gAAADdBnoZFFSwj/wAAAwAAAwAAAwABkpCo1WBs1qkbXjAaQtAgAWkjQHVp76+NXpvNb2uCkcAAAAZ9AAAAPgGepXRH/wAAAwAAAwAAAwAAAwAAAwAk2iRADcio7mb6ZvorswsX2WDLuKMv7UcMFdLTbHKg+pYYcMAAAA6YAAAANAGep2pH/wAAAwAAAwAAAwAB8Hn4rvl2MvwOr1LxADVRplm+iS9iY7nLiQAARZbngAAACTkAAAB3QZqsSahBbJlMCF///fEAAAMAAAMAAAMAABc4FWmxiOiEI0W1GjxgJ82IVfqqdKEr04fCvkdKBG4LXT8ZpjLxsjDLpb62VAZJ0VV5mOQSNwNhPPv/XxQ5rI4+4gk+7gAaAzJA9l+yYsf/R3dCjVMXah+UQAAABL0AAAA6QZ7KRRUsI/8AAAMAAAMAAAMAAZKQqNVgbNapG15GRNFFoxL0pJL6GQ4IS2TW2u6T+8RgM2/AAAANSAAAADIBnul0R/8AAAMAAAMAAAMAAAMAAC57kCVWPJmxwxugKkj1XEeNIDuPME0WZ9gAAAMCHgAAACkBnutqR/8AAAMAAAMAAAMAAfFsQkQtpmrpI4PTEAAAvDVIUwAAAwAHTQAAAIVBmvBJqEFsmUwIX//98QAAAwAAAwAAAwAAAwACtenQhGKA+HSWFxFXX4mQzmCxyhMTBUo5XvG98b5RjBmb92B7IkJNtLblaq6RtrdPFpMyc1NCGgKuLk9cnlFtlne1gfzBKqD3mFFACd6QDQHuVZKbRSGe5pqTowUm/54KdRRQXlHDQvOAAAAAN0GfDkUVLCP/AAADAAADAAADAAADAC6FYTBRabpUlwqfx9OaZLwXA4HKog4+VgIaI8QasAAAHpEAAABCAZ8tdEf/AAADAAADAAADAAADADnk3vqsbSZIrhgCDwJTnROlY+iGeXaziyvxNWE3AHBM9RQNjZx1YC1qH5AAAB6QAAAAIwGfL2pH/wAAAwAAAwAAAwAAAwAAAwAAAwCc9ABQ8AAAAwFnAAAAVEGbNEmoQWyZTAhf//3xAAADAAADAAADAAAX0xZOWset9gFIVnpYTpyQD8rPNsABrW28rViFk/gn5ugvkMBHjRMGJIkT6ZHewWswr5gSCrNa+bOfYQAAAEhBn1JFFSwj/wAAAwAAAwAAAwABnJQrPtuVQdIYAN//vrtqKpW+J38pYU+/LwY+hc/rtjXCyf9mcqcUxw3dI8CcFtx7tYAABD0AAAA5AZ9xdEf/AAADAAADAAADAAH780mF6HxKV9NyZLnSELRCxzQaJsW75QlDmVQKgp+bjDXCi7GAAAQ9AAAAKAGfc2pH/wAAAwAAAwAAAwAB+4q8Rq1pR3wNAAADAFHQpYAAAAMAZUAAAAB8QZt4SahBbJlMCF///fEAAAMAAAMAAAMAABfY09GbN0T6WF12wRaFZgANN8HoKFBC+rRWq9/XWb4+hWeDyoyl5ubj/r6MjGG5Ik+iEPD0ZBoGUHiXkYcGlatr64poAIU1Yn8GEWiF3aKaHmaTmk8T1opeToHWtOfmWqQegAAAAEdBn5ZFFSwj/wAAAwAAAwAAAwABnJQrPtuVOSIx6awYjmYAAlonyojB31+qdOZYyveImZCzKUa90fzAarExQNhnMIpwAACkgQAAADQBn7V0R/8AAAMAAAMAAAMAAAMACLDleTkEBd64kFRgy/8Yxn1uWpPTzfrqoQvgNt4AABSQAAAAKwGft2pH/wAAAwAAAwAAAwAB/HNngAnENBEbDXMHIGmAjgAQGUkAAAMAAbUAAABnQZu8SahBbJlMCFf//eEAAAMAAAMAAAMAACWbnPw+s94llaEg4hNdL+tPii+86Glox4TzvSIKiLQ3LcAqnzhWzfpBGXSAlOyaUEEukdohiE49RoZSfdFmgDUWC36NbKy9pPDg9MVHoQAAAEtBn9pFFSwj/wAAAwAAAwAAAwABm+d1ALsuJPQYAJ184Lott1yEqSTzNO9sY21rF4O1lfqVnCSZjwelrMm+pWcXNiPcuiAAAAMAz4EAAAAxAZ/5dEf/AAADAAADAAADAAH8xTnkHOUOFYxAAAFFsOJSamiA0oDJ5FPlAAQAAAMBKwAAAEoBn/tqR/8AAAMAAAMAAAMAAAsQxSwWmNCl04qIMrk8bajb04KmapMNBgzs2Hy+kiOcAJqJGvGXMzEwFzVvAQ+LUlvnNwAAAwBDwAAAAHJBm+BJqEFsmUwIV//94QAAAwAAAwAAAwAAAwAAF/FfUFtfUC+ZIyClBrM3ijDzrxviDLl84npSxNTiFRXibmksjvSHriJB+AvasQLdL8QqlrA+YAtsVwJNkFCmJu/o7ZAqv6zd84OB3W9hnIyRiAF1AtAAAABJQZ4eRRUsI/8AAAMAAAMAAAMAAAMAAP4939AtypyRGPTWDEWYPHdrlAA+1cFm47lS37fHtRZcBWnUJ9/bFr92CC4fJrAAAAMDZwAAADABnj10R/8AAAMAAAMAAAMAAAMAAAMAAM5ju5OQQOcWgu64owt7JMJsNvEdxAAAu4AAAABDAZ4/akf/AAADAAADAAADAAH7NYxkCwopkCo6oAhjIONhlCTNDC/bZ/lrUtP3lD+81nCWog2bHVllXFs1wOIwAAAEPAAAAGFBmiRJqEFsmUwIT//8hAAAAwAAAwAAAwAAkmAnW7Dxd1SnHZi6mF41Z8vhS4oyydRv62HXb7fQq4AObnlHYAJ2OQwyesfj3ixSri1Acth45S2OSMx3eWngURaDRph2BtwzAAAASkGeQkUVLCP/AAADAAADAAADAAGb53UAuy6P0J1gYBUDSj3d8BAFctyjJJNDrQANq0foEvGlr1sQjL4Qy8mo29KJl1AjTgAAAwMWAAAAOgGeYXRH/wAAAwAAAwAAAwAB+zGT6UtIFhpCTC/PmgEjXGZ3rBm35/BCTOfQgGB9+0GZJZ0AAAMAUUEAAAA2AZ5jakf/AAADAAADAAADAAADAAAGwkShHAyfUel6Fpijo/cUyMmOgaNDugBuTtcl4PAAAKSBAAAAX0GaZkmoQWyZTBRMf/pYAAADAAADAAADAAEfjb8oHP6j4KPtb2BVkZWAvdJRqCgBIiv12K4ygA+M/hRo1H8X8dJBLDoag72yug0+2/hA5bL+T1TWKHKfClIo6IAAAMWAAAAARwGehWpH/wAAAwAAAwAAAwAB/GxCRC2mauknEIBAALRKEIvMKL4wV1gfXnfZDXIOw1JE4hWAv8TR2BOOLgVLOBWwAAADAJuBAAAfTW1vb3YAAABsbXZoZAAAAAAAAAAAAAAAAAAAA+gAACdCAAEAAAEAAAAAAAAAAAAAAAABAAAAAAAAAAAAAAAAAAAAAQAAAAAAAAAAAAAAAAAAQAAAAAAAAAAAAAAAAAAAAAAAAAAAAAAAAAAAAAAAAAIAAB53dHJhawAAAFx0a2hkAAAAAwAAAAAAAAAAAAAAAQAAAAAAACdCAAAAAAAAAAAAAAAAAAAAAAABAAAAAAAAAAAAAAAAAAAAAQAAAAAAAAAAAAAAAAAAQAAAAASwAAADIAAAAAAAJGVkdHMAAAAcZWxzdAAAAAAAAAABAAAnQgAAAgAAAQAAAAAd721kaWEAAAAgbWRoZAAAAAAAAAAAAAAAAAAAPAAAAlsAVcQAAAAAAC1oZGxyAAAAAAAAAAB2aWRlAAAAAAAAAAAAAAAAVmlkZW9IYW5kbGVyAAAAHZptaW5mAAAAFHZtaGQAAAABAAAAAAAAAAAAAAAkZGluZgAAABxkcmVmAAAAAAAAAAEAAAAMdXJsIAAAAAEAAB1ac3RibAAAAJZzdHNkAAAAAAAAAAEAAACGYXZjMQAAAAAAAAABAAAAAAAAAAAAAAAAAAAAAASwAyAASAAAAEgAAAAAAAAAAQAAAAAAAAAAAAAAAAAAAAAAAAAAAAAAAAAAAAAAAAAAABj//wAAADBhdmNDAWQAKP/hABhnZAAorNlASwZaEAAAAwAQAAAHgPGDGWABAAVo6+csiwAAABhzdHRzAAAAAAAAAAEAAAJbAAABAAAAABxzdHNzAAAAAAAAAAMAAAABAAAA+wAAAfUAABLYY3R0cwAAAAAAAAJZAAAAAQAAAgAAAAABAAAFAAAAAAEAAAIAAAAAAQAAAAAAAAABAAABAAAAAAEAAAUAAAAAAQAAAgAAAAABAAAAAAAAAAEAAAEAAAAAAQAABQAAAAABAAACAAAAAAEAAAAAAAAAAQAAAQAAAAABAAAFAAAAAAEAAAIAAAAAAQAAAAAAAAABAAABAAAAAAEAAAUAAAAAAQAAAgAAAAABAAAAAAAAAAEAAAEAAAAAAQAABQAAAAABAAACAAAAAAEAAAAAAAAAAQAAAQAAAAABAAAFAAAAAAEAAAIAAAAAAQAAAAAAAAABAAABAAAAAAEAAAUAAAAAAQAAAgAAAAABAAAAAAAAAAEAAAEAAAAAAQAABQAAAAABAAACAAAAAAEAAAAAAAAAAQAAAQAAAAABAAAFAAAAAAEAAAIAAAAAAQAAAAAAAAABAAABAAAAAAEAAAUAAAAAAQAAAgAAAAABAAAAAAAAAAEAAAEAAAAAAQAABQAAAAABAAACAAAAAAEAAAAAAAAAAQAAAQAAAAABAAAFAAAAAAEAAAIAAAAAAQAAAAAAAAABAAABAAAAAAEAAAUAAAAAAQAAAgAAAAABAAAAAAAAAAEAAAEAAAAAAQAABQAAAAABAAACAAAAAAEAAAAAAAAAAQAAAQAAAAABAAAFAAAAAAEAAAIAAAAAAQAAAAAAAAABAAABAAAAAAEAAAUAAAAAAQAAAgAAAAABAAAAAAAAAAEAAAEAAAAAAQAABQAAAAABAAACAAAAAAEAAAAAAAAAAQAAAQAAAAABAAAFAAAAAAEAAAIAAAAAAQAAAAAAAAABAAABAAAAAAEAAAUAAAAAAQAAAgAAAAABAAAAAAAAAAEAAAEAAAAAAQAABQAAAAABAAACAAAAAAEAAAAAAAAAAQAAAQAAAAABAAAFAAAAAAEAAAIAAAAAAQAAAAAAAAABAAABAAAAAAEAAAUAAAAAAQAAAgAAAAABAAAAAAAAAAEAAAEAAAAAAQAABQAAAAABAAACAAAAAAEAAAAAAAAAAQAAAQAAAAABAAAFAAAAAAEAAAIAAAAAAQAAAAAAAAABAAABAAAAAAEAAAUAAAAAAQAAAgAAAAABAAAAAAAAAAEAAAEAAAAAAQAABQAAAAABAAACAAAAAAEAAAAAAAAAAQAAAQAAAAABAAAFAAAAAAEAAAIAAAAAAQAAAAAAAAABAAABAAAAAAEAAAUAAAAAAQAAAgAAAAABAAAAAAAAAAEAAAEAAAAAAQAABQAAAAABAAACAAAAAAEAAAAAAAAAAQAAAQAAAAABAAAFAAAAAAEAAAIAAAAAAQAAAAAAAAABAAABAAAAAAEAAAUAAAAAAQAAAgAAAAABAAAAAAAAAAEAAAEAAAAAAQAABQAAAAABAAACAAAAAAEAAAAAAAAAAQAAAQAAAAABAAAFAAAAAAEAAAIAAAAAAQAAAAAAAAABAAABAAAAAAEAAAUAAAAAAQAAAgAAAAABAAAAAAAAAAEAAAEAAAAAAQAABQAAAAABAAACAAAAAAEAAAAAAAAAAQAAAQAAAAABAAAFAAAAAAEAAAIAAAAAAQAAAAAAAAABAAABAAAAAAEAAAUAAAAAAQAAAgAAAAABAAAAAAAAAAEAAAEAAAAAAQAABQAAAAABAAACAAAAAAEAAAAAAAAAAQAAAQAAAAABAAAFAAAAAAEAAAIAAAAAAQAAAAAAAAABAAABAAAAAAEAAAUAAAAAAQAAAgAAAAABAAAAAAAAAAEAAAEAAAAAAQAABQAAAAABAAACAAAAAAEAAAAAAAAAAQAAAQAAAAABAAAFAAAAAAEAAAIAAAAAAQAAAAAAAAABAAABAAAAAAEAAAUAAAAAAQAAAgAAAAABAAAAAAAAAAEAAAEAAAAAAQAABQAAAAABAAACAAAAAAEAAAAAAAAAAQAAAQAAAAABAAAFAAAAAAEAAAIAAAAAAQAAAAAAAAABAAABAAAAAAEAAAUAAAAAAQAAAgAAAAABAAAAAAAAAAEAAAEAAAAAAQAABQAAAAABAAACAAAAAAEAAAAAAAAAAQAAAQAAAAABAAAFAAAAAAEAAAIAAAAAAQAAAAAAAAABAAABAAAAAAEAAAUAAAAAAQAAAgAAAAABAAAAAAAAAAEAAAEAAAAAAQAABQAAAAABAAACAAAAAAEAAAAAAAAAAQAAAQAAAAABAAAFAAAAAAEAAAIAAAAAAQAAAAAAAAABAAABAAAAAAEAAAUAAAAAAQAAAgAAAAABAAAAAAAAAAEAAAEAAAAAAQAABQAAAAABAAACAAAAAAEAAAAAAAAAAQAAAQAAAAABAAAFAAAAAAEAAAIAAAAAAQAAAAAAAAABAAABAAAAAAEAAAUAAAAAAQAAAgAAAAABAAAAAAAAAAEAAAEAAAAAAQAABQAAAAABAAACAAAAAAEAAAAAAAAAAQAAAQAAAAABAAAFAAAAAAEAAAIAAAAAAQAAAAAAAAABAAABAAAAAAEAAAUAAAAAAQAAAgAAAAABAAAAAAAAAAEAAAEAAAAAAQAABQAAAAABAAACAAAAAAEAAAAAAAAAAQAAAQAAAAABAAAFAAAAAAEAAAIAAAAAAQAAAAAAAAABAAABAAAAAAEAAAUAAAAAAQAAAgAAAAABAAAAAAAAAAEAAAEAAAAAAgAAAgAAAAABAAAFAAAAAAEAAAIAAAAAAQAAAAAAAAABAAABAAAAAAEAAAUAAAAAAQAAAgAAAAABAAAAAAAAAAEAAAEAAAAAAQAABQAAAAABAAACAAAAAAEAAAAAAAAAAQAAAQAAAAABAAAFAAAAAAEAAAIAAAAAAQAAAAAAAAABAAABAAAAAAEAAAUAAAAAAQAAAgAAAAABAAAAAAAAAAEAAAEAAAAAAQAABQAAAAABAAACAAAAAAEAAAAAAAAAAQAAAQAAAAABAAAFAAAAAAEAAAIAAAAAAQAAAAAAAAABAAABAAAAAAEAAAUAAAAAAQAAAgAAAAABAAAAAAAAAAEAAAEAAAAAAQAABQAAAAABAAACAAAAAAEAAAAAAAAAAQAAAQAAAAABAAAFAAAAAAEAAAIAAAAAAQAAAAAAAAABAAABAAAAAAEAAAUAAAAAAQAAAgAAAAABAAAAAAAAAAEAAAEAAAAAAQAABQAAAAABAAACAAAAAAEAAAAAAAAAAQAAAQAAAAABAAAFAAAAAAEAAAIAAAAAAQAAAAAAAAABAAABAAAAAAEAAAUAAAAAAQAAAgAAAAABAAAAAAAAAAEAAAEAAAAAAQAABQAAAAABAAACAAAAAAEAAAAAAAAAAQAAAQAAAAABAAAFAAAAAAEAAAIAAAAAAQAAAAAAAAABAAABAAAAAAEAAAUAAAAAAQAAAgAAAAABAAAAAAAAAAEAAAEAAAAAAQAABQAAAAABAAACAAAAAAEAAAAAAAAAAQAAAQAAAAABAAAFAAAAAAEAAAIAAAAAAQAAAAAAAAABAAABAAAAAAEAAAUAAAAAAQAAAgAAAAABAAAAAAAAAAEAAAEAAAAAAQAABQAAAAABAAACAAAAAAEAAAAAAAAAAQAAAQAAAAABAAAFAAAAAAEAAAIAAAAAAQAAAAAAAAABAAABAAAAAAEAAAUAAAAAAQAAAgAAAAABAAAAAAAAAAEAAAEAAAAAAQAABQAAAAABAAACAAAAAAEAAAAAAAAAAQAAAQAAAAABAAAFAAAAAAEAAAIAAAAAAQAAAAAAAAABAAABAAAAAAEAAAUAAAAAAQAAAgAAAAABAAAAAAAAAAEAAAEAAAAAAQAABQAAAAABAAACAAAAAAEAAAAAAAAAAQAAAQAAAAABAAAFAAAAAAEAAAIAAAAAAQAAAAAAAAABAAABAAAAAAEAAAUAAAAAAQAAAgAAAAABAAAAAAAAAAEAAAEAAAAAAQAABQAAAAABAAACAAAAAAEAAAAAAAAAAQAAAQAAAAABAAAFAAAAAAEAAAIAAAAAAQAAAAAAAAABAAABAAAAAAEAAAUAAAAAAQAAAgAAAAABAAAAAAAAAAEAAAEAAAAAAQAABQAAAAABAAACAAAAAAEAAAAAAAAAAQAAAQAAAAABAAAFAAAAAAEAAAIAAAAAAQAAAAAAAAABAAABAAAAAAEAAAUAAAAAAQAAAgAAAAABAAAAAAAAAAEAAAEAAAAAAQAABQAAAAABAAACAAAAAAEAAAAAAAAAAQAAAQAAAAABAAAFAAAAAAEAAAIAAAAAAQAAAAAAAAABAAABAAAAAAEAAAUAAAAAAQAAAgAAAAABAAAAAAAAAAEAAAEAAAAAAQAABQAAAAABAAACAAAAAAEAAAAAAAAAAQAAAQAAAAABAAAFAAAAAAEAAAIAAAAAAQAAAAAAAAABAAABAAAAAAEAAAUAAAAAAQAAAgAAAAABAAAAAAAAAAEAAAEAAAAAAQAABQAAAAABAAACAAAAAAEAAAAAAAAAAQAAAQAAAAABAAAFAAAAAAEAAAIAAAAAAQAAAAAAAAABAAABAAAAAAEAAAUAAAAAAQAAAgAAAAABAAAAAAAAAAEAAAEAAAAAAQAABQAAAAABAAACAAAAAAEAAAAAAAAAAQAAAQAAAAABAAAFAAAAAAEAAAIAAAAAAQAAAAAAAAABAAABAAAAAAEAAAUAAAAAAQAAAgAAAAABAAAAAAAAAAEAAAEAAAAAAQAABQAAAAABAAACAAAAAAEAAAAAAAAAAQAAAQAAAAABAAAFAAAAAAEAAAIAAAAAAQAAAAAAAAABAAABAAAAAAEAAAUAAAAAAQAAAgAAAAABAAAAAAAAAAEAAAEAAAAAAQAABQAAAAABAAACAAAAAAEAAAAAAAAAAQAAAQAAAAABAAAFAAAAAAEAAAIAAAAAAQAAAAAAAAABAAABAAAAAAEAAAUAAAAAAQAAAgAAAAABAAAAAAAAAAEAAAEAAAAAAQAABQAAAAABAAACAAAAAAEAAAAAAAAAAQAAAQAAAAABAAAFAAAAAAEAAAIAAAAAAQAAAAAAAAABAAABAAAAAAEAAAUAAAAAAQAAAgAAAAABAAAAAAAAAAEAAAEAAAAAAQAABQAAAAABAAACAAAAAAEAAAAAAAAAAQAAAQAAAAABAAAFAAAAAAEAAAIAAAAAAQAAAAAAAAABAAABAAAAAAEAAAUAAAAAAQAAAgAAAAABAAAAAAAAAAEAAAEAAAAAAQAABQAAAAABAAACAAAAAAEAAAAAAAAAAQAAAQAAAAABAAAFAAAAAAEAAAIAAAAAAQAAAAAAAAABAAABAAAAAAEAAAUAAAAAAQAAAgAAAAABAAAAAAAAAAEAAAEAAAAAAgAAAgAAAAABAAAFAAAAAAEAAAIAAAAAAQAAAAAAAAABAAABAAAAAAEAAAUAAAAAAQAAAgAAAAABAAAAAAAAAAEAAAEAAAAAAQAABQAAAAABAAACAAAAAAEAAAAAAAAAAQAAAQAAAAABAAAFAAAAAAEAAAIAAAAAAQAAAAAAAAABAAABAAAAAAEAAAUAAAAAAQAAAgAAAAABAAAAAAAAAAEAAAEAAAAAAQAABQAAAAABAAACAAAAAAEAAAAAAAAAAQAAAQAAAAABAAAFAAAAAAEAAAIAAAAAAQAAAAAAAAABAAABAAAAAAEAAAUAAAAAAQAAAgAAAAABAAAAAAAAAAEAAAEAAAAAAQAABQAAAAABAAACAAAAAAEAAAAAAAAAAQAAAQAAAAABAAAFAAAAAAEAAAIAAAAAAQAAAAAAAAABAAABAAAAAAEAAAUAAAAAAQAAAgAAAAABAAAAAAAAAAEAAAEAAAAAAQAABQAAAAABAAACAAAAAAEAAAAAAAAAAQAAAQAAAAABAAAFAAAAAAEAAAIAAAAAAQAAAAAAAAABAAABAAAAAAEAAAUAAAAAAQAAAgAAAAABAAAAAAAAAAEAAAEAAAAAAQAABQAAAAABAAACAAAAAAEAAAAAAAAAAQAAAQAAAAABAAAFAAAAAAEAAAIAAAAAAQAAAAAAAAABAAABAAAAAAEAAAUAAAAAAQAAAgAAAAABAAAAAAAAAAEAAAEAAAAAAQAABQAAAAABAAACAAAAAAEAAAAAAAAAAQAAAQAAAAABAAAFAAAAAAEAAAIAAAAAAQAAAAAAAAABAAABAAAAAAEAAAUAAAAAAQAAAgAAAAABAAAAAAAAAAEAAAEAAAAAAQAABQAAAAABAAACAAAAAAEAAAAAAAAAAQAAAQAAAAABAAAFAAAAAAEAAAIAAAAAAQAAAAAAAAABAAABAAAAAAEAAAUAAAAAAQAAAgAAAAABAAAAAAAAAAEAAAEAAAAAAQAABQAAAAABAAACAAAAAAEAAAAAAAAAAQAAAQAAAAABAAAFAAAAAAEAAAIAAAAAAQAAAAAAAAABAAABAAAAAAEAAAMAAAAAAQAAAQAAAAAcc3RzYwAAAAAAAAABAAAAAQAAAlsAAAABAAAJgHN0c3oAAAAAAAAAAAAAAlsAAAVRAAAAmQAAAGkAAABoAAAAPAAAAJQAAABPAAAARwAAAD0AAADTAAAAeQAAAFkAAABtAAAA4gAAAIgAAABSAAAAeAAAALUAAABvAAAAZQAAAFsAAACKAAAAZAAAAGsAAABgAAAAqQAAAFwAAABcAAAAQQAAAJAAAABRAAAAUgAAAFoAAACBAAAAUwAAAF4AAABMAAAAbAAAADoAAABFAAAAQwAAAHYAAABNAAAANQAAAFEAAACTAAAAQAAAADAAAAA5AAAAfQAAAJgAAABcAAAAaQAAAIgAAACdAAAAegAAAFMAAACFAAAAhQAAAFgAAABNAAAAdAAAAGkAAABlAAAASAAAAGAAAABBAAAAOgAAADYAAABLAAAAVwAAAFIAAAA9AAAAfgAAAFcAAABVAAAASwAAAGkAAABMAAAAUwAAAD0AAABmAAAAcwAAAEQAAAA/AAAAWAAAAEIAAABLAAAANwAAAEkAAABUAAAAQQAAAEAAAABZAAAAOwAAAEkAAAAzAAAARQAAAFYAAAA/AAAASAAAAGMAAAA/AAAATAAAADgAAABVAAAAZQAAAEwAAABMAAAAbAAAAEsAAABVAAAAOQAAAHoAAAA9AAAATAAAACcAAACAAAAAUQAAADUAAABDAAAAbAAAADYAAAA5AAAAJwAAAGkAAABPAAAANgAAADoAAABhAAAARwAAAE4AAAAvAAAAagAAAEsAAABFAAAANQAAAJQAAABHAAAANgAAAEIAAABRAAAANwAAAFAAAAAmAAAAXQAAAEQAAAA0AAAAQwAAAFsAAAA1AAAASQAAACcAAABxAAAAXwAAADcAAABSAAAAdAAAAEYAAABSAAAAMAAAAG8AAABLAAAAQQAAAC4AAABkAAAARAAAAEIAAAAzAAAAZwAAAEIAAABBAAAAKAAAAFcAAABOAAAANgAAAE0AAABMAAAAPgAAAEIAAAA3AAAAXwAAAFsAAAA3AAAASwAAAHoAAACSAAAAPgAAAGAAAABnAAAAXQAAAH4AAABFAAAAWQAAAFsAAAAzAAAAOAAAAE8AAAA6AAAAQAAAAEAAAABsAAAATgAAAFwAAABJAAAAmwAAAFQAAABFAAAAWgAAAHgAAABmAAAAUwAAAEEAAAB4AAAATAAAAEQAAAA7AAAAiwAAAFYAAABCAAAARwAAAGsAAABCAAAANwAAAE4AAAA7AAAAXgAAAEwAAAA+AAAAdQAAAEIAAAAqAAAAPgAAAFQAAABBAAAATQAAADQAAABgAAAAOgAAAD4AAABBAAAAVQAAADgAAAA0AAAARgAAADwAAABQAAAAQwAAADQAAABJAAACmAAAAFEAAABWAAAAOAAAADcAAABuAAAAOwAAAC4AAABBAAAAUAAAAEkAAAA5AAAAOAAAAHIAAABZAAAAQgAAAEkAAABlAAAAUgAAADgAAABBAAAAXAAAAD4AAAAsAAAARAAAAFAAAABOAAAANwAAADAAAABMAAAAPQAAAD4AAAA/AAAAUgAAADgAAAAzAAAAOAAAADsAAAA/AAAAQwAAADQAAABXAAAAPwAAAC0AAAA6AAAAbgAAAE0AAAA6AAAALQAAAHEAAABNAAAAPgAAAEIAAABFAAAARAAAADMAAAA6AAAARwAAAD8AAAAtAAAAOAAAAEgAAABkAAAAPgAAADMAAABWAAAARAAAAEAAAAAwAAAAXAAAADwAAAA1AAAARAAAAFAAAABgAAAAQgAAADMAAACdAAAASwAAAD0AAABGAAAAjAAAAEMAAAA8AAAAMgAAAIIAAABZAAAASQAAAEYAAAA9AAAAVwAAAEIAAAA1AAAAWQAAAD0AAAA8AAAAOAAAAFcAAAA1AAAAMwAAACYAAABXAAAATwAAAEUAAAA8AAAAXQAAAEQAAABFAAAARQAAAG0AAABCAAAAQQAAAEYAAABYAAAAUQAAAEQAAAA2AAAAYQAAAEoAAABbAAAAOAAAAF4AAAA4AAAAMQAAAFQAAABIAAAASgAAADUAAAAzAAAAdQAAAFIAAABJAAAAPQAAAI0AAABlAAAARwAAAFMAAAB1AAAAQwAAAD4AAABDAAAAZAAAAFwAAABEAAAAPgAAAIEAAAA+AAAAOgAAAE0AAACCAAAARQAAADUAAAA/AAAAlQAAAGIAAABGAAAAYwAAAKMAAABNAAAAPAAAAEsAAACaAAAAXwAAAF4AAABGAAAAnAAAAFsAAABTAAAAUQAAAI0AAAB+AAAAXwAAAEsAAABsAAAAaQAAAFMAAABHAAAAXgAAAEkAAABiAAAARwAAAGEAAAA+AAAAQgAAADYAAABNAAAAOwAAAEkAAAAqAAAAZgAAADsAAAA3AAAALwAAAH0AAABJAAAAPAAAADkAAABmAAAAOQAAAEMAAAAsAAAAeQAAAEAAAAA8AAAANAAAAF8AAABPAAAAMQAAAD8AAAB8AAAARwAAADoAAAA3AAAAcgAAADgAAABAAAAAPAAAAF8AAABHAAAAOgAAAEQAAABcAAAAVgAAACoAAABKAAAAagAAAD4AAAA3AAAANAAAAIEAAABuAAAAQwAAAEgAAABnAAAATgAAAEUAAABHAAAAdQAAAEcAAAAtAAAARQAAAH4AAAA6AAAAMwAAADYAAAB/AAAASwAAAEQAAAAzAAAAQQAAA18AAAB4AAAAPAAAAFIAAABFAAAAggAAAFIAAABJAAAAXAAAAJIAAAA6AAAATgAAAEUAAABRAAAASgAAAC8AAABNAAAAYwAAADoAAAAlAAAARAAAAE4AAAA8AAAAMwAAADUAAABtAAAAPQAAADoAAAA0AAAAZQAAAFQAAAA7AAAASwAAAGYAAAA/AAAAMwAAADYAAABRAAAARAAAAEcAAAA4AAAAaAAAAEQAAAA6AAAAOwAAAGIAAABMAAAASwAAADQAAABmAAAARwAAADwAAAAxAAAAgQAAAEcAAAA7AAAAOQAAAG8AAABUAAAAPwAAAD0AAACJAAAAQAAAAEEAAAA3AAAAnwAAAEkAAABMAAAAQgAAAGMAAAA7AAAAQgAAADgAAAB7AAAAPgAAADYAAAAtAAAAiQAAADsAAABGAAAAJwAAAFgAAABMAAAAPQAAACwAAACAAAAASwAAADgAAAAvAAAAawAAAE8AAAA1AAAATgAAAHYAAABNAAAANAAAAEcAAABlAAAATgAAAD4AAAA6AAAAYwAAAEsAAAAUc3RjbwAAAAAAAAABAAAAMAAAAGJ1ZHRhAAAAWm1ldGEAAAAAAAAAIWhkbHIAAAAAAAAAAG1kaXJhcHBsAAAAAAAAAAAAAAAALWlsc3QAAAAlqXRvbwAAAB1kYXRhAAAAAQAAAABMYXZmNTguMjAuMTAw\" type=\"video/mp4\">\n",
       "        Your browser does not support the video tag.\n",
       "    </video>"
      ],
      "text/plain": [
       "<IPython.core.display.HTML object>"
      ]
     },
     "execution_count": 31,
     "metadata": {},
     "output_type": "execute_result"
    }
   ],
   "source": [
    "num_episodes = 3\n",
    "video_filename = 'imageio.mp4'\n",
    "with imageio.get_writer(video_filename, fps=60) as video:\n",
    "    for _ in range(num_episodes):\n",
    "        time_step = eval_env.reset()\n",
    "        video.append_data(eval_py_env.render())\n",
    "        while not time_step.is_last():\n",
    "            action_step = tf_agent.policy.action(time_step)\n",
    "            time_step = eval_env.step(action_step.action)\n",
    "            video.append_data(eval_py_env.render())\n",
    "\n",
    "embed_mp4(video_filename)"
   ]
  },
  {
   "cell_type": "code",
   "execution_count": null,
   "metadata": {},
   "outputs": [],
   "source": []
  }
 ],
 "metadata": {
  "kernelspec": {
   "display_name": "Python 3",
   "language": "python",
   "name": "python3"
  },
  "language_info": {
   "codemirror_mode": {
    "name": "ipython",
    "version": 3
   },
   "file_extension": ".py",
   "mimetype": "text/x-python",
   "name": "python",
   "nbconvert_exporter": "python",
   "pygments_lexer": "ipython3",
   "version": "3.7.4"
  }
 },
 "nbformat": 4,
 "nbformat_minor": 2
}
