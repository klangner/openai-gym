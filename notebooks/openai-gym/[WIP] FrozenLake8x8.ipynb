{
 "cells": [
  {
   "cell_type": "markdown",
   "metadata": {},
   "source": [
    "# FrozenLake 8x8 - QTable\n",
    "\n",
    "**(This doesn't work yet)**\n",
    "\n",
    "This environment has 256 states. Because of this E-Greedy Agent takes a lot of episoded to learn the correct policy.\n",
    "To speed it up in this notebook we use UCB Agent. Based on Upper-Confidence-Bound Action Selection.\n",
    "For more information check [Sutton book](http://incompleteideas.net/sutton/book/bookdraft2016sep.pdf).\n",
    "\n",
    "For this tutorial we will use [Frozen Lake 8x8](https://gym.openai.com/envs/FrozenLake8x8-v0).\n",
    "\n",
    "### Solved\n",
    "FrozenLake is solved if moving average over window size 100 is >= 0.99"
   ]
  },
  {
   "cell_type": "code",
   "execution_count": 1,
   "metadata": {},
   "outputs": [],
   "source": [
    "import logging\n",
    "import numpy as np\n",
    "import matplotlib.pyplot as plt\n",
    "import gym\n",
    "from gym import wrappers\n",
    "\n",
    "logging.getLogger('gym').setLevel(logging.WARNING)"
   ]
  },
  {
   "cell_type": "markdown",
   "metadata": {},
   "source": [
    "## Helper functions"
   ]
  },
  {
   "cell_type": "code",
   "execution_count": 22,
   "metadata": {},
   "outputs": [],
   "source": [
    "def moving_average(xs, n=100):\n",
    "    ret = np.cumsum(xs, dtype=float)\n",
    "    ret[n:] = ret[n:] - ret[:-n]\n",
    "    return ret[n - 1:] / n\n",
    "\n",
    "def find_index(xs, v):\n",
    "    \"\"\"Find index of the first value equal or greater then v\"\"\"\n",
    "    for i in range(len(xs)):\n",
    "        if xs[i] >= v:\n",
    "            return i\n",
    "    return -1\n",
    "\n",
    "def run_env(agent, env, num_episodes):\n",
    "    rewards = []\n",
    "    for episode in range(num_episodes):\n",
    "        s = env.reset()\n",
    "        agent.start_episode()\n",
    "        total_reward = 0\n",
    "        done = False\n",
    "        while not done:\n",
    "            a = agent.choose_action(s, episode)\n",
    "            s2, reward, done, _ = env.step(a)        \n",
    "            agent.learn(s, a, reward, s2, done)\n",
    "            total_reward += reward\n",
    "            s = s2\n",
    "        agent.end_episode(s, reward)\n",
    "        rewards.append(total_reward)\n",
    "\n",
    "    return rewards"
   ]
  },
  {
   "cell_type": "markdown",
   "metadata": {},
   "source": [
    "## Explore environment"
   ]
  },
  {
   "cell_type": "code",
   "execution_count": 3,
   "metadata": {},
   "outputs": [
    {
     "name": "stdout",
     "output_type": "stream",
     "text": [
      "[[ 683.  317.    0.    0.    0.    0.    0.    0.]\n",
      " [   0.    0.    0.    0.    0.    0.    0.    0.]\n",
      " [   0.    0.    0.    0.    0.    0.    0.    0.]\n",
      " [   0.    0.    0.    0.    0.    0.    0.    0.]\n",
      " [   0.    0.    0.    0.    0.    0.    0.    0.]\n",
      " [   0.    0.    0.    0.    0.    0.    0.    0.]\n",
      " [   0.    0.    0.    0.    0.    0.    0.    0.]\n",
      " [   0.    0.    0.    0.    0.    0.    0.    0.]]\n"
     ]
    }
   ],
   "source": [
    "env = gym.make('FrozenLake8x8-v0')        \n",
    "states = np.zeros(64)\n",
    "for i in range(1000):\n",
    "    s = env.reset()\n",
    "    action = 3\n",
    "    s2, reward, done, _ = env.step(action)\n",
    "    states[s2] += 1\n",
    "#     print('%d: state=%d, action=%d, end_state=%d' % (i, s, action, s2))\n",
    "print(states.reshape((8,8)))\n",
    "env.close()"
   ]
  },
  {
   "cell_type": "markdown",
   "metadata": {},
   "source": [
    "## Monte Carlo Agent\n",
    "\n",
    "MC agent learns from the whole episodes.\n",
    "It consists of 2 steps:\n",
    " * Evaluation - where we trace single episode using current policy $\\pi$\n",
    " * Improvement - Where we improve our policy to greedy one"
   ]
  },
  {
   "cell_type": "code",
   "execution_count": 38,
   "metadata": {},
   "outputs": [],
   "source": [
    "class MCAgent:\n",
    "    \n",
    "    def __init__(self, num_states, num_actions, alpha=0.1):\n",
    "        self.qtable = np.zeros([num_states, num_actions])\n",
    "        self.num_actions = num_actions\n",
    "        self.gamma = 0.99\n",
    "        self.alpha = alpha\n",
    "        \n",
    "    def start_episode(self):\n",
    "        \"\"\" Initialize (state,action) and received rewards\n",
    "        \"\"\"\n",
    "        self.sa = []\n",
    "        self.rewards = []\n",
    "        \n",
    "    def choose_action(self, state, _):\n",
    "        \"\"\"Follow greedy policy\"\"\"\n",
    "        return np.argmax(self.qtable[state,:])\n",
    "        \n",
    "    def learn(self, state, action, reward, next_state, done):\n",
    "        \"\"\" Remember (state,action) and reward\n",
    "            The environment returns rewards 1 if solved and 0 otherwise\n",
    "            Modify it so we focus on solving in minimal steps\n",
    "        \"\"\"\n",
    "        self.sa.append((state,action))\n",
    "        if done:\n",
    "            if reward > 0:\n",
    "                self.rewards.append(100)\n",
    "            else:\n",
    "                self.rewards.append(-100)\n",
    "        else:\n",
    "            self.rewards.append(-1)\n",
    "                \n",
    "    def end_episode(self, state, reward):\n",
    "        \"\"\" Last state reached. \"\"\"\n",
    "        n = len(self.sa)\n",
    "        g = 0\n",
    "        for i in reversed(range(n)):\n",
    "            (s,a) = self.sa[i]\n",
    "            g += self.rewards[i] + self.gamma**i*g\n",
    "            self.qtable[s,a] = self.qtable[s,a] - self.alpha*(self.qtable[s,a]-g)\n",
    "        self.qtable[state,:] = 100 if reward > 0 else -100\n",
    "        \n",
    "    def values(self):\n",
    "        return self.qtable.max(axis=1)        \n",
    "    \n",
    "    def policy(self):\n",
    "        return self.qtable.argmax(axis=1)            "
   ]
  },
  {
   "cell_type": "markdown",
   "metadata": {},
   "source": [
    "## Train agent\n",
    "\n",
    "Messing with the rewards:\n",
    "\n",
    "  * If we don't change reward then the probability of randomly finding solution is very low. \n",
    "    And the QTable learning will be very slow. And since there are 256 states, the propagation of\n",
    "    value is very slow\n",
    "  * By modifying reward we can try to at least try to not fall into the hole"
   ]
  },
  {
   "cell_type": "code",
   "execution_count": 39,
   "metadata": {},
   "outputs": [
    {
     "name": "stdout",
     "output_type": "stream",
     "text": [
      "Found solution 4 times\n",
      "[[ -3.989e+15  -1.770e+19  -1.885e+12  -1.608e+09  -9.348e+09  -4.807e+10\n",
      "   -1.815e+13  -1.366e+13]\n",
      " [ -5.327e+13  -1.395e+13  -4.726e+14  -1.435e+12  -3.966e+10  -7.215e+09\n",
      "   -9.254e+11  -6.676e+12]\n",
      " [ -4.282e+12  -6.603e+13  -5.610e+11  -1.000e+02  -2.381e+08  -6.674e+08\n",
      "   -7.423e+10  -1.306e+09]\n",
      " [ -3.587e+11  -2.753e+12  -2.127e+08  -1.493e+05  -1.479e+03  -1.000e+02\n",
      "   -2.156e+07  -2.966e+08]\n",
      " [ -3.104e+04  -1.090e+05  -7.013e+04  -1.000e+02  -2.674e+03  -3.359e+04\n",
      "   -1.145e+05  -3.787e+05]\n",
      " [ -2.937e+03  -1.000e+02  -1.000e+02  -1.224e+02  -6.568e+02  -8.662e+02\n",
      "   -1.000e+02  -9.947e+02]\n",
      " [ -2.530e+05  -1.000e+02  -1.719e+01  -1.715e+01  -1.000e+02  -1.816e+02\n",
      "   -1.000e+02  -3.079e+01]\n",
      " [ -2.532e+04  -1.571e+02  -4.509e+01  -1.000e+02   0.000e+00   0.000e+00\n",
      "    0.000e+00   1.000e+02]]\n",
      "Policy:\n",
      "[[2 1 1 1 1 0 0 0]\n",
      " [1 1 3 1 0 0 1 3]\n",
      " [1 3 1 0 1 0 2 1]\n",
      " [1 2 3 3 2 0 0 0]\n",
      " [1 1 1 0 0 0 2 3]\n",
      " [3 0 0 3 0 3 0 1]\n",
      " [3 0 3 2 0 2 0 1]\n",
      " [3 3 3 0 1 1 0 0]]\n"
     ]
    },
    {
     "data": {
      "text/plain": [
       "[<matplotlib.lines.Line2D at 0x7ff118f8bc50>]"
      ]
     },
     "execution_count": 39,
     "metadata": {},
     "output_type": "execute_result"
    },
    {
     "data": {
      "image/png": "[encoded data removed]",
      "text/plain": [
       "<matplotlib.figure.Figure at 0x7ff118d97828>"
      ]
     },
     "metadata": {},
     "output_type": "display_data"
    }
   ],
   "source": [
    "# Environment\n",
    "env = gym.make('FrozenLake8x8-v0')\n",
    "# Agent\n",
    "agent = MCAgent(env.observation_space.n, env.action_space.n, 0.09)\n",
    "rewards = []\n",
    "total_rewards = 0\n",
    "for episode in range(int(1e4)):\n",
    "    s = env.reset()\n",
    "    agent.start_episode()\n",
    "    done = False\n",
    "    while not done:\n",
    "        a = agent.choose_action(s, episode)\n",
    "        s2, reward, done, _ = env.step(a)   \n",
    "        agent.learn(s, a, reward, s2, done)\n",
    "        s = s2\n",
    "    agent.end_episode(s, reward)\n",
    "    total_rewards += reward\n",
    "    rewards.append(total_rewards)\n",
    "    \n",
    "print('Found solution %d times' % total_rewards)        \n",
    "np.set_printoptions(precision=3)\n",
    "np.set_printoptions(suppress=True)\n",
    "print(agent.values().reshape(8,8))\n",
    "print(\"Policy:\")\n",
    "print(agent.policy().reshape(8,8))\n",
    "env.close()    \n",
    "plt.plot(rewards)"
   ]
  },
  {
   "cell_type": "code",
   "execution_count": 26,
   "metadata": {},
   "outputs": [
    {
     "name": "stdout",
     "output_type": "stream",
     "text": [
      "Max score: 0.030000\n",
      "Not solved\n"
     ]
    },
    {
     "data": {
      "image/png": "[encoded data removed]",
      "text/plain": [
       "<matplotlib.figure.Figure at 0x7ff121a107b8>"
      ]
     },
     "metadata": {},
     "output_type": "display_data"
    },
    {
     "name": "stdout",
     "output_type": "stream",
     "text": [
      "Max Q value:\n",
      "[[-111.464 -112.954 -111.585 -110.757 -109.983 -107.542 -110.702 -112.72 ]\n",
      " [-110.282 -109.989 -107.946 -109.968 -108.423 -106.114 -107.876 -107.674]\n",
      " [-107.01  -105.784 -103.678 -100.    -101.282 -101.393 -102.876 -100.709]\n",
      " [-105.303 -103.824 -102.631 -100.397 -101.019 -100.    -100.024  -99.672]\n",
      " [-102.657 -101.422 -100.519 -100.    -103.448 -100.84  -100.07  -100.201]\n",
      " [-102.586 -100.    -100.    -100.761 -102.283  -89.787 -100.     -70.173]\n",
      " [-102.42  -100.    -100.629 -100.421 -100.     -63.984 -100.      -5.778]\n",
      " [-102.873 -100.986 -101.146 -100.     -35.472  -24.108   70.417  100.   ]]\n",
      "Policy:\n",
      "[[1 2 0 1 3 0 2 1]\n",
      " [2 1 1 0 2 1 2 2]\n",
      " [1 1 1 0 1 1 1 1]\n",
      " [2 1 1 2 3 0 1 1]\n",
      " [1 1 1 0 3 2 1 1]\n",
      " [1 0 0 0 2 0 0 0]\n",
      " [2 0 3 1 0 1 0 1]\n",
      " [2 2 3 0 2 2 1 0]]\n"
     ]
    }
   ],
   "source": [
    "# Learning parameters\n",
    "num_episodes = int(1e6)\n",
    "solved_score = 0.99\n",
    "# Environment\n",
    "env = gym.make('FrozenLake8x8-v0')\n",
    "# Agent\n",
    "agent = MCAgent(env.observation_space.n, env.action_space.n)\n",
    "# run simulation\n",
    "rewards = run_env(agent, env, num_episodes)\n",
    "env.close()\n",
    "# Show summary\n",
    "averaged_rewards = moving_average(rewards)    \n",
    "idx = find_index(averaged_rewards, solved_score)\n",
    "print('Max score: %f' % np.max(averaged_rewards))\n",
    "if idx >= 0:\n",
    "    print('Solved after {} episodes'.format(idx+1))\n",
    "else:\n",
    "    print('Not solved')\n",
    "\n",
    "plt.plot(averaged_rewards)\n",
    "plt.show()\n",
    "print(\"Max Q value:\")\n",
    "print(agent.values().reshape(8,8))\n",
    "print(\"Policy:\")\n",
    "print(agent.policy().reshape(8,8))"
   ]
  }
 ],
 "metadata": {
  "anaconda-cloud": {},
  "kernelspec": {
   "display_name": "Python 3",
   "language": "python",
   "name": "python3"
  },
  "language_info": {
   "codemirror_mode": {
    "name": "ipython",
    "version": 3
   },
   "file_extension": ".py",
   "mimetype": "text/x-python",
   "name": "python",
   "nbconvert_exporter": "python",
   "pygments_lexer": "ipython3",
   "version": "3.7.2"
  }
 },
 "nbformat": 4,
 "nbformat_minor": 1
}
