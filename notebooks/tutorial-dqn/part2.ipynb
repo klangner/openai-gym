{
 "cells": [
  {
   "cell_type": "markdown",
   "metadata": {},
   "source": [
    "# Let’s make a DQN: Debugging\n",
    "\n",
    "https://gym.openai.com/envs/MountainCar-v0/\n",
    "\n",
    "Some useful resources:\n",
    "  * https://jaromiru.com/2016/10/12/lets-make-a-dqn-debugging/"
   ]
  },
  {
   "cell_type": "code",
   "execution_count": 1,
   "metadata": {},
   "outputs": [],
   "source": [
    "import numpy as np\n",
    "import matplotlib.pyplot as plt\n",
    "import gym\n",
    "from tensorflow.keras import models, layers, optimizers\n",
    "from replay_buffer import ReplayBuffer\n",
    "from IPython.display import clear_output\n",
    "%matplotlib inline"
   ]
  },
  {
   "cell_type": "markdown",
   "metadata": {},
   "source": [
    "# 1. Explore environment"
   ]
  },
  {
   "cell_type": "code",
   "execution_count": 2,
   "metadata": {},
   "outputs": [
    {
     "name": "stdout",
     "output_type": "stream",
     "text": [
      "Observation shape: (2,)\n",
      "Number of actions: 2\n",
      "Example state: [-0.54055684  0.        ]\n"
     ]
    },
    {
     "data": {
      "text/plain": [
       "<matplotlib.image.AxesImage at 0x145abe9b0>"
      ]
     },
     "execution_count": 2,
     "metadata": {},
     "output_type": "execute_result"
    },
    {
     "data": {
      "image/png": "[encoded data removed]",
      "text/plain": [
       "<Figure size 432x288 with 1 Axes>"
      ]
     },
     "metadata": {
      "needs_background": "light"
     },
     "output_type": "display_data"
    }
   ],
   "source": [
    "#spawn game instance for tests\n",
    "env = gym.make(\"MountainCar-v0\").env #create raw env\n",
    "\n",
    "observation_shape = env.observation_space.shape\n",
    "n_actions = 2 # We simplify to left and right action\n",
    "\n",
    "print(\"Observation shape: {}\".format(observation_shape))\n",
    "print(\"Number of actions: {}\".format(n_actions))\n",
    "\n",
    "print(\"Example state: {}\".format(env.reset()))\n",
    "plt.imshow(env.render('rgb_array'))"
   ]
  },
  {
   "cell_type": "markdown",
   "metadata": {},
   "source": [
    "## 1.1. How many random steps are needed to solve it"
   ]
  },
  {
   "cell_type": "code",
   "execution_count": 3,
   "metadata": {},
   "outputs": [
    {
     "name": "stdout",
     "output_type": "stream",
     "text": [
      "Mean number of steps: 16801.3 (std=15607.085269517816)\n"
     ]
    }
   ],
   "source": [
    "def solve_randomly():\n",
    "    env.reset()\n",
    "    for step in range(100_000):\n",
    "        a = np.random.choice([0, 2])\n",
    "        s_next, r, done, info = env.step(a)\n",
    "        if done:\n",
    "            break\n",
    "    return step\n",
    "            \n",
    "## Look for 10 solution using random policy\n",
    "solution_steps = []\n",
    "for _ in range(10):\n",
    "    steps = solve_randomly()\n",
    "    solution_steps.append(steps)\n",
    "    \n",
    "print('Mean number of steps: {} (std={})'.format(np.mean(solution_steps), np.std(solution_steps)))"
   ]
  },
  {
   "cell_type": "markdown",
   "metadata": {},
   "source": [
    "# 2. Prepare\n",
    "\n",
    "## 2.1. Hyperparameters"
   ]
  },
  {
   "cell_type": "code",
   "execution_count": 7,
   "metadata": {},
   "outputs": [],
   "source": [
    "LEARNING_RATE = 0.0003\n",
    "REPLAY_BUFFER_SIZE = 100_000\n",
    "\n",
    "BATCH_SIZE = 64\n",
    "\n",
    "GAMMA = 0.99\n",
    "\n",
    "MAX_EPSILON = 1\n",
    "MIN_EPSILON = 0.1\n",
    "LAMBDA = 0.001      # speed of the decay"
   ]
  },
  {
   "cell_type": "markdown",
   "metadata": {},
   "source": [
    "## 2.2. Helper functions\n",
    "\n",
    "### 2.2.1. Normalize environment"
   ]
  },
  {
   "cell_type": "code",
   "execution_count": 8,
   "metadata": {},
   "outputs": [],
   "source": [
    "# Encode action\n",
    "def encode_action(a):\n",
    "    return a if a == 0 else 2\n",
    "\n"
   ]
  },
  {
   "cell_type": "markdown",
   "metadata": {},
   "source": [
    "## 2.2.2. Memory buffer and training set\n",
    "\n",
    "#FIXME: Check if reward is calculated correctly"
   ]
  },
  {
   "cell_type": "code",
   "execution_count": 9,
   "metadata": {},
   "outputs": [
    {
     "name": "stdout",
     "output_type": "stream",
     "text": [
      "Ok!\n"
     ]
    }
   ],
   "source": [
    "def build_training_set(qvalues, qvalues_next, actions, rewards, dones, gamma=0.99):\n",
    "    \"\"\"\n",
    "    Create training set for QNetwork.\n",
    "    Params:\n",
    "      qvalues           - Q values for the starting state\n",
    "      qvalues_next      - Q values for the state the next state\n",
    "      actions           - Actions taken\n",
    "      rewards           - Rewards received after taking action \n",
    "      dones             - Did this action end the episode?\n",
    "      \n",
    "    Returns:\n",
    "      Expected qvalues\n",
    "    \"\"\"\n",
    "    y = qvalues.copy()\n",
    "    next_rewards = np.where(dones, np.zeros(rewards.shape), np.max(qvalues_next, axis=1))\n",
    "    y[np.arange(y.shape[0]), actions] = rewards + gamma * next_rewards\n",
    "    return y\n",
    "\n",
    "\n",
    "# Some tests\n",
    "qvalues = np.zeros((5, n_actions))\n",
    "qvalues2 = np.ones((5, n_actions))\n",
    "actions = np.array([0, 1, 0, 1, 0])\n",
    "rewards = np.array([1, 2, 3, 4, 5])\n",
    "dones = np.array([False, False, False, False, True])\n",
    "expected_y = np.array([[2, 0], [0, 3], [4, 0], [0, 5], [5, 0]])\n",
    "y = build_training_set(qvalues, qvalues2, actions, rewards, dones, 1.0)\n",
    "assert np.array_equal(y, expected_y), 'Wrong expected qvalue calculated'\n",
    "print('Ok!')"
   ]
  },
  {
   "cell_type": "markdown",
   "metadata": {},
   "source": [
    "## 2.3. DQN Agent\n",
    "\n",
    "### 2.3.1. Define Policy Network"
   ]
  },
  {
   "cell_type": "code",
   "execution_count": 11,
   "metadata": {},
   "outputs": [
    {
     "data": {
      "text/plain": [
       "array([0.10341555, 0.08274443], dtype=float32)"
      ]
     },
     "execution_count": 11,
     "metadata": {},
     "output_type": "execute_result"
    }
   ],
   "source": [
    "class QNetwork:\n",
    "    \n",
    "    def __init__(self, input_shape, n_actions, alpha=LEARNING_RATE):\n",
    "        self.input_shape = input_shape\n",
    "        self.output_shape = n_actions\n",
    "        self.alpha = alpha\n",
    "        self.model = self._build_network()\n",
    "\n",
    "    def _build_network(self):\n",
    "        model = models.Sequential()\n",
    "        model.add(layers.InputLayer(self.input_shape))\n",
    "        model.add(layers.Dense(64, activation='relu'))\n",
    "        model.add(layers.Dense(self.output_shape, activation='linear'))\n",
    "        opt = optimizers.RMSprop(lr=self.alpha)\n",
    "        model.compile(loss='mse', optimizer=opt)\n",
    "        return model\n",
    "    \n",
    "    def predict(self, state):\n",
    "        \"\"\"Make prediction for single state and return q values for all actions\"\"\"\n",
    "        s = np.expand_dims(state, axis=0)\n",
    "        return self.model.predict(s)[0]\n",
    "    \n",
    "    def predict_batch(self, states):\n",
    "        \"\"\"Make prediction for list of states\"\"\"\n",
    "        return self.model.predict(states)\n",
    "    \n",
    "    def train(self, x, y):\n",
    "        self.model.fit(x, y, batch_size=64, verbose=0)\n",
    "\n",
    "        \n",
    "network = QNetwork(observation_shape, n_actions)\n",
    "network.predict(env.reset())"
   ]
  },
  {
   "cell_type": "markdown",
   "metadata": {},
   "source": [
    "### 2.3.2 Define Agent"
   ]
  },
  {
   "cell_type": "code",
   "execution_count": 12,
   "metadata": {},
   "outputs": [
    {
     "data": {
      "text/plain": [
       "1"
      ]
     },
     "execution_count": 12,
     "metadata": {},
     "output_type": "execute_result"
    }
   ],
   "source": [
    "class DQNAgent:\n",
    "    \n",
    "    def __init__(self, network, replays=ReplayBuffer(REPLAY_BUFFER_SIZE)):\n",
    "        self.memory_capacity = 100000\n",
    "        self.epsilon_min = 0.01\n",
    "        self.epsilon_max = 0.01\n",
    "        self.epsilon_lambda = 0.001\n",
    "        self.batch_size = 64\n",
    "        self.epsilon = self.epsilon_max        \n",
    "        self.model = network\n",
    "        self.replays = replays\n",
    "        self.step = 0\n",
    "        \n",
    "    def collect_policy(self, state):\n",
    "        if np.random.rand() < self.epsilon:\n",
    "            action = np.random.randint(0, network.output_shape)\n",
    "        else:\n",
    "            qvalues = self.model.predict(state)\n",
    "            action = np.argmax(qvalues)\n",
    "            self.step += 1\n",
    "        self.epsilon = self.epsilon_min + (self.epsilon_max-self.epsilon_min) * np.power(np.e, self.epsilon_lambda*self.step)\n",
    "        return action\n",
    "    \n",
    "    def add_observation(self, state, action, reward, next_state, is_done):\n",
    "        self.replays.add(state, action, reward, next_state, is_done)\n",
    "        \n",
    "    def train(self):\n",
    "        states, actions, rewards, states_next, dones = self.replays.sample(self.batch_size)\n",
    "        qvalues = self.model.predict_batch(states)\n",
    "        qvalues_next = self.model.predict_batch(states_next)\n",
    "        y = build_training_set(qvalues, qvalues_next, actions, rewards, dones)\n",
    "        self.model.train(states, y)\n",
    "    \n",
    "    \n",
    "network = QNetwork(observation_shape, n_actions)\n",
    "agent = DQNAgent(network)\n",
    "s1 = env.reset()\n",
    "a = agent.policy(s1)\n",
    "s2, r, d, _ = env.step(a)\n",
    "agent.add_observation(s1, a, r, s2, d)\n",
    "agent.train()\n",
    "a"
   ]
  },
  {
   "cell_type": "markdown",
   "metadata": {},
   "source": [
    "## 2.4. Training loops"
   ]
  },
  {
   "cell_type": "code",
   "execution_count": 26,
   "metadata": {},
   "outputs": [
    {
     "data": {
      "text/plain": [
       "[-100.0]"
      ]
     },
     "execution_count": 26,
     "metadata": {},
     "output_type": "execute_result"
    }
   ],
   "source": [
    "def train_on_episode(env, agent, t_max=1000):\n",
    "    \n",
    "    states,actions = [],[]\n",
    "    total_reward = 0\n",
    "    \n",
    "    state = env.reset()\n",
    "    \n",
    "    for t in range(t_max):\n",
    "        action = agent.collect_policy(state)\n",
    "        encoded_action = encode_action(action)\n",
    "        next_state, reward, done, info = env.step(encoded_action)\n",
    "        agent.add_observation(state, action, reward, next_state, done)\n",
    "        agent.train()\n",
    "        total_reward += reward\n",
    "        state = next_state\n",
    "        if done: break\n",
    "            \n",
    "    return total_reward\n",
    "\n",
    "\n",
    "def train_agent(env, agent, max_episodes=2000, t_max=200, solved=199.0):\n",
    "\n",
    "    #generate new sessions\n",
    "    rewards = []\n",
    "    for i in range(1, max_episodes+1):\n",
    "        session_reward = train_on_episode(env, agent, t_max)\n",
    "        rewards.append(session_reward)\n",
    "        if i % 100 == 0:\n",
    "            mean_score = np.mean(rewards[-100:])\n",
    "            clear_output(True)\n",
    "            print('Step: {}, mean reward: {}'.format(i, mean_score))\n",
    "            plt.plot(rewards)\n",
    "            plt.show()\n",
    "            if mean_score > solved:\n",
    "                print(\"Solved in {} steps\".format(i))\n",
    "                break\n",
    "    return rewards\n",
    "\n",
    "# Test\n",
    "agent = RandomAgent(n_actions)\n",
    "train_agent(env, agent, max_episodes=1, t_max=100, solved=-90)"
   ]
  },
  {
   "cell_type": "markdown",
   "metadata": {},
   "source": [
    "## 3. Debugging\n",
    "\n",
    "### 3.1. Generate episodes using random policy"
   ]
  },
  {
   "cell_type": "code",
   "execution_count": 25,
   "metadata": {},
   "outputs": [
    {
     "name": "stdout",
     "output_type": "stream",
     "text": [
      "Solved 9 times\n"
     ]
    }
   ],
   "source": [
    "replays = ReplayBuffer(REPLAY_BUFFER_SIZE)\n",
    "env.reset()\n",
    "dones = 0\n",
    "for step in range(REPLAY_BUFFER_SIZE):\n",
    "    a = np.random.choice([0, 2])\n",
    "    s_next, r, done, info = env.step(a)\n",
    "    if done:\n",
    "        dones += 1\n",
    "        env.reset()\n",
    "            \n",
    "print('Solved {} times'.format(dones))"
   ]
  },
  {
   "cell_type": "markdown",
   "metadata": {},
   "source": [
    "### 3.2. Train inital agent"
   ]
  },
  {
   "cell_type": "code",
   "execution_count": null,
   "metadata": {},
   "outputs": [],
   "source": []
  },
  {
   "cell_type": "markdown",
   "metadata": {},
   "source": [
    "### 3.3. Q function visualization"
   ]
  },
  {
   "cell_type": "code",
   "execution_count": null,
   "metadata": {},
   "outputs": [],
   "source": []
  },
  {
   "cell_type": "markdown",
   "metadata": {},
   "source": [
    "### 3.4. Value function visualization"
   ]
  },
  {
   "cell_type": "code",
   "execution_count": null,
   "metadata": {},
   "outputs": [],
   "source": []
  }
 ],
 "metadata": {
  "kernelspec": {
   "display_name": "Python 3",
   "language": "python",
   "name": "python3"
  },
  "language_info": {
   "codemirror_mode": {
    "name": "ipython",
    "version": 3
   },
   "file_extension": ".py",
   "mimetype": "text/x-python",
   "name": "python",
   "nbconvert_exporter": "python",
   "pygments_lexer": "ipython3",
   "version": "3.7.2"
  }
 },
 "nbformat": 4,
 "nbformat_minor": 2
}
